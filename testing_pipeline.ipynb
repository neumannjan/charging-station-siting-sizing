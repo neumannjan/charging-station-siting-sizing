{
 "cells": [
  {
   "cell_type": "code",
   "execution_count": 1,
   "metadata": {},
   "outputs": [],
   "source": [
    "%matplotlib ipympl\n",
    "import iteround\n",
    "import lib.optimize as opt\n",
    "import lib.simulation as sim\n",
    "import lib.budget as budget\n",
    "import lib.budget as budget\n",
    "import lib.utils as utils\n",
    "import lib.geo as geo\n",
    "import lib.clustering as clustering\n",
    "import lib.pipeline as pipeline\n",
    "import lib.optimize.common as opt_common\n",
    "import pandas as pd\n",
    "import numpy as np\n",
    "import geopandas as gpd\n",
    "import seaborn\n",
    "import functools\n",
    "import itertools\n",
    "import multiprocessing\n",
    "import typing\n",
    "import os\n",
    "from multiprocessing import Pool, cpu_count\n",
    "from datetime import datetime, timedelta, date\n",
    "from dateutil.relativedelta import relativedelta\n",
    "import json\n",
    "import matplotlib.pyplot as plt\n",
    "import matplotlib as mpl\n",
    "import networkx as nx\n",
    "from tqdm.auto import tqdm\n",
    "import lib.traffic as trf\n",
    "\n",
    "seaborn.set_theme(context='paper', style='white', font_scale=.85)"
   ]
  },
  {
   "cell_type": "code",
   "execution_count": 2,
   "metadata": {},
   "outputs": [],
   "source": [
    "DATASET_NAME = \"data\"\n",
    "COMPUTED_PERSISTENCE_DIR = \"computed\"\n",
    "TEMPORARY_DIR = \"tmp\"\n",
    "\n",
    "def fname(what: str, temporary: bool = False) -> str:\n",
    "    directory = TEMPORARY_DIR if temporary else COMPUTED_PERSISTENCE_DIR\n",
    "    return f\"{directory}/{DATASET_NAME}-{what}.pgz\""
   ]
  },
  {
   "cell_type": "markdown",
   "metadata": {},
   "source": [
    "# Load Data"
   ]
  },
  {
   "cell_type": "code",
   "execution_count": 3,
   "metadata": {},
   "outputs": [],
   "source": [
    "charging_stations = utils.gzip_pickle_load('charging_stations.gz')\n",
    "station_distances_mtx = utils.gzip_pickle_load('station_distances_mtx.gz')\n",
    "traffic_full = utils.gzip_pickle_load('traffic_full.gz')"
   ]
  },
  {
   "cell_type": "code",
   "execution_count": 10,
   "metadata": {},
   "outputs": [
    {
     "data": {
      "text/html": [
       "<div>\n",
       "<style scoped>\n",
       "    .dataframe tbody tr th:only-of-type {\n",
       "        vertical-align: middle;\n",
       "    }\n",
       "\n",
       "    .dataframe tbody tr th {\n",
       "        vertical-align: top;\n",
       "    }\n",
       "\n",
       "    .dataframe thead th {\n",
       "        text-align: right;\n",
       "    }\n",
       "</style>\n",
       "<table border=\"1\" class=\"dataframe\">\n",
       "  <thead>\n",
       "    <tr style=\"text-align: right;\">\n",
       "      <th></th>\n",
       "      <th>vehicle</th>\n",
       "      <th>station</th>\n",
       "      <th>arrival</th>\n",
       "      <th>departure</th>\n",
       "      <th>lon</th>\n",
       "      <th>lat</th>\n",
       "      <th>station_distance</th>\n",
       "      <th>x</th>\n",
       "      <th>y</th>\n",
       "    </tr>\n",
       "  </thead>\n",
       "  <tbody>\n",
       "    <tr>\n",
       "      <th>111046</th>\n",
       "      <td>567730</td>\n",
       "      <td>29</td>\n",
       "      <td>2019-03-01 00:11:51</td>\n",
       "      <td>2019-03-01 01:56:34</td>\n",
       "      <td>redacted</td>\n",
       "      <td>redacted</td>\n",
       "      <td>263.130912</td>\n",
       "      <td>redacted</td>\n",
       "      <td>redacted</td>\n",
       "    </tr>\n",
       "    <tr>\n",
       "      <th>63331</th>\n",
       "      <td>559851</td>\n",
       "      <td>10</td>\n",
       "      <td>2019-03-01 00:21:06</td>\n",
       "      <td>2019-03-01 03:58:46</td>\n",
       "      <td>redacted</td>\n",
       "      <td>redacted</td>\n",
       "      <td>34.471432</td>\n",
       "      <td>redacted</td>\n",
       "      <td>redacted</td>\n",
       "    </tr>\n",
       "    <tr>\n",
       "      <th>150847</th>\n",
       "      <td>550695</td>\n",
       "      <td>21</td>\n",
       "      <td>2019-03-01 00:22:30</td>\n",
       "      <td>2019-03-01 00:38:39</td>\n",
       "      <td>redacted</td>\n",
       "      <td>redacted</td>\n",
       "      <td>129.692525</td>\n",
       "      <td>redacted</td>\n",
       "      <td>redacted</td>\n",
       "    </tr>\n",
       "    <tr>\n",
       "      <th>170192</th>\n",
       "      <td>575428</td>\n",
       "      <td>21</td>\n",
       "      <td>2019-03-01 00:35:50</td>\n",
       "      <td>2019-03-01 04:29:12</td>\n",
       "      <td>redacted</td>\n",
       "      <td>redacted</td>\n",
       "      <td>24.639301</td>\n",
       "      <td>redacted</td>\n",
       "      <td>redacted</td>\n",
       "    </tr>\n",
       "    <tr>\n",
       "      <th>205821</th>\n",
       "      <td>565057</td>\n",
       "      <td>22</td>\n",
       "      <td>2019-03-01 00:41:16</td>\n",
       "      <td>2019-03-01 06:40:13</td>\n",
       "      <td>redacted</td>\n",
       "      <td>redacted</td>\n",
       "      <td>121.851845</td>\n",
       "      <td>redacted</td>\n",
       "      <td>redacted</td>\n",
       "    </tr>\n",
       "    <tr>\n",
       "      <th>...</th>\n",
       "      <td>...</td>\n",
       "      <td>...</td>\n",
       "      <td>...</td>\n",
       "      <td>...</td>\n",
       "      <td>...</td>\n",
       "      <td>...</td>\n",
       "      <td>...</td>\n",
       "      <td>...</td>\n",
       "      <td>...</td>\n",
       "    </tr>\n",
       "    <tr>\n",
       "      <th>154893</th>\n",
       "      <td>577352</td>\n",
       "      <td>2</td>\n",
       "      <td>2019-09-13 22:51:28</td>\n",
       "      <td>2019-09-13 23:12:33</td>\n",
       "      <td>redacted</td>\n",
       "      <td>redacted</td>\n",
       "      <td>162.439551</td>\n",
       "      <td>redacted</td>\n",
       "      <td>redacted</td>\n",
       "    </tr>\n",
       "    <tr>\n",
       "      <th>97261</th>\n",
       "      <td>586151</td>\n",
       "      <td>10</td>\n",
       "      <td>2019-09-13 22:59:31</td>\n",
       "      <td>2019-09-13 23:25:01</td>\n",
       "      <td>redacted</td>\n",
       "      <td>redacted</td>\n",
       "      <td>19.542211</td>\n",
       "      <td>redacted</td>\n",
       "      <td>redacted</td>\n",
       "    </tr>\n",
       "    <tr>\n",
       "      <th>16428</th>\n",
       "      <td>578689</td>\n",
       "      <td>33</td>\n",
       "      <td>2019-09-13 23:28:40</td>\n",
       "      <td>2019-09-14 00:14:17</td>\n",
       "      <td>redacted</td>\n",
       "      <td>redacted</td>\n",
       "      <td>177.617087</td>\n",
       "      <td>redacted</td>\n",
       "      <td>redacted</td>\n",
       "    </tr>\n",
       "    <tr>\n",
       "      <th>111996</th>\n",
       "      <td>577352</td>\n",
       "      <td>2</td>\n",
       "      <td>2019-09-13 23:31:37</td>\n",
       "      <td>2019-09-14 01:19:11</td>\n",
       "      <td>redacted</td>\n",
       "      <td>redacted</td>\n",
       "      <td>168.444444</td>\n",
       "      <td>redacted</td>\n",
       "      <td>redacted</td>\n",
       "    </tr>\n",
       "    <tr>\n",
       "      <th>179843</th>\n",
       "      <td>587011</td>\n",
       "      <td>32</td>\n",
       "      <td>2019-09-14 00:08:53</td>\n",
       "      <td>2019-09-14 00:48:43</td>\n",
       "      <td>redacted</td>\n",
       "      <td>redacted</td>\n",
       "      <td>225.310422</td>\n",
       "      <td>redacted</td>\n",
       "      <td>redacted</td>\n",
       "    </tr>\n",
       "  </tbody>\n",
       "</table>\n",
       "<p>233304 rows × 9 columns</p>\n",
       "</div>"
      ],
      "text/plain": [
       "        vehicle  station             arrival           departure       lon  \\\n",
       "111046   567730       29 2019-03-01 00:11:51 2019-03-01 01:56:34  redacted   \n",
       "63331    559851       10 2019-03-01 00:21:06 2019-03-01 03:58:46  redacted   \n",
       "150847   550695       21 2019-03-01 00:22:30 2019-03-01 00:38:39  redacted   \n",
       "170192   575428       21 2019-03-01 00:35:50 2019-03-01 04:29:12  redacted   \n",
       "205821   565057       22 2019-03-01 00:41:16 2019-03-01 06:40:13  redacted   \n",
       "...         ...      ...                 ...                 ...       ...   \n",
       "154893   577352        2 2019-09-13 22:51:28 2019-09-13 23:12:33  redacted   \n",
       "97261    586151       10 2019-09-13 22:59:31 2019-09-13 23:25:01  redacted   \n",
       "16428    578689       33 2019-09-13 23:28:40 2019-09-14 00:14:17  redacted   \n",
       "111996   577352        2 2019-09-13 23:31:37 2019-09-14 01:19:11  redacted   \n",
       "179843   587011       32 2019-09-14 00:08:53 2019-09-14 00:48:43  redacted   \n",
       "\n",
       "             lat  station_distance         x         y  \n",
       "111046  redacted        263.130912  redacted  redacted  \n",
       "63331   redacted         34.471432  redacted  redacted  \n",
       "150847  redacted        129.692525  redacted  redacted  \n",
       "170192  redacted         24.639301  redacted  redacted  \n",
       "205821  redacted        121.851845  redacted  redacted  \n",
       "...          ...               ...       ...       ...  \n",
       "154893  redacted        162.439551  redacted  redacted  \n",
       "97261   redacted         19.542211  redacted  redacted  \n",
       "16428   redacted        177.617087  redacted  redacted  \n",
       "111996  redacted        168.444444  redacted  redacted  \n",
       "179843  redacted        225.310422  redacted  redacted  \n",
       "\n",
       "[233304 rows x 9 columns]"
      ]
     },
     "execution_count": 10,
     "metadata": {},
     "output_type": "execute_result"
    }
   ],
   "source": [
    "traffic_full # DataFrame index must be unique, 'station' and 'station_distance' are currently set to the closest station location"
   ]
  },
  {
   "cell_type": "code",
   "execution_count": 19,
   "metadata": {},
   "outputs": [
    {
     "data": {
      "text/plain": [
       "Int64Index([ 1,  2,  3,  4,  5,  6,  7,  8,  9, 10, 11, 12, 13, 19, 20, 21, 22,\n",
       "            23, 24, 25, 26, 27, 28, 29, 30, 31, 32, 33, 34, 35, 36, 37, 38],\n",
       "           dtype='int64', name='station_id')"
      ]
     },
     "execution_count": 19,
     "metadata": {},
     "output_type": "execute_result"
    }
   ],
   "source": [
    "charging_stations.index # only selected station locations were considered in the tests"
   ]
  },
  {
   "cell_type": "code",
   "execution_count": 17,
   "metadata": {},
   "outputs": [
    {
     "data": {
      "text/plain": [
       "Index(['lon', 'lat', 'x', 'y'], dtype='object')"
      ]
     },
     "execution_count": 17,
     "metadata": {},
     "output_type": "execute_result"
    }
   ],
   "source": [
    "charging_stations.columns # DataFrame index represents station IDs"
   ]
  },
  {
   "cell_type": "code",
   "execution_count": 18,
   "metadata": {},
   "outputs": [
    {
     "data": {
      "text/plain": [
       "(39, 39)"
      ]
     },
     "execution_count": 18,
     "metadata": {},
     "output_type": "execute_result"
    }
   ],
   "source": [
    "station_distances_mtx.shape"
   ]
  },
  {
   "cell_type": "code",
   "execution_count": 28,
   "metadata": {},
   "outputs": [
    {
     "data": {
      "text/plain": [
       "array([[         inf, 546.98754689, 633.29764185, 966.55138914],\n",
       "       [546.98754689,          inf, 230.58249453, 480.54789505],\n",
       "       [633.29764185, 230.58249453,          inf, 334.84569151],\n",
       "       [966.55138914, 480.54789505, 334.84569151,          inf]])"
      ]
     },
     "execution_count": 28,
     "metadata": {},
     "output_type": "execute_result"
    }
   ],
   "source": [
    "station_distances_mtx[1:5, 1:5] # index 0 is ignored"
   ]
  },
  {
   "cell_type": "markdown",
   "metadata": {},
   "source": [
    "# Training Datasets"
   ]
  },
  {
   "cell_type": "markdown",
   "metadata": {},
   "source": [
    "### Middle Date"
   ]
  },
  {
   "cell_type": "code",
   "execution_count": 4,
   "metadata": {},
   "outputs": [
    {
     "data": {
      "text/plain": [
       "Timestamp('2019-05-30 16:22:56')"
      ]
     },
     "execution_count": 4,
     "metadata": {},
     "output_type": "execute_result"
    }
   ],
   "source": [
    "tmp = traffic_full.sort_values('arrival')\n",
    "middle_tstmp = tmp.iloc[len(tmp)//2]['arrival']\n",
    "middle_tstmp"
   ]
  },
  {
   "cell_type": "markdown",
   "metadata": {},
   "source": [
    "### Max Date"
   ]
  },
  {
   "cell_type": "code",
   "execution_count": 5,
   "metadata": {},
   "outputs": [
    {
     "data": {
      "text/plain": [
       "datetime.date(2019, 9, 15)"
      ]
     },
     "execution_count": 5,
     "metadata": {},
     "output_type": "execute_result"
    }
   ],
   "source": [
    "traffic_full['departure'].max().date() + timedelta(days=1)"
   ]
  },
  {
   "cell_type": "markdown",
   "metadata": {},
   "source": [
    "### Min Date"
   ]
  },
  {
   "cell_type": "code",
   "execution_count": 6,
   "metadata": {},
   "outputs": [
    {
     "data": {
      "text/plain": [
       "datetime.date(2019, 3, 1)"
      ]
     },
     "execution_count": 6,
     "metadata": {},
     "output_type": "execute_result"
    }
   ],
   "source": [
    "traffic_full['arrival'].min().date()"
   ]
  },
  {
   "cell_type": "markdown",
   "metadata": {},
   "source": [
    "### 'Most Median Day'"
   ]
  },
  {
   "cell_type": "code",
   "execution_count": 7,
   "metadata": {},
   "outputs": [],
   "source": [
    "median_station_counts = traffic_full.reset_index().groupby(['station', pd.Grouper(key='arrival', freq='D')])['index'].nunique().groupby('station').median()"
   ]
  },
  {
   "cell_type": "code",
   "execution_count": 8,
   "metadata": {},
   "outputs": [
    {
     "data": {
      "text/plain": [
       "Timestamp('2019-08-16 00:00:00', freq='D')"
      ]
     },
     "execution_count": 8,
     "metadata": {},
     "output_type": "execute_result"
    }
   ],
   "source": [
    "day_station_median_diff_minmax = traffic_full.reset_index().groupby([pd.Grouper(key='arrival', freq='D'), 'station'])['index'].nunique().groupby('arrival').apply(lambda x: x.reset_index(level=0, drop=True).subtract(median_station_counts, fill_value=0).abs().max()).idxmin()\n",
    "day_station_median_diff_minmax"
   ]
  },
  {
   "cell_type": "code",
   "execution_count": 9,
   "metadata": {},
   "outputs": [
    {
     "data": {
      "text/plain": [
       "Timestamp('2019-08-07 00:00:00', freq='D')"
      ]
     },
     "execution_count": 9,
     "metadata": {},
     "output_type": "execute_result"
    }
   ],
   "source": [
    "day_station_median_diff_minsum = traffic_full.reset_index().groupby([pd.Grouper(key='arrival', freq='D'), 'station'])['index'].nunique().groupby('arrival').apply(lambda x: x.reset_index(level=0, drop=True).subtract(median_station_counts, fill_value=0).abs().sum()).idxmin()\n",
    "day_station_median_diff_minsum"
   ]
  },
  {
   "cell_type": "markdown",
   "metadata": {},
   "source": [
    "### Largest Data Day"
   ]
  },
  {
   "cell_type": "code",
   "execution_count": 10,
   "metadata": {},
   "outputs": [
    {
     "data": {
      "text/plain": [
       "Timestamp('2019-05-28 00:00:00', freq='D')"
      ]
     },
     "execution_count": 10,
     "metadata": {},
     "output_type": "execute_result"
    }
   ],
   "source": [
    "day_total_max = traffic_full.reset_index().groupby(pd.Grouper(key='arrival', freq='D'))['index'].nunique().idxmax()\n",
    "day_total_max"
   ]
  },
  {
   "cell_type": "markdown",
   "metadata": {},
   "source": [
    "## Variants"
   ]
  },
  {
   "cell_type": "code",
   "execution_count": 11,
   "metadata": {},
   "outputs": [],
   "source": [
    "training_traffic_specs = list(utils.factory_subsets(trf.TrafficSpec,\n",
    "    [\n",
    "        dict(name='1day-station-median-diff-minmax', start_timestamp=day_station_median_diff_minmax.date(), end_timestamp=day_station_median_diff_minmax.date() + timedelta(days=1)),\n",
    "        dict(name='1day-station-median-diff-minsum', start_timestamp=day_station_median_diff_minsum.date(), end_timestamp=day_station_median_diff_minsum.date() + timedelta(days=1)),\n",
    "        dict(name='1day-total-max', start_timestamp=day_total_max.date(), end_timestamp=day_total_max.date() + timedelta(days=1)),\n",
    "        dict(name='mar', start_timestamp='2019-03-01', end_timestamp='2019-04-01'),\n",
    "        dict(name='jul', start_timestamp='2019-07-01', end_timestamp='2019-08-01'),\n",
    "        dict(name='jun-to-oct', start_timestamp='2019-06-01', end_timestamp=traffic_full['departure'].max().date() + timedelta(days=1)),\n",
    "        dict(name='mar-to-jun', start_timestamp=traffic_full['arrival'].min().date(), end_timestamp='2019-06-01'),\n",
    "    ],\n",
    "    [\n",
    "        dict(name='hassign', max_attempts=1, minimal_complete_station_subset=False, remove_redundant_station_attempts=False),\n",
    "        dict(name='hassign-reduced', max_attempts=1, minimal_complete_station_subset=True, remove_redundant_station_attempts=False),\n",
    "        dict(name='3att', max_attempts=3, minimal_complete_station_subset=False),\n",
    "        dict(name='3att-reduced', max_attempts=3, minimal_complete_station_subset=True),\n",
    "        dict(name='5att-reduced', max_attempts=5, minimal_complete_station_subset=True),\n",
    "        dict(name='3att-origpos', max_attempts=3, minimal_complete_station_subset=False, subsequent_attempts_by_original_position=True),\n",
    "        dict(name='Natt-origpos', max_attempts=None, minimal_complete_station_subset=False, subsequent_attempts_by_original_position=True),\n",
    "    ],\n",
    "    [\n",
    "        dict(max_station_distance=300, max_stations_pair_distance=300)\n",
    "    ], reductions=dict(name=lambda a, b: '__'.join(filter(lambda v: v is not None, [a, b],)))))"
   ]
  },
  {
   "cell_type": "markdown",
   "metadata": {},
   "source": [
    "## Traffic Build"
   ]
  },
  {
   "cell_type": "code",
   "execution_count": null,
   "metadata": {},
   "outputs": [],
   "source": [
    "training_traffics = pipeline.build_all_traffics(training_traffic_specs, progress=True, traffic_full=traffic_full, charging_stations=charging_stations, station_distances_mtx=station_distances_mtx)"
   ]
  },
  {
   "cell_type": "markdown",
   "metadata": {},
   "source": [
    "Dump built data:"
   ]
  },
  {
   "cell_type": "raw",
   "metadata": {},
   "source": [
    "utils.gzip_pickle_dump(training_traffics, fname('training_traffics'))"
   ]
  },
  {
   "cell_type": "markdown",
   "metadata": {},
   "source": [
    "Load existing data:"
   ]
  },
  {
   "cell_type": "raw",
   "metadata": {},
   "source": [
    "training_traffics = utils.gzip_pickle_load(fname('training_traffics'))"
   ]
  },
  {
   "cell_type": "markdown",
   "metadata": {},
   "source": [
    "# Optimization"
   ]
  },
  {
   "cell_type": "markdown",
   "metadata": {},
   "source": [
    "## Solvers"
   ]
  },
  {
   "cell_type": "code",
   "execution_count": 15,
   "metadata": {},
   "outputs": [],
   "source": [
    "from pathlib import Path"
   ]
  },
  {
   "cell_type": "code",
   "execution_count": 16,
   "metadata": {},
   "outputs": [],
   "source": [
    "CLUSTER_MODEL_SPEC = 'tmp/spec'\n",
    "CLUSTER_MODEL_SOLUTION = 'tmp/solution'\n",
    "\n",
    "Path(CLUSTER_MODEL_SPEC).mkdir(parents=True, exist_ok=True)\n",
    "Path(CLUSTER_MODEL_SOLUTION).mkdir(parents=True, exist_ok=True)\n",
    "\n",
    "request_ilp_no_fcfs_solve = functools.partial(opt_common.dump_default_soft_assign_ILP_opt_solution_request, out_dir=CLUSTER_MODEL_SPEC, in_dir=CLUSTER_MODEL_SOLUTION, first_come_first_served=False, max_n_stations_brute_force=0)\n",
    "request_ilp_fcfs_solve = functools.partial(opt_common.dump_default_soft_assign_ILP_opt_solution_request, out_dir=CLUSTER_MODEL_SPEC, in_dir=CLUSTER_MODEL_SOLUTION, first_come_first_served=True)\n",
    "#request_heuristic_solve = functools.partial(opt_common.dump_heuristic_solution_request, out_dir=CLUSTER_MODEL_SPEC, in_dir=CLUSTER_MODEL_SOLUTION)\n",
    "#request_heuristic_solve_ilp_station_subset = functools.partial(opt_common.dump_heuristic_solution_request, out_dir=CLUSTER_MODEL_SPEC, in_dir=CLUSTER_MODEL_SOLUTION, with_ilp_station_subset=True, verbose=True)\n",
    "opt_hard_assign_ilp_station_subset = functools.partial(opt_common.optimize_with_ilp_station_subset, opt.optimize_hard_assign)"
   ]
  },
  {
   "cell_type": "code",
   "execution_count": 17,
   "metadata": {},
   "outputs": [],
   "source": [
    "solvers = [\n",
    "    pipeline.Solver(name=\"ILP solution (no FCFS)\", callable=request_ilp_no_fcfs_solve, traffic_filter=lambda spec, tr: (not spec.minimal_complete_station_subset or spec.max_attempts != 1) and tr.index.nunique() < 100000),\n",
    "    pipeline.Solver(name=\"ILP solution\", callable=request_ilp_fcfs_solve, traffic_filter=lambda spec, tr: spec.max_attempts != 1 and tr.index.nunique() < 100000),\n",
    "    pipeline.Solver(name=\"Hard assignment (ILP subset)\", callable=opt_hard_assign_ilp_station_subset, traffic_filter=lambda spec, tr: spec.max_attempts == 1 and not spec.minimal_complete_station_subset),\n",
    "    #pipeline.Solver(name=\"Hard assignment (legacy)\", callable=opt.hard_assign.optimize_hard_assign_legacy, traffic_filter=lambda spec, tr: spec.max_attempts == 1),\n",
    "    pipeline.Solver(name=\"Hard assignment\", callable=opt.optimize_hard_assign, traffic_filter=lambda spec, tr: spec.max_attempts == 1),\n",
    "    #pipeline.Solver(name=\"Heuristic simple\", callable=opt.optimize_soft_assign_heuristic_single, traffic_filter=lambda spec, tr: spec.max_attempts != 1),\n",
    "    #pipeline.Solver(name=\"Heuristic\", callable=request_heuristic_solve, traffic_filter=lambda spec, tr: spec.max_attempts != 1),\n",
    "    #pipeline.Solver(name=\"Heuristic (ILP subset)\", callable=request_heuristic_solve_ilp_station_subset, traffic_filter=lambda spec, tr: spec.max_attempts != 1 and not spec.minimal_complete_station_subset),\n",
    "]"
   ]
  },
  {
   "cell_type": "code",
   "execution_count": 18,
   "metadata": {},
   "outputs": [],
   "source": [
    "solvables = pipeline.assign_solvers(training_traffics, solvers)"
   ]
  },
  {
   "cell_type": "code",
   "execution_count": 19,
   "metadata": {},
   "outputs": [],
   "source": [
    "import random\n",
    "random.shuffle(solvables)"
   ]
  },
  {
   "cell_type": "markdown",
   "metadata": {},
   "source": [
    "## Solve"
   ]
  },
  {
   "cell_type": "markdown",
   "metadata": {},
   "source": [
    "Try loading all existing solutions:"
   ]
  },
  {
   "cell_type": "code",
   "execution_count": 20,
   "metadata": {},
   "outputs": [],
   "source": [
    "solutions = utils.gzip_pickle_load(fname('solutions'))"
   ]
  },
  {
   "cell_type": "code",
   "execution_count": 21,
   "metadata": {},
   "outputs": [],
   "source": [
    "if 'solutions' not in locals():\n",
    "    solutions = dict()"
   ]
  },
  {
   "cell_type": "markdown",
   "metadata": {},
   "source": [
    "Either directly compute the solutions, or output files for execution on cluster:\n",
    "\n",
    "How to execute the output files for execution on cluster:\n",
    "\n",
    "* Gurobi models are executed on cluster using `model_run_iterative.py`"
   ]
  },
  {
   "cell_type": "code",
   "execution_count": 22,
   "metadata": {},
   "outputs": [
    {
     "data": {
      "application/vnd.jupyter.widget-view+json": {
       "model_id": "",
       "version_major": 2,
       "version_minor": 0
      },
      "text/plain": [
       "Callable:   0%|          | 0/23 [00:00<?, ?it/s]"
      ]
     },
     "metadata": {},
     "output_type": "display_data"
    },
    {
     "name": "stdout",
     "output_type": "stream",
     "text": [
      "2019-08-07-to-2019-08-08-5att-300-300-minst-stfilt-gurobi-model-fcfs failed: IncompleteSolutionException('(stations: 9-10, 12, 29-32): missing 95/103 solutions: 1-95')\n",
      "2019-03-01-to-2019-04-01-5att-300-300-minst-stfilt-gurobi-model-fcfs failed: FileNotFoundError(2, 'No such file or directory')\n",
      "2019-03-01-to-2019-04-01-3att-300-300-minst-stfilt-gurobi-model-fcfs failed: FileNotFoundError(2, 'No such file or directory')\n",
      "2019-08-07-to-2019-08-08-300-300-origpos-stfilt-gurobi-model-fcfs failed: FileNotFoundError(2, 'No such file or directory')\n",
      "2019-08-16-to-2019-08-17-5att-300-300-minst-stfilt-gurobi-model-fcfs failed: IncompleteSolutionException('(stations: 2-4, 6, 8, 33-37): missing 122/135 solutions: 1-122')\n",
      "2019-08-07-to-2019-08-08-3att-300-300-origpos-stfilt-gurobi-model-fcfs failed: FileNotFoundError(2, 'No such file or directory')\n",
      "2019-03-01-to-2019-04-01-300-300-origpos-stfilt-gurobi-model-fcfs failed: FileNotFoundError(2, 'No such file or directory')\n",
      "2019-05-28-to-2019-05-29-300-300-origpos-stfilt-gurobi-model-fcfs failed: FileNotFoundError(2, 'No such file or directory')\n",
      "2019-05-28-to-2019-05-29-3att-300-300-minst-stfilt-gurobi-model-fcfs failed: FileNotFoundError(2, 'No such file or directory')\n",
      "2019-08-16-to-2019-08-17-3att-300-300-origpos-stfilt-gurobi-model-fcfs failed: FileNotFoundError(2, 'No such file or directory')\n",
      "2019-07-01-to-2019-08-01-3att-300-300-stfilt-gurobi-model-fcfs failed: IncompleteSolutionException('(stations: 13, 22, 25): missing 61/71 solutions: 1-61')\n",
      "2019-08-16-to-2019-08-17-3att-300-300-stfilt-gurobi-model-fcfs failed: IncompleteSolutionException('(stations: 9-12, 29-32): missing 69/95 solutions: 1-69')\n",
      "2019-08-07-to-2019-08-08-3att-300-300-stfilt-gurobi-model-fcfs failed: IncompleteSolutionException('(stations: 9-12, 29-32): missing 66/98 solutions: 1-66')\n",
      "2019-07-01-to-2019-08-01-300-300-origpos-stfilt-gurobi-model-fcfs failed: FileNotFoundError(2, 'No such file or directory')\n",
      "2019-03-01-to-2019-04-01-3att-300-300-stfilt-gurobi-model-fcfs failed: FileNotFoundError(2, 'No such file or directory')\n",
      "2019-07-01-to-2019-08-01-3att-300-300-origpos-stfilt-gurobi-model-fcfs failed: FileNotFoundError(2, 'No such file or directory')\n",
      "2019-03-01-to-2019-04-01-3att-300-300-origpos-stfilt-gurobi-model-fcfs failed: FileNotFoundError(2, 'No such file or directory')\n",
      "2019-05-28-to-2019-05-29-3att-300-300-origpos-stfilt-gurobi-model-fcfs failed: FileNotFoundError(2, 'No such file or directory')\n",
      "2019-08-16-to-2019-08-17-300-300-origpos-stfilt-gurobi-model-fcfs failed: FileNotFoundError(2, 'No such file or directory')\n",
      "2019-05-28-to-2019-05-29-5att-300-300-minst-stfilt-gurobi-model-fcfs failed: FileNotFoundError(2, 'No such file or directory')\n",
      "2019-07-01-to-2019-08-01-3att-300-300-minst-stfilt-gurobi-model-fcfs failed: IncompleteSolutionException('(stations: 4, 36-37): missing 35/55 solutions: 1-35')\n",
      "2019-05-28-to-2019-05-29-3att-300-300-stfilt-gurobi-model-fcfs failed: FileNotFoundError(2, 'No such file or directory')\n",
      "2019-07-01-to-2019-08-01-5att-300-300-minst-stfilt-gurobi-model-fcfs failed: IncompleteSolutionException('(stations: 4, 36-37): missing 33/55 solutions: 1-33')\n"
     ]
    },
    {
     "data": {
      "application/vnd.jupyter.widget-view+json": {
       "model_id": "",
       "version_major": 2,
       "version_minor": 0
      },
      "text/plain": [
       "Serial: 0it [00:00, ?it/s]"
      ]
     },
     "metadata": {},
     "output_type": "display_data"
    },
    {
     "data": {
      "application/vnd.jupyter.widget-view+json": {
       "model_id": "",
       "version_major": 2,
       "version_minor": 0
      },
      "text/plain": [
       "Parallel: 0it [00:00, ?it/s]"
      ]
     },
     "metadata": {},
     "output_type": "display_data"
    },
    {
     "name": "stdout",
     "output_type": "stream",
     "text": [
      "Unresolved solutions: 23\n"
     ]
    }
   ],
   "source": [
    "build_traffic = functools.partial(trf.build_traffic, traffic_full=traffic_full, charging_stations=charging_stations, station_distances_mtx=station_distances_mtx)\n",
    "pipeline.update_solutions(solutions, solvables, training_traffics, build_traffic, progress=True, multi_cpu_kwargs=dict(progress=True), threads=1, verbose=True)"
   ]
  },
  {
   "cell_type": "markdown",
   "metadata": {},
   "source": [
    "Dump solutions:"
   ]
  },
  {
   "cell_type": "raw",
   "metadata": {},
   "source": [
    "utils.gzip_pickle_dump(solutions, fname('solutions'))"
   ]
  },
  {
   "cell_type": "code",
   "execution_count": 23,
   "metadata": {},
   "outputs": [
    {
     "name": "stdout",
     "output_type": "stream",
     "text": [
      "Unresolved:\n",
      "ILP solution    23\n",
      "dtype: int64\n"
     ]
    }
   ],
   "source": [
    "print(\"Unresolved:\")\n",
    "print(pd.Series([k.solver.name for k in solvables if k not in solutions or callable(solutions[k])]).value_counts())"
   ]
  },
  {
   "cell_type": "markdown",
   "metadata": {},
   "source": [
    "# Visualize Comparison of Optimization Methods"
   ]
  },
  {
   "cell_type": "code",
   "execution_count": 24,
   "metadata": {},
   "outputs": [],
   "source": [
    "from typing import Dict, Union, Callable\n",
    "\n",
    "def solutions_to_dataframe(solutions: Dict[pipeline.Solvable, Union[opt.utils.Solutions, Callable]]):\n",
    "    rows = []\n",
    "\n",
    "    for solvable, solutions_this in solutions.items():\n",
    "        if callable(solutions_this):\n",
    "            continue\n",
    "            \n",
    "        name_splits = solvable.traffic_spec.name.split('__')\n",
    "\n",
    "        dct = {\n",
    "            'dataset_name': name_splits[0],\n",
    "            'dataset_specialization': name_splits[1] if len(name_splits) >= 2 else None,\n",
    "            'solver': solvable.solver.name,\n",
    "        }\n",
    "\n",
    "        for solution in utils.iter_values(solutions_this):\n",
    "            rows.append({**dct, **solution.__dict__})\n",
    "\n",
    "    df = pd.DataFrame(rows)\n",
    "    \n",
    "    # drop the legacy solver data because we don't need it\n",
    "    df.drop(index=df.index[df['solver'] == \"Hard assignment (legacy)\"], inplace=True)\n",
    "    \n",
    "    # rename hard assignment solver to reduced\n",
    "    df.loc[df['dataset_specialization'] == 'hassign-reduced', 'solver'] = df.loc[df['dataset_specialization'] == 'hassign-reduced', 'solver'] + \" (reduced)\"\n",
    "    \n",
    "    # split into hard-assignment and the rest\n",
    "    # df_rep = df['solver'].str.contains(\"Hard assignment\")\n",
    "    # df_rep, df_norep = df[df_rep], df[~df_rep]\n",
    "    # df = pd.concat([df_norep, df_rep.drop(columns=['dataset_specialization']).merge(df_norep[['dataset_specialization']].drop_duplicates(), how='cross')])\n",
    "    \n",
    "    df['dataset'] = df['dataset_name'] + '__' + df['dataset_specialization']\n",
    "    df['upper_bound'] = df['solver'] == \"ILP solution (no FCFS)\"\n",
    "    \n",
    "    return df"
   ]
  },
  {
   "cell_type": "code",
   "execution_count": 25,
   "metadata": {},
   "outputs": [],
   "source": [
    "df = solutions_to_dataframe(solutions)"
   ]
  },
  {
   "cell_type": "code",
   "execution_count": 26,
   "metadata": {},
   "outputs": [
    {
     "data": {
      "text/plain": [
       "array(['1day-station-median-diff-minsum',\n",
       "       '1day-station-median-diff-minmax', 'jun-to-oct', 'mar',\n",
       "       'mar-to-jun', 'jul', '1day-total-max'], dtype=object)"
      ]
     },
     "execution_count": 26,
     "metadata": {},
     "output_type": "execute_result"
    }
   ],
   "source": [
    "df.dataset_name.unique()"
   ]
  },
  {
   "cell_type": "code",
   "execution_count": 27,
   "metadata": {},
   "outputs": [
    {
     "data": {
      "text/plain": [
       "array(['Heuristic', 'Heuristic simple', 'ILP solution (no FCFS)',\n",
       "       'Hard assignment (reduced)', 'ILP solution', 'Hard assignment',\n",
       "       'Hard assignment (ILP subset)', 'Heuristic (ILP subset)'],\n",
       "      dtype=object)"
      ]
     },
     "execution_count": 27,
     "metadata": {},
     "output_type": "execute_result"
    }
   ],
   "source": [
    "df.solver.unique()"
   ]
  },
  {
   "cell_type": "code",
   "execution_count": 28,
   "metadata": {},
   "outputs": [],
   "source": [
    "DAY_DATASET = '1day-station-median-diff-minmax'\n",
    "#DAY_DATASET = '1day-total-max'\n",
    "MONTH_DATASET = 'mar'\n",
    "THE_DATASETS = [DAY_DATASET, MONTH_DATASET, 'jul', 'mar-to-jun']\n",
    "\n",
    "df_plot = pd.concat([\n",
    "    df.query(\"solver == 'Hard assignment (ILP subset)'\"),\n",
    "    df.query(\"solver == 'Hard assignment (reduced)'\"),\n",
    "    df.query(\"solver == 'Hard assignment'\"),\n",
    "    df.query(\"solver.str.contains('ILP solution') and (dataset_specialization.str.contains('origpos') or dataset_specialization.str.contains('hassign'))\"),\n",
    "    #df.query(\"solver == 'Heuristic' and (dataset_specialization.str.contains('origpos'))\")\n",
    "])\n",
    "df_plot = df_plot.query(\"dataset_name.isin(@THE_DATASETS)\").copy()\n",
    "\n",
    "df_plot['solver'] = df_plot['solver'].replace({\n",
    "    'Hard assignment (ILP subset)': 'Two-stage (ILP subset)',\n",
    "    'Hard assignment (reduced)': 'Two-stage (iterative subset)',\n",
    "    'ILP solution (no FCFS)': 'ILP (no FCFS)'\n",
    "})\n",
    "\n",
    "df_plot['dataset_specialization'] = df_plot['dataset_specialization'].replace({\n",
    "    'hassign': 'hard',\n",
    "    'Natt-origpos': 'Natt',\n",
    "    '3att-origpos': '3att'\n",
    "})\n",
    "\n",
    "df_plot['dataset_name'] = df_plot['dataset_name'].replace({\n",
    "    DAY_DATASET: next(iter((tr.start_timestamp.date().isoformat() for tr in training_traffic_specs if tr.name.split('__')[0] == DAY_DATASET))),\n",
    "    MONTH_DATASET: 'March',\n",
    "    'jul': 'July',\n",
    "    'mar-to-jun': 'March-May'\n",
    "})\n",
    "\n",
    "msk = df_plot['solver'].isin(['ILP (no FCFS)', 'Heuristic']) & (df_plot['dataset_specialization'] != '')\n",
    "df_plot.loc[msk, 'solver'] += ' (' + df_plot.loc[msk, 'dataset_specialization'] + ')'\n",
    "df_plot.loc[msk, 'solver'] = df_plot.loc[msk, 'solver'].str.replace(') (', ', ', regex=False)\n",
    "\n",
    "df_plot.loc[df_plot.solver.str.startswith('Two-stage'), 'is_hard_assignment'] = 'Hard, subset'\n",
    "df_plot.loc[df_plot.solver == 'Hard assignment', 'is_hard_assignment'] = 'Hard, no subset'\n",
    "df_plot.loc[df_plot.solver == 'ILP (no FCFS, 3att)', 'is_hard_assignment'] = 'Soft'\n",
    "df_plot.loc[df_plot.solver == 'ILP (no FCFS, Natt)', 'is_hard_assignment'] = 'Soft'\n",
    "df_plot.loc[df_plot.solver == 'ILP (no FCFS, hard)', 'is_hard_assignment'] = 'Hard, no subset'\n",
    "\n",
    "df_plot['objective_perc'] = 100 * df_plot['objective'] / df_plot.groupby('dataset_name')['objective'].transform('max')"
   ]
  },
  {
   "cell_type": "code",
   "execution_count": 29,
   "metadata": {},
   "outputs": [],
   "source": [
    "colnames = {\n",
    "    'solver': 'Solver',\n",
    "    'upper_bound': \"FCFS upper bound\",\n",
    "    'is_hard_assignment': 'Station assignment',\n",
    "    'objective': \"Satisfied demand\",\n",
    "    'objective_perc': \"Satisfied demand [%]\",\n",
    "    'objective_diff': \"Satisfied demand\\n(difference from best)\",\n",
    "    'objective_diff_perc': \"Satisfied demand [%]\\n(difference from best)\",\n",
    "    'budget': \"Budget\",\n",
    "    'dataset_name': 'Train'\n",
    "}"
   ]
  },
  {
   "cell_type": "code",
   "execution_count": 30,
   "metadata": {},
   "outputs": [
    {
     "data": {
      "text/plain": [
       "array(['Two-stage (ILP subset)', 'Two-stage (iterative subset)',\n",
       "       'Hard assignment', 'ILP (no FCFS, 3att)', 'ILP (no FCFS, Natt)',\n",
       "       'ILP (no FCFS, hard)'], dtype=object)"
      ]
     },
     "execution_count": 30,
     "metadata": {},
     "output_type": "execute_result"
    }
   ],
   "source": [
    "df_plot.solver.unique()"
   ]
  },
  {
   "cell_type": "code",
   "execution_count": 31,
   "metadata": {},
   "outputs": [
    {
     "data": {
      "text/html": [
       "<svg  width=\"330\" height=\"55\"><rect x=\"0\" y=\"0\" width=\"55\" height=\"55\" style=\"fill:#e41a1c;stroke-width:2;stroke:rgb(255,255,255)\"/><rect x=\"55\" y=\"0\" width=\"55\" height=\"55\" style=\"fill:#377eb8;stroke-width:2;stroke:rgb(255,255,255)\"/><rect x=\"110\" y=\"0\" width=\"55\" height=\"55\" style=\"fill:#4daf4a;stroke-width:2;stroke:rgb(255,255,255)\"/><rect x=\"165\" y=\"0\" width=\"55\" height=\"55\" style=\"fill:#984ea3;stroke-width:2;stroke:rgb(255,255,255)\"/><rect x=\"220\" y=\"0\" width=\"55\" height=\"55\" style=\"fill:#ff7f00;stroke-width:2;stroke:rgb(255,255,255)\"/><rect x=\"275\" y=\"0\" width=\"55\" height=\"55\" style=\"fill:#ffff33;stroke-width:2;stroke:rgb(255,255,255)\"/></svg>"
      ],
      "text/plain": [
       "[(0.8941176470588236, 0.10196078431372549, 0.10980392156862745),\n",
       " (0.21568627450980393, 0.49411764705882355, 0.7215686274509804),\n",
       " (0.30196078431372547, 0.6862745098039216, 0.2901960784313726),\n",
       " (0.596078431372549, 0.3058823529411765, 0.6392156862745098),\n",
       " (1.0, 0.4980392156862745, 0.0),\n",
       " (1.0, 1.0, 0.2)]"
      ]
     },
     "execution_count": 31,
     "metadata": {},
     "output_type": "execute_result"
    }
   ],
   "source": [
    "solvers_order = ['Hard assignment', 'Two-stage (ILP subset)', 'Two-stage (iterative subset)', 'ILP (no FCFS, hard)', 'ILP (no FCFS, 3att)', 'ILP (no FCFS, Natt)']#, 'Heuristic (3att)', 'Heuristic (Natt)']\n",
    "palette = seaborn.color_palette(\"Set1\", len(solvers_order))\n",
    "palette"
   ]
  },
  {
   "cell_type": "code",
   "execution_count": 32,
   "metadata": {},
   "outputs": [
    {
     "data": {
      "text/plain": [
       "54615    2019-08-16\n",
       "58801          July\n",
       "53388         March\n",
       "59996     March-May\n",
       "Name: dataset_name, dtype: object"
      ]
     },
     "execution_count": 32,
     "metadata": {},
     "output_type": "execute_result"
    }
   ],
   "source": [
    "df_plot['dataset_name'].drop_duplicates().sort_values()"
   ]
  },
  {
   "cell_type": "code",
   "execution_count": 33,
   "metadata": {},
   "outputs": [],
   "source": [
    "dataset_order = [v for v in [*set(tr.start_timestamp.date().isoformat() for tr in training_traffic_specs), 'March'] if v in df_plot['dataset_name'].unique()]"
   ]
  },
  {
   "cell_type": "code",
   "execution_count": 34,
   "metadata": {},
   "outputs": [
    {
     "data": {
      "text/plain": [
       "array(['Two-stage (ILP subset)', 'Two-stage (iterative subset)',\n",
       "       'Hard assignment', 'ILP (no FCFS, 3att)', 'ILP (no FCFS, Natt)',\n",
       "       'ILP (no FCFS, hard)'], dtype=object)"
      ]
     },
     "execution_count": 34,
     "metadata": {},
     "output_type": "execute_result"
    }
   ],
   "source": [
    "df_plot['solver'].unique()"
   ]
  },
  {
   "cell_type": "code",
   "execution_count": 35,
   "metadata": {},
   "outputs": [],
   "source": [
    "plt.close('all')"
   ]
  },
  {
   "cell_type": "code",
   "execution_count": 36,
   "metadata": {},
   "outputs": [],
   "source": [
    "SAVE = True"
   ]
  },
  {
   "cell_type": "code",
   "execution_count": 37,
   "metadata": {},
   "outputs": [
    {
     "data": {
      "application/vnd.jupyter.widget-view+json": {
       "model_id": "8de7241a3daa4e3ea21fdf9b15e50971",
       "version_major": 2,
       "version_minor": 0
      },
      "text/plain": [
       "Canvas(toolbar=Toolbar(toolitems=[('Home', 'Reset original view', 'home', 'home'), ('Back', 'Back to previous …"
      ]
     },
     "metadata": {},
     "output_type": "display_data"
    }
   ],
   "source": [
    "plt.ion()\n",
    "\n",
    "g = seaborn.relplot(kind='line', facet_kws=dict(sharey=True, sharex=False), palette=palette, height=2,\n",
    "                    data=df_plot.rename(columns=colnames), x=colnames['budget'], y=colnames['objective_perc'],\n",
    "                    hue=colnames['solver'], hue_order=solvers_order,\n",
    "                    style=colnames['is_hard_assignment'],\n",
    "                    col=colnames['dataset_name'], col_wrap=2, col_order=dataset_order,\n",
    "                   )\n",
    "#g.fig.subplots_adjust(right=0.65, top=.83, bottom=.2)\n",
    "g.tight_layout()\n",
    "g.fig.subplots_adjust(right=0.65, left=0.12)\n",
    "g._legend.set_bbox_to_anchor((0.67 + g._legend.get_window_extent().width / (g.fig.dpi * g.fig.get_size_inches()[0]), 0.5))\n",
    "winch, hinch = g.fig.get_size_inches()\n",
    "\n",
    "if SAVE:\n",
    "    plt.savefig(f'plots/pdf/objective-values-training.pdf')"
   ]
  },
  {
   "cell_type": "code",
   "execution_count": 38,
   "metadata": {},
   "outputs": [],
   "source": [
    "THE_DATASETS=THE_DATASETS\n",
    "diff_plot = df_plot.set_index(['dataset_name', 'budget', 'solver'])['objective'].unstack()\n",
    "diff_plot_perc = df_plot.set_index(['dataset_name', 'budget', 'solver'])['objective_perc'].unstack()"
   ]
  },
  {
   "cell_type": "code",
   "execution_count": 39,
   "metadata": {},
   "outputs": [
    {
     "data": {
      "text/html": [
       "<div>\n",
       "<style scoped>\n",
       "    .dataframe tbody tr th:only-of-type {\n",
       "        vertical-align: middle;\n",
       "    }\n",
       "\n",
       "    .dataframe tbody tr th {\n",
       "        vertical-align: top;\n",
       "    }\n",
       "\n",
       "    .dataframe thead th {\n",
       "        text-align: right;\n",
       "    }\n",
       "</style>\n",
       "<table border=\"1\" class=\"dataframe\">\n",
       "  <thead>\n",
       "    <tr style=\"text-align: right;\">\n",
       "      <th></th>\n",
       "      <th>min</th>\n",
       "      <th>max</th>\n",
       "      <th>mean</th>\n",
       "    </tr>\n",
       "    <tr>\n",
       "      <th>dataset_name</th>\n",
       "      <th></th>\n",
       "      <th></th>\n",
       "      <th></th>\n",
       "    </tr>\n",
       "  </thead>\n",
       "  <tbody>\n",
       "    <tr>\n",
       "      <th>2019-08-16</th>\n",
       "      <td>1.105380</td>\n",
       "      <td>24.686809</td>\n",
       "      <td>17.738331</td>\n",
       "    </tr>\n",
       "    <tr>\n",
       "      <th>July</th>\n",
       "      <td>4.844934</td>\n",
       "      <td>11.587847</td>\n",
       "      <td>7.987049</td>\n",
       "    </tr>\n",
       "    <tr>\n",
       "      <th>March</th>\n",
       "      <td>5.162376</td>\n",
       "      <td>8.572802</td>\n",
       "      <td>6.806934</td>\n",
       "    </tr>\n",
       "    <tr>\n",
       "      <th>March-May</th>\n",
       "      <td>NaN</td>\n",
       "      <td>NaN</td>\n",
       "      <td>NaN</td>\n",
       "    </tr>\n",
       "  </tbody>\n",
       "</table>\n",
       "</div>"
      ],
      "text/plain": [
       "                   min        max       mean\n",
       "dataset_name                                \n",
       "2019-08-16    1.105380  24.686809  17.738331\n",
       "July          4.844934  11.587847   7.987049\n",
       "March         5.162376   8.572802   6.806934\n",
       "March-May          NaN        NaN        NaN"
      ]
     },
     "execution_count": 39,
     "metadata": {},
     "output_type": "execute_result"
    }
   ],
   "source": [
    "a = diff_plot_perc.eval('`ILP (no FCFS, Natt)` - `Hard assignment`').groupby('dataset_name').agg(['min', 'max', 'mean'])\n",
    "a"
   ]
  },
  {
   "cell_type": "code",
   "execution_count": 40,
   "metadata": {},
   "outputs": [
    {
     "data": {
      "text/html": [
       "<div>\n",
       "<style scoped>\n",
       "    .dataframe tbody tr th:only-of-type {\n",
       "        vertical-align: middle;\n",
       "    }\n",
       "\n",
       "    .dataframe tbody tr th {\n",
       "        vertical-align: top;\n",
       "    }\n",
       "\n",
       "    .dataframe thead th {\n",
       "        text-align: right;\n",
       "    }\n",
       "</style>\n",
       "<table border=\"1\" class=\"dataframe\">\n",
       "  <thead>\n",
       "    <tr style=\"text-align: right;\">\n",
       "      <th></th>\n",
       "      <th>min</th>\n",
       "      <th>max</th>\n",
       "      <th>mean</th>\n",
       "    </tr>\n",
       "    <tr>\n",
       "      <th>dataset_name</th>\n",
       "      <th></th>\n",
       "      <th></th>\n",
       "      <th></th>\n",
       "    </tr>\n",
       "  </thead>\n",
       "  <tbody>\n",
       "    <tr>\n",
       "      <th>2019-08-16</th>\n",
       "      <td>0.0</td>\n",
       "      <td>11.938099</td>\n",
       "      <td>6.131801</td>\n",
       "    </tr>\n",
       "    <tr>\n",
       "      <th>July</th>\n",
       "      <td>0.0</td>\n",
       "      <td>15.601319</td>\n",
       "      <td>5.895944</td>\n",
       "    </tr>\n",
       "    <tr>\n",
       "      <th>March</th>\n",
       "      <td>0.0</td>\n",
       "      <td>15.989211</td>\n",
       "      <td>5.927524</td>\n",
       "    </tr>\n",
       "    <tr>\n",
       "      <th>March-May</th>\n",
       "      <td>NaN</td>\n",
       "      <td>NaN</td>\n",
       "      <td>NaN</td>\n",
       "    </tr>\n",
       "  </tbody>\n",
       "</table>\n",
       "</div>"
      ],
      "text/plain": [
       "              min        max      mean\n",
       "dataset_name                          \n",
       "2019-08-16    0.0  11.938099  6.131801\n",
       "July          0.0  15.601319  5.895944\n",
       "March         0.0  15.989211  5.927524\n",
       "March-May     NaN        NaN       NaN"
      ]
     },
     "execution_count": 40,
     "metadata": {},
     "output_type": "execute_result"
    }
   ],
   "source": [
    "b = diff_plot_perc.eval('`ILP (no FCFS, hard)` - `Hard assignment`').groupby('dataset_name').agg(['min', 'max', 'mean'])\n",
    "b"
   ]
  },
  {
   "cell_type": "code",
   "execution_count": 41,
   "metadata": {},
   "outputs": [
    {
     "data": {
      "text/html": [
       "<div>\n",
       "<style scoped>\n",
       "    .dataframe tbody tr th:only-of-type {\n",
       "        vertical-align: middle;\n",
       "    }\n",
       "\n",
       "    .dataframe tbody tr th {\n",
       "        vertical-align: top;\n",
       "    }\n",
       "\n",
       "    .dataframe thead th {\n",
       "        text-align: right;\n",
       "    }\n",
       "</style>\n",
       "<table border=\"1\" class=\"dataframe\">\n",
       "  <thead>\n",
       "    <tr style=\"text-align: right;\">\n",
       "      <th></th>\n",
       "      <th>min</th>\n",
       "      <th>max</th>\n",
       "      <th>mean</th>\n",
       "    </tr>\n",
       "    <tr>\n",
       "      <th>dataset_name</th>\n",
       "      <th></th>\n",
       "      <th></th>\n",
       "      <th></th>\n",
       "    </tr>\n",
       "  </thead>\n",
       "  <tbody>\n",
       "    <tr>\n",
       "      <th>2019-08-16</th>\n",
       "      <td>1.105380</td>\n",
       "      <td>12.748710</td>\n",
       "      <td>11.606530</td>\n",
       "    </tr>\n",
       "    <tr>\n",
       "      <th>July</th>\n",
       "      <td>4.844934</td>\n",
       "      <td>-4.013472</td>\n",
       "      <td>2.091105</td>\n",
       "    </tr>\n",
       "    <tr>\n",
       "      <th>March</th>\n",
       "      <td>5.162376</td>\n",
       "      <td>-7.416409</td>\n",
       "      <td>0.879410</td>\n",
       "    </tr>\n",
       "    <tr>\n",
       "      <th>March-May</th>\n",
       "      <td>NaN</td>\n",
       "      <td>NaN</td>\n",
       "      <td>NaN</td>\n",
       "    </tr>\n",
       "  </tbody>\n",
       "</table>\n",
       "</div>"
      ],
      "text/plain": [
       "                   min        max       mean\n",
       "dataset_name                                \n",
       "2019-08-16    1.105380  12.748710  11.606530\n",
       "July          4.844934  -4.013472   2.091105\n",
       "March         5.162376  -7.416409   0.879410\n",
       "March-May          NaN        NaN        NaN"
      ]
     },
     "execution_count": 41,
     "metadata": {},
     "output_type": "execute_result"
    }
   ],
   "source": [
    "a - b"
   ]
  },
  {
   "cell_type": "code",
   "execution_count": 42,
   "metadata": {},
   "outputs": [
    {
     "data": {
      "text/html": [
       "<div>\n",
       "<style scoped>\n",
       "    .dataframe tbody tr th:only-of-type {\n",
       "        vertical-align: middle;\n",
       "    }\n",
       "\n",
       "    .dataframe tbody tr th {\n",
       "        vertical-align: top;\n",
       "    }\n",
       "\n",
       "    .dataframe thead th {\n",
       "        text-align: right;\n",
       "    }\n",
       "</style>\n",
       "<table border=\"1\" class=\"dataframe\">\n",
       "  <thead>\n",
       "    <tr style=\"text-align: right;\">\n",
       "      <th></th>\n",
       "      <th>min</th>\n",
       "      <th>max</th>\n",
       "      <th>mean</th>\n",
       "    </tr>\n",
       "    <tr>\n",
       "      <th>dataset_name</th>\n",
       "      <th></th>\n",
       "      <th></th>\n",
       "      <th></th>\n",
       "    </tr>\n",
       "  </thead>\n",
       "  <tbody>\n",
       "    <tr>\n",
       "      <th>2019-08-16</th>\n",
       "      <td>0.221076</td>\n",
       "      <td>0.884304</td>\n",
       "      <td>0.472736</td>\n",
       "    </tr>\n",
       "    <tr>\n",
       "      <th>July</th>\n",
       "      <td>0.017541</td>\n",
       "      <td>0.112265</td>\n",
       "      <td>0.061779</td>\n",
       "    </tr>\n",
       "    <tr>\n",
       "      <th>March</th>\n",
       "      <td>0.018695</td>\n",
       "      <td>0.066766</td>\n",
       "      <td>0.044785</td>\n",
       "    </tr>\n",
       "    <tr>\n",
       "      <th>March-May</th>\n",
       "      <td>NaN</td>\n",
       "      <td>NaN</td>\n",
       "      <td>NaN</td>\n",
       "    </tr>\n",
       "  </tbody>\n",
       "</table>\n",
       "</div>"
      ],
      "text/plain": [
       "                   min       max      mean\n",
       "dataset_name                              \n",
       "2019-08-16    0.221076  0.884304  0.472736\n",
       "July          0.017541  0.112265  0.061779\n",
       "March         0.018695  0.066766  0.044785\n",
       "March-May          NaN       NaN       NaN"
      ]
     },
     "execution_count": 42,
     "metadata": {},
     "output_type": "execute_result"
    }
   ],
   "source": [
    "diff_plot_perc.eval('`ILP (no FCFS, Natt)` - `ILP (no FCFS, 3att)`').groupby('dataset_name').agg(['min', 'max', 'mean'])"
   ]
  },
  {
   "cell_type": "code",
   "execution_count": 43,
   "metadata": {},
   "outputs": [
    {
     "data": {
      "text/html": [
       "<div>\n",
       "<style scoped>\n",
       "    .dataframe tbody tr th:only-of-type {\n",
       "        vertical-align: middle;\n",
       "    }\n",
       "\n",
       "    .dataframe tbody tr th {\n",
       "        vertical-align: top;\n",
       "    }\n",
       "\n",
       "    .dataframe thead th {\n",
       "        text-align: right;\n",
       "    }\n",
       "</style>\n",
       "<table border=\"1\" class=\"dataframe\">\n",
       "  <thead>\n",
       "    <tr style=\"text-align: right;\">\n",
       "      <th></th>\n",
       "      <th>min</th>\n",
       "      <th>max</th>\n",
       "      <th>mean</th>\n",
       "    </tr>\n",
       "    <tr>\n",
       "      <th>dataset_name</th>\n",
       "      <th></th>\n",
       "      <th></th>\n",
       "      <th></th>\n",
       "    </tr>\n",
       "  </thead>\n",
       "  <tbody>\n",
       "    <tr>\n",
       "      <th>2019-08-16</th>\n",
       "      <td>0.515844</td>\n",
       "      <td>12.822402</td>\n",
       "      <td>9.844380</td>\n",
       "    </tr>\n",
       "    <tr>\n",
       "      <th>July</th>\n",
       "      <td>3.687202</td>\n",
       "      <td>6.472776</td>\n",
       "      <td>5.168765</td>\n",
       "    </tr>\n",
       "    <tr>\n",
       "      <th>March</th>\n",
       "      <td>3.827048</td>\n",
       "      <td>5.707189</td>\n",
       "      <td>4.770611</td>\n",
       "    </tr>\n",
       "    <tr>\n",
       "      <th>March-May</th>\n",
       "      <td>NaN</td>\n",
       "      <td>NaN</td>\n",
       "      <td>NaN</td>\n",
       "    </tr>\n",
       "  </tbody>\n",
       "</table>\n",
       "</div>"
      ],
      "text/plain": [
       "                   min        max      mean\n",
       "dataset_name                               \n",
       "2019-08-16    0.515844  12.822402  9.844380\n",
       "July          3.687202   6.472776  5.168765\n",
       "March         3.827048   5.707189  4.770611\n",
       "March-May          NaN        NaN       NaN"
      ]
     },
     "execution_count": 43,
     "metadata": {},
     "output_type": "execute_result"
    }
   ],
   "source": [
    "diff_plot_perc.eval('`ILP (no FCFS, Natt)` - `ILP (no FCFS, hard)`').groupby('dataset_name').agg(['min', 'max', 'mean'])"
   ]
  },
  {
   "cell_type": "code",
   "execution_count": 44,
   "metadata": {},
   "outputs": [
    {
     "data": {
      "application/vnd.jupyter.widget-view+json": {
       "model_id": "1481320d1a89429e82d550bd022809b5",
       "version_major": 2,
       "version_minor": 0
      },
      "text/plain": [
       "Canvas(toolbar=Toolbar(toolitems=[('Home', 'Reset original view', 'home', 'home'), ('Back', 'Back to previous …"
      ]
     },
     "metadata": {},
     "output_type": "display_data"
    }
   ],
   "source": [
    "df_plot_this = df_plot.query(\"is_hard_assignment.str.startswith('Hard') and not solver.str.startswith('ILP')\").copy()\n",
    "df_plot_this['objective_diff'] = df_plot_this['objective'] - df_plot_this.groupby(['dataset_name', 'budget'])['objective'].transform('max')\n",
    "df_plot_this['objective_diff_perc'] = 100 * df_plot_this['objective_diff'] / df_plot_this.groupby('dataset_name')['objective'].transform('max')\n",
    "\n",
    "g = seaborn.relplot(kind='line', facet_kws=dict(sharey=True, sharex=False), palette=[c for c, s in zip(palette, solvers_order) if s in df_plot_this.solver.unique()], height=2,\n",
    "                    data=df_plot_this.rename(columns=colnames), x=colnames['budget'], y=colnames['objective_diff_perc'],\n",
    "                    hue=colnames['solver'], hue_order=[s for s in solvers_order if s in df_plot_this.solver.unique()],\n",
    "                    style=colnames['is_hard_assignment'], #style_order=(False, True),\n",
    "                    col=colnames['dataset_name'], col_order=sorted(df_plot['dataset_name'].unique()),\n",
    "                    col_wrap=2\n",
    "                   )\n",
    "g.fig.set_size_inches(winch, g.fig.get_size_inches()[1])\n",
    "g.tight_layout()\n",
    "g.fig.subplots_adjust(right=0.65, left=0.12)\n",
    "g._legend.set_bbox_to_anchor((0.67 + g._legend.get_window_extent().width / (g.fig.dpi * g.fig.get_size_inches()[0]), 0.5))\n",
    "\n",
    "if SAVE:\n",
    "    plt.savefig(f'plots/pdf/objective-values-training-diff-station-reduction.pdf')"
   ]
  },
  {
   "cell_type": "code",
   "execution_count": 45,
   "metadata": {},
   "outputs": [
    {
     "data": {
      "application/vnd.jupyter.widget-view+json": {
       "model_id": "ab67bc318a124346b60890dcccb5df57",
       "version_major": 2,
       "version_minor": 0
      },
      "text/plain": [
       "Canvas(toolbar=Toolbar(toolitems=[('Home', 'Reset original view', 'home', 'home'), ('Back', 'Back to previous …"
      ]
     },
     "metadata": {},
     "output_type": "display_data"
    }
   ],
   "source": [
    "df_plot_this = df_plot.query(\"is_hard_assignment.str.startswith('Hard')\").copy()\n",
    "df_plot_this['objective_diff'] = df_plot_this['objective'] - df_plot_this.groupby(['dataset_name', 'budget'])['objective'].transform('max')\n",
    "df_plot_this['objective_diff_perc'] = 100 * df_plot_this['objective_diff'] / df_plot_this.groupby('dataset_name')['objective'].transform('max')\n",
    "\n",
    "g = seaborn.relplot(kind='line', facet_kws=dict(sharey=True, sharex=False), palette=[c for c, s in zip(palette, solvers_order) if s in df_plot_this.solver.unique()], height=2,\n",
    "                    data=df_plot_this.rename(columns=colnames), x=colnames['budget'], y=colnames['objective_diff_perc'],\n",
    "                    hue=colnames['solver'], hue_order=[s for s in solvers_order if s in df_plot_this.solver.unique()],\n",
    "                    style=colnames['is_hard_assignment'],# style_order=(False, True),\n",
    "                    col=colnames['dataset_name'], col_order=dataset_order\n",
    "                   )\n",
    "g.fig.set_size_inches(winch, hinch)\n",
    "g.tight_layout()\n",
    "g.fig.subplots_adjust(right=0.65, left=0.12)\n",
    "g._legend.set_bbox_to_anchor((0.67 + g._legend.get_window_extent().width / (g.fig.dpi * g.fig.get_size_inches()[0]), 0.5))\n",
    "\n",
    "if SAVE:\n",
    "    plt.savefig(f'plots/pdf/objective-values-training-diff-hardassign.pdf')"
   ]
  },
  {
   "cell_type": "code",
   "execution_count": 46,
   "metadata": {},
   "outputs": [
    {
     "data": {
      "application/vnd.jupyter.widget-view+json": {
       "model_id": "03eb7482919b493e822dbecbceb3bd96",
       "version_major": 2,
       "version_minor": 0
      },
      "text/plain": [
       "Canvas(toolbar=Toolbar(toolitems=[('Home', 'Reset original view', 'home', 'home'), ('Back', 'Back to previous …"
      ]
     },
     "metadata": {},
     "output_type": "display_data"
    }
   ],
   "source": [
    "df_plot_this = df_plot.query(\"is_hard_assignment.str.startswith('Soft') or solver.str.contains('Two-stage') or solver == 'Hard assignment'\")\n",
    "df_plot_this = df_plot_this[df_plot_this.groupby(['dataset_name', 'budget'])['solver'].transform(lambda x: x.str.startswith('ILP').sum() > 0)].copy()\n",
    "df_plot_this['objective_diff'] = df_plot_this['objective'] - df_plot_this.groupby(['dataset_name', 'budget'])['objective'].transform('max')\n",
    "df_plot_this['objective_diff_perc'] = 100 * df_plot_this['objective_diff'] / df_plot_this.groupby('dataset_name')['objective'].transform('max')\n",
    "\n",
    "g = seaborn.relplot(kind='line', facet_kws=dict(sharey=True, sharex=True), palette=[c for c, s in zip(palette, solvers_order) if s in df_plot_this.solver.unique()], height=2,\n",
    "                    data=df_plot_this.rename(columns=colnames), x=colnames['budget'], y=colnames['objective_diff_perc'],\n",
    "                    hue=colnames['solver'], hue_order=[s for s in solvers_order if s in df_plot_this.solver.unique()],\n",
    "                    style=colnames['is_hard_assignment'],# style_order=(False, True),\n",
    "                    col=colnames['dataset_name'], col_order=dataset_order\n",
    "                   )\n",
    "g.fig.set_size_inches(winch, hinch)\n",
    "g.tight_layout()\n",
    "g.fig.subplots_adjust(right=0.65, left=0.12)\n",
    "g._legend.set_bbox_to_anchor((0.67 + g._legend.get_window_extent().width / (g.fig.dpi * g.fig.get_size_inches()[0]), 0.5))\n",
    "\n",
    "if SAVE:\n",
    "    plt.savefig(f'plots/pdf/objective-values-training-diff-softassign.pdf')"
   ]
  },
  {
   "cell_type": "markdown",
   "metadata": {},
   "source": [
    "# Crossvalidation"
   ]
  },
  {
   "cell_type": "markdown",
   "metadata": {},
   "source": [
    "## Validation Datasets"
   ]
  },
  {
   "cell_type": "code",
   "execution_count": 47,
   "metadata": {},
   "outputs": [],
   "source": [
    "def get_all_months(day_start, day_end):\n",
    "    months = []\n",
    "    month_last = day_end.replace(day=1) + relativedelta(months=1)\n",
    "    \n",
    "    month_next = day_start.replace(day=1)\n",
    "    while month_next != month_last:\n",
    "        months.append(month_next.replace())\n",
    "        month_next += relativedelta(months=1)\n",
    "    return months"
   ]
  },
  {
   "cell_type": "code",
   "execution_count": 48,
   "metadata": {},
   "outputs": [
    {
     "data": {
      "text/plain": [
       "[TrafficSpec('mar', '2019-03-01-to-2019-04-01-1att-300-inf'),\n",
       " TrafficSpec('jul', '2019-07-01-to-2019-08-01-1att-300-inf'),\n",
       " TrafficSpec('jun-to-oct', '2019-06-01-to-2019-09-15-1att-300-inf'),\n",
       " TrafficSpec('mar-to-jun', '2019-03-01-to-2019-06-01-1att-300-inf')]"
      ]
     },
     "metadata": {},
     "output_type": "display_data"
    }
   ],
   "source": [
    "day_start = traffic_full['arrival'].min().date()\n",
    "day_end = traffic_full['arrival'].max().date()\n",
    "\n",
    "np.random.seed(1)\n",
    "random_days = np.random.choice([day_start + timedelta(days=d) for d in range(0, (day_end - day_start).days + 1)], 12)\n",
    "random_days\n",
    "\n",
    "all_months = get_all_months(day_start, day_end)\n",
    "\n",
    "validation_traffic_specs = list(utils.factory_subsets(trf.TrafficSpec,\n",
    "    [\n",
    "        #*[dict(name=f'1day-random{i}', start_timestamp=tstmp, end_timestamp=tstmp + timedelta(days=1)) for i, tstmp in enumerate(random_days, 1)],\n",
    "        #*[dict(name=m.strftime(\"%b\").lower(), start_timestamp=m, end_timestamp=m + relativedelta(months=1)) for m in all_months],\n",
    "        dict(name='mar', start_timestamp='2019-03-01', end_timestamp='2019-04-01'),\n",
    "        dict(name='jul', start_timestamp='2019-07-01', end_timestamp='2019-08-01'),\n",
    "        dict(name='jun-to-oct', start_timestamp='2019-06-01', end_timestamp=traffic_full['departure'].max().date() + timedelta(days=1)),\n",
    "        dict(name='mar-to-jun', start_timestamp=traffic_full['arrival'].min().date(), end_timestamp='2019-06-01'),\n",
    "    ],\n",
    "    [\n",
    "        dict(max_attempts=1, minimal_complete_station_subset=False, remove_redundant_station_attempts=False, max_station_distance=300)\n",
    "    ]))\n",
    "\n",
    "display(validation_traffic_specs)"
   ]
  },
  {
   "cell_type": "code",
   "execution_count": 49,
   "metadata": {},
   "outputs": [
    {
     "data": {
      "application/vnd.jupyter.widget-view+json": {
       "model_id": "",
       "version_major": 2,
       "version_minor": 0
      },
      "text/plain": [
       "Specs:   0%|          | 0/4 [00:00<?, ?it/s]"
      ]
     },
     "metadata": {},
     "output_type": "display_data"
    }
   ],
   "source": [
    "validation_traffics = pipeline.build_all_traffics(validation_traffic_specs, progress=True, traffic_full=traffic_full, charging_stations=charging_stations, station_distances_mtx=station_distances_mtx)"
   ]
  },
  {
   "cell_type": "markdown",
   "metadata": {},
   "source": [
    "## Validation Simulation Parameters"
   ]
  },
  {
   "cell_type": "code",
   "execution_count": 50,
   "metadata": {},
   "outputs": [],
   "source": [
    "val_simulation_params = list(utils.factory_subsets(trf.SimulationSpec, [\n",
    "    dict(max_attempts=None, subsequent_attempts_by_original_position=True),\n",
    "    dict(max_attempts=3),\n",
    "    dict(max_attempts=1)\n",
    "], [\n",
    "    dict(max_station_distance=300, max_stations_pair_distance=300)\n",
    "]))"
   ]
  },
  {
   "cell_type": "code",
   "execution_count": 51,
   "metadata": {},
   "outputs": [
    {
     "data": {
      "text/plain": [
       "[SimulationSpec('300-300-origpos'),\n",
       " SimulationSpec('3att-300-300'),\n",
       " SimulationSpec('1att-300-300')]"
      ]
     },
     "execution_count": 51,
     "metadata": {},
     "output_type": "execute_result"
    }
   ],
   "source": [
    "val_simulation_params"
   ]
  },
  {
   "cell_type": "markdown",
   "metadata": {},
   "source": [
    "## Crossvalidation Resolution"
   ]
  },
  {
   "cell_type": "markdown",
   "metadata": {},
   "source": [
    "#### Requests for Crossvalidation"
   ]
  },
  {
   "cell_type": "code",
   "execution_count": 52,
   "metadata": {},
   "outputs": [
    {
     "data": {
      "text/plain": [
       "2118"
      ]
     },
     "execution_count": 52,
     "metadata": {},
     "output_type": "execute_result"
    }
   ],
   "source": [
    "crossval_request_keys = {pipeline.CrossvalidationRequestKey(a, b, c, is_auto_attempt_simulation=True)\n",
    "                         for (a, b, c) in itertools.chain(\n",
    "    itertools.product(validation_traffic_specs, [k for k, v in solutions.items() if not callable(v)], val_simulation_params),\n",
    "    list((a, b, c) for (a, b), c in itertools.product(\n",
    "            [\n",
    "                (validation_traffic_specs[0].copy(name=tr.name.split('__')[0], start_timestamp=tr.start_timestamp, end_timestamp=tr.end_timestamp), pipeline.Solvable(tr, slv))\n",
    "                for (tr, slv), v in solutions.items() if not callable(v)\n",
    "            ],\n",
    "            val_simulation_params))\n",
    ")}\n",
    "\n",
    "len(crossval_request_keys)"
   ]
  },
  {
   "cell_type": "code",
   "execution_count": 53,
   "metadata": {},
   "outputs": [],
   "source": [
    "crossval_requests = {k: opt.utils.unwrap_distributions(solutions[k.solvable], copy=False) for k in crossval_request_keys}"
   ]
  },
  {
   "cell_type": "markdown",
   "metadata": {},
   "source": [
    "#### Try to load existing results"
   ]
  },
  {
   "cell_type": "code",
   "execution_count": 54,
   "metadata": {},
   "outputs": [],
   "source": [
    "try:\n",
    "    crossval_results = utils.gzip_pickle_load(fname('crossval_results'))\n",
    "except FileNotFoundError:\n",
    "    crossval_results = dict()"
   ]
  },
  {
   "cell_type": "code",
   "execution_count": 55,
   "metadata": {},
   "outputs": [],
   "source": [
    "crossval_results = {k: v for k, v in crossval_results.items() if k in crossval_request_keys}"
   ]
  },
  {
   "cell_type": "markdown",
   "metadata": {},
   "source": [
    "#### Find missing results"
   ]
  },
  {
   "cell_type": "code",
   "execution_count": 59,
   "metadata": {},
   "outputs": [
    {
     "data": {
      "text/plain": [
       "59"
      ]
     },
     "execution_count": 59,
     "metadata": {},
     "output_type": "execute_result"
    }
   ],
   "source": [
    "missing_crossval_requests = set(crossval_requests.keys()).difference(crossval_results.keys())\n",
    "missing_crossval_requests = {k: crossval_requests[k] for k in missing_crossval_requests}\n",
    "len(missing_crossval_requests)"
   ]
  },
  {
   "cell_type": "markdown",
   "metadata": {},
   "source": [
    "#### Create external requests for resolution on cluster\n",
    "\n",
    "Use `run_crossval.py` executable on the cluster"
   ]
  },
  {
   "cell_type": "code",
   "execution_count": 61,
   "metadata": {},
   "outputs": [
    {
     "name": "stdout",
     "output_type": "stream",
     "text": [
      "Amount of chunks: 12 ; chunk size: 59\n"
     ]
    }
   ],
   "source": [
    "if len(missing_crossval_requests) > 0:\n",
    "    N_CHUNKS = 12\n",
    "    print(\"Amount of chunks:\", N_CHUNKS, \"; chunk size:\", len(next(utils.chunks(missing_crossval_requests, N_CHUNKS))))"
   ]
  },
  {
   "cell_type": "code",
   "execution_count": 62,
   "metadata": {},
   "outputs": [
    {
     "data": {
      "application/vnd.jupyter.widget-view+json": {
       "model_id": "",
       "version_major": 2,
       "version_minor": 0
      },
      "text/plain": [
       "Chunks:   0%|          | 0/12 [00:00<?, ?it/s]"
      ]
     },
     "metadata": {},
     "output_type": "display_data"
    }
   ],
   "source": [
    "if len(missing_crossval_requests) > 0:\n",
    "    crossvalidate_func = functools.partial(\n",
    "        pipeline.crossvalidate_all_multithread, auto_attempts=True, post_func=sim.get_satisfied_charging_requests,\n",
    "        charging_stations=charging_stations, station_distances_mtx=station_distances_mtx\n",
    "    )\n",
    "\n",
    "    Path(\"tmp/crossval/request\").mkdir(parents=True, exist_ok=True)\n",
    "\n",
    "    for i, v in utils.progressify(list(enumerate(utils.chunks(missing_crossval_requests, N_CHUNKS))), \"Chunks\"):\n",
    "        utils.gzip_pickle_dump(functools.partial(crossvalidate_func, v), \"tmp/crossval/request/crossval_request_%03d.pgz\" % i)"
   ]
  },
  {
   "cell_type": "markdown",
   "metadata": {},
   "source": [
    "#### Load new external results and add them to existing"
   ]
  },
  {
   "cell_type": "code",
   "execution_count": 57,
   "metadata": {},
   "outputs": [],
   "source": [
    "if len(missing_crossval_requests) > 0:\n",
    "    from glob import glob\n",
    "\n",
    "    for f in sorted(glob(\"tmp/crossval/result/RESULT-*.pgz\")):\n",
    "        crossval_results.update(utils.gzip_pickle_load(f))\n",
    "\n",
    "    utils.gzip_pickle_dump(crossval_results, fname('crossval_results'))"
   ]
  },
  {
   "cell_type": "markdown",
   "metadata": {},
   "source": [
    "# Visualize Crossvalidation"
   ]
  },
  {
   "cell_type": "code",
   "execution_count": 60,
   "metadata": {},
   "outputs": [],
   "source": [
    "from typing import Tuple\n",
    "\n",
    "def crossval_results_to_dataframe(crossval_results: Dict[pipeline.CrossvalidationRequestKey, Dict[int, float]]):\n",
    "    data = []\n",
    "    \n",
    "    for key, values in crossval_results.items():\n",
    "        opt_name_split = key.solvable.traffic_spec.name.split('__')\n",
    "        for bdgt, objective in values.items():\n",
    "            data.append({\n",
    "                'val_traffic': key.val_traffic_spec.name,\n",
    "                'val_simulation': key.simulation_spec.to_canonical_id(),\n",
    "                'opt_traffic': key.solvable.traffic_spec.name,\n",
    "                'opt_traffic_name': opt_name_split[0],\n",
    "                'opt_traffic_spec': opt_name_split[1],\n",
    "                'opt_solver': key.solvable.solver.name,\n",
    "                'budget': bdgt,\n",
    "                'objective': objective,\n",
    "                'is_true_simulation': key.is_auto_attempt_simulation\n",
    "            })\n",
    "    \n",
    "    data = pd.DataFrame(data)\n",
    "    \n",
    "    # rename hard assignment solver to reduced\n",
    "    data.loc[data['opt_traffic_spec'] == 'hassign-reduced', 'opt_solver'] = data.loc[data['opt_traffic_spec'] == 'hassign-reduced', 'opt_solver'] + \" (reduced)\"\n",
    "    \n",
    "    # drop the legacy solver data because we don't need it\n",
    "    data.drop(index=data.index[data['opt_solver'] == \"Hard assignment (legacy)\"], inplace=True)\n",
    "    \n",
    "    return data"
   ]
  },
  {
   "cell_type": "code",
   "execution_count": 61,
   "metadata": {},
   "outputs": [],
   "source": [
    "df2 = crossval_results_to_dataframe(crossval_results)"
   ]
  },
  {
   "cell_type": "code",
   "execution_count": 74,
   "metadata": {},
   "outputs": [],
   "source": [
    "df2_plot = df2.query(\"\"\"\n",
    "opt_traffic_spec.isin(['Natt-origpos', '3att-origpos', 'hassign', 'hassign-reduced']) and\n",
    "opt_solver.isin(['Hard assignment', 'Hard assignment (reduced)', 'Hard assignment (ILP subset)', 'ILP solution (no FCFS)']) and\n",
    "val_traffic.isin(['mar-to-jun', 'jun-to-oct'])\n",
    "\"\"\".replace('\\n', ' ')).copy()\n",
    "\n",
    "df2_plot['opt_solver'] = df2_plot['opt_solver'].replace({\n",
    "    'Hard assignment (ILP subset)': 'Two-stage (ILP subset)',\n",
    "    'Hard assignment (reduced)': 'Two-stage (iterative subset)',\n",
    "    'ILP solution (no FCFS)': 'ILP (no FCFS)'\n",
    "})\n",
    "\n",
    "df2_plot['is_hard_assignment'] = df2_plot.eval(\"(opt_traffic_spec == 'hassign' and opt_solver.str.startswith('ILP')) or opt_solver.str.contains('Hard assignment')\")\n",
    "df2_plot['is_crossval'] = df2_plot.eval(\"(val_traffic == 'mar-to-jun' and (opt_traffic_name == 'jul' or opt_traffic_name.str.startswith('2019-08'))) or (val_traffic == 'jun-to-oct' and (opt_traffic_name == 'mar' or opt_traffic_name.str.startswith('2019-05')))\")\n",
    "\n",
    "df2_plot['opt_traffic_spec'] = df2_plot['opt_traffic_spec'].replace({\n",
    "    'hassign': 'hard',\n",
    "    'Natt-origpos': 'Natt',\n",
    "    '3att-origpos': '3att'\n",
    "})\n",
    "\n",
    "dataset_names = {\n",
    "    MONTH_DATASET: 'March',\n",
    "    'jul': \"July\",\n",
    "    'mar-to-jun': \"Mar-Jun\",\n",
    "    'jun-to-oct': 'Jun-Sep'\n",
    "}\n",
    "\n",
    "df2_plot[['opt_traffic_name', 'val_traffic']] = df2_plot[['opt_traffic_name', 'val_traffic']].replace(dataset_names)\n",
    "\n",
    "df2_plot['val_traffic'] = df2_plot['val_traffic'].replace({sp.name: sp.start_timestamp.date().isoformat() for sp in validation_traffic_specs if sp.name.startswith('1day')})\n",
    "df2_plot['opt_traffic_name'] = df2_plot['opt_traffic_name'].replace({sp.name.split('__')[0]: sp.start_timestamp.date().isoformat() for sp in training_traffic_specs if sp.name.startswith('1day')})\n",
    "\n",
    "df2_plot['val_simulation'] = df2_plot['val_simulation'].replace({\n",
    "    '1att-300-300': '1',\n",
    "    '3att-300-300': '3',\n",
    "    '300-300-origpos': 'N'\n",
    "})\n",
    "\n",
    "df2_plot.sort_values(['val_traffic', 'opt_traffic_name'], inplace=True)\n",
    "\n",
    "df2_plot['traffic'] = 'Train = ' + df2_plot['opt_traffic_name'] + '\\nVal = ' + df2_plot['val_traffic']\n",
    "\n",
    "traffic_pairs = {i: v for i, v in enumerate(df2_plot['traffic'].unique())}\n",
    "df2_plot['traffic'] = df2_plot['traffic'].replace({v: i for i, v in traffic_pairs.items()})\n",
    "\n",
    "msk = df2_plot['opt_solver'].isin(['ILP (no FCFS)', 'Heuristic']) & (df2_plot['opt_traffic_spec'] != '')\n",
    "df2_plot.loc[msk, 'opt_solver'] += ' (' + df2_plot.loc[msk, 'opt_traffic_spec'] + ')'\n",
    "df2_plot.loc[msk, 'opt_solver'] = df2_plot.loc[msk, 'opt_solver'].str.replace(') (', ', ', regex=False)\n",
    "\n",
    "df2_plot['objective_diff'] = df2_plot['objective'] - df2_plot.groupby(['traffic', 'val_simulation', 'budget'])['objective'].transform('max')\n",
    "df2_plot['objective_perc'] = 100 * df2_plot['objective'] / df2_plot.groupby(['val_traffic', 'val_simulation'])['objective'].transform('max')\n",
    "df2_plot['objective_diff_perc'] = 100 * df2_plot['objective_diff'] / df2_plot.groupby(['val_traffic', 'val_simulation'])['objective'].transform('max')"
   ]
  },
  {
   "cell_type": "code",
   "execution_count": 75,
   "metadata": {},
   "outputs": [
    {
     "data": {
      "text/plain": [
       "array(['Jun-Sep', 'Mar-Jun'], dtype=object)"
      ]
     },
     "execution_count": 75,
     "metadata": {},
     "output_type": "execute_result"
    }
   ],
   "source": [
    "df2_plot.val_traffic.unique()"
   ]
  },
  {
   "cell_type": "code",
   "execution_count": 76,
   "metadata": {},
   "outputs": [
    {
     "data": {
      "text/plain": [
       "array(['3', '1', 'N'], dtype=object)"
      ]
     },
     "execution_count": 76,
     "metadata": {},
     "output_type": "execute_result"
    }
   ],
   "source": [
    "df2_plot.val_simulation.unique()"
   ]
  },
  {
   "cell_type": "code",
   "execution_count": 77,
   "metadata": {},
   "outputs": [
    {
     "data": {
      "text/plain": [
       "array(['2019-05-28', '2019-08-07', '2019-08-16', 'July', 'Jun-Sep',\n",
       "       'Mar-Jun', 'March'], dtype=object)"
      ]
     },
     "execution_count": 77,
     "metadata": {},
     "output_type": "execute_result"
    }
   ],
   "source": [
    "df2_plot.opt_traffic_name.unique()"
   ]
  },
  {
   "cell_type": "code",
   "execution_count": 78,
   "metadata": {},
   "outputs": [],
   "source": [
    "colnames2 = {\n",
    "    'val_traffic': 'Val',\n",
    "    'objective': 'Satisfied demand',\n",
    "    'objective_perc': 'Satisfied demand [%]',\n",
    "    'objective_diff_perc': 'Satisfied demand [%]\\n(difference from best)',\n",
    "    'budget': 'Budget',\n",
    "    'opt_solver': 'Budget distribution',\n",
    "    'is_hard_assignment': 'Hard assignment',\n",
    "    'opt_traffic_name': 'Training dataset',\n",
    "    'val_simulation': 'Charging\\nattempts',\n",
    "}"
   ]
  },
  {
   "cell_type": "code",
   "execution_count": 79,
   "metadata": {},
   "outputs": [
    {
     "data": {
      "text/plain": [
       "array(['ILP (no FCFS, hard)', 'Two-stage (iterative subset)',\n",
       "       'Two-stage (ILP subset)', 'ILP (no FCFS, Natt)',\n",
       "       'ILP (no FCFS, 3att)', 'Hard assignment'], dtype=object)"
      ]
     },
     "execution_count": 79,
     "metadata": {},
     "output_type": "execute_result"
    }
   ],
   "source": [
    "df2_plot.opt_solver.unique()"
   ]
  },
  {
   "cell_type": "code",
   "execution_count": 80,
   "metadata": {},
   "outputs": [
    {
     "data": {
      "text/plain": [
       "array(['5att-reduced', 'Natt-origpos', '3att-origpos', '3att',\n",
       "       'hassign-reduced', '3att-reduced', 'hassign'], dtype=object)"
      ]
     },
     "execution_count": 80,
     "metadata": {},
     "output_type": "execute_result"
    }
   ],
   "source": [
    "df.dataset_specialization.unique()"
   ]
  },
  {
   "cell_type": "code",
   "execution_count": 81,
   "metadata": {},
   "outputs": [],
   "source": [
    "df2_plot_this = df2_plot.query(\"(val_traffic.isin(['Mar-Jun']) and opt_traffic_name.isin(['July', '2019-08-07'])) or (val_traffic.isin(['Jun-Sep']) and opt_traffic_name.isin(['March', '2019-05-28']))\")\n",
    "df2_plot_this_best = pd.merge(\n",
    "        df2_plot.query(\"val_traffic.isin(['Mar-Jun', 'Jun-Sep']) and opt_traffic_name == val_traffic\").groupby(['val_simulation', 'val_traffic', 'budget'])[['objective']].max().reset_index(),\n",
    "        df2_plot_this[['val_traffic', 'traffic', 'opt_traffic_name']].drop_duplicates(), on=['val_traffic']).drop_duplicates()\n",
    "df2_plot_this_best['opt_solver'] = 'Baseline'\n",
    "df2_plot_this_best['is_hard_assignment'] = False\n",
    "df2_plot_this_best['is_crossval'] = False\n",
    "\n",
    "df2_plot_this = pd.concat([\n",
    "    df2_plot_this,\n",
    "    df2_plot_this_best\n",
    "])\n",
    "df2_plot_this.drop_duplicates(inplace=True)\n",
    "\n",
    "df2_plot_this.sort_values(['val_traffic', 'opt_traffic_name'], inplace=True)\n",
    "df2_plot_this['objective_diff'] = df2_plot_this['objective'] - df2_plot_this.groupby(['traffic', 'val_simulation', 'budget'])['objective'].transform('max')\n",
    "df2_plot_this['objective_perc'] = 100 * df2_plot_this['objective'] / df2_plot_this.groupby(['val_traffic', 'val_simulation'])['objective'].transform('max')\n",
    "df2_plot_this['objective_diff_perc'] = 100 * df2_plot_this['objective_diff'] / df2_plot_this.groupby(['val_traffic', 'val_simulation'])['objective'].transform('max')"
   ]
  },
  {
   "cell_type": "code",
   "execution_count": 82,
   "metadata": {},
   "outputs": [],
   "source": [
    "solvers2_order = [*solvers_order, 'Baseline']"
   ]
  },
  {
   "cell_type": "code",
   "execution_count": 83,
   "metadata": {},
   "outputs": [
    {
     "data": {
      "text/html": [
       "<svg  width=\"385\" height=\"55\"><rect x=\"0\" y=\"0\" width=\"55\" height=\"55\" style=\"fill:#e41a1c;stroke-width:2;stroke:rgb(255,255,255)\"/><rect x=\"55\" y=\"0\" width=\"55\" height=\"55\" style=\"fill:#377eb8;stroke-width:2;stroke:rgb(255,255,255)\"/><rect x=\"110\" y=\"0\" width=\"55\" height=\"55\" style=\"fill:#4daf4a;stroke-width:2;stroke:rgb(255,255,255)\"/><rect x=\"165\" y=\"0\" width=\"55\" height=\"55\" style=\"fill:#984ea3;stroke-width:2;stroke:rgb(255,255,255)\"/><rect x=\"220\" y=\"0\" width=\"55\" height=\"55\" style=\"fill:#ff7f00;stroke-width:2;stroke:rgb(255,255,255)\"/><rect x=\"275\" y=\"0\" width=\"55\" height=\"55\" style=\"fill:#ffff33;stroke-width:2;stroke:rgb(255,255,255)\"/><rect x=\"330\" y=\"0\" width=\"55\" height=\"55\" style=\"fill:#4c4c4c;stroke-width:2;stroke:rgb(255,255,255)\"/></svg>"
      ],
      "text/plain": [
       "[(0.8941176470588236, 0.10196078431372549, 0.10980392156862745),\n",
       " (0.21568627450980393, 0.49411764705882355, 0.7215686274509804),\n",
       " (0.30196078431372547, 0.6862745098039216, 0.2901960784313726),\n",
       " (0.596078431372549, 0.3058823529411765, 0.6392156862745098),\n",
       " (1.0, 0.4980392156862745, 0.0),\n",
       " (1.0, 1.0, 0.2),\n",
       " (0.3, 0.3, 0.3)]"
      ]
     },
     "execution_count": 83,
     "metadata": {},
     "output_type": "execute_result"
    }
   ],
   "source": [
    "palette2 = seaborn.color_palette(list([*palette, tuple([0.3] * 3)]))\n",
    "palette2"
   ]
  },
  {
   "cell_type": "code",
   "execution_count": 84,
   "metadata": {},
   "outputs": [],
   "source": [
    "plt.close('all')"
   ]
  },
  {
   "cell_type": "code",
   "execution_count": 85,
   "metadata": {},
   "outputs": [
    {
     "data": {
      "application/vnd.jupyter.widget-view+json": {
       "model_id": "47782c2c8b3049fd99cb19157d68b40d",
       "version_major": 2,
       "version_minor": 0
      },
      "text/plain": [
       "Canvas(toolbar=Toolbar(toolitems=[('Home', 'Reset original view', 'home', 'home'), ('Back', 'Back to previous …"
      ]
     },
     "metadata": {},
     "output_type": "display_data"
    },
    {
     "data": {
      "application/vnd.jupyter.widget-view+json": {
       "model_id": "6978eaaf65c74b64a24a89c7491ab28d",
       "version_major": 2,
       "version_minor": 0
      },
      "text/plain": [
       "Canvas(toolbar=Toolbar(toolitems=[('Home', 'Reset original view', 'home', 'home'), ('Back', 'Back to previous …"
      ]
     },
     "metadata": {},
     "output_type": "display_data"
    },
    {
     "data": {
      "application/vnd.jupyter.widget-view+json": {
       "model_id": "1daeb7c692ed4c639b5b1946537f44eb",
       "version_major": 2,
       "version_minor": 0
      },
      "text/plain": [
       "Canvas(toolbar=Toolbar(toolitems=[('Home', 'Reset original view', 'home', 'home'), ('Back', 'Back to previous …"
      ]
     },
     "metadata": {},
     "output_type": "display_data"
    }
   ],
   "source": [
    "for atts in ['1', '3', 'N']:\n",
    "    g = seaborn.relplot(kind='line', facet_kws=dict(sharey=True, sharex=True), palette=palette, height=2,\n",
    "                        data=df2_plot_this.query('val_simulation == @atts').drop_duplicates().rename(columns=colnames2), x=colnames2['budget'], y=colnames2['objective_perc'],\n",
    "                        hue=colnames2['opt_solver'], hue_order=solvers_order,\n",
    "                        #row=colnames2['opt_traffic_name'],# col_order=['1 day', '1 month'],\n",
    "                        col='traffic', col_order=df2_plot_this['traffic'].unique(), col_wrap=2,\n",
    "                        #col='opt_solver', col_order=[s for s in solvers_order if s in solvers_this], col_wrap=2,\n",
    "                        #col='is_true_simulation', col_order=(True, False), col_wrap=2,\n",
    "                        style=colnames2['is_hard_assignment'], style_order=(False, True),\n",
    "                        ci='sd')\n",
    "    g.fig.set_size_inches(winch, g.fig.get_size_inches()[1])\n",
    "    g.tight_layout()\n",
    "    g.fig.subplots_adjust(right=0.65, left=0.12, top=.88, hspace=.35)\n",
    "    g._legend.set_bbox_to_anchor((0.67 + g._legend.get_window_extent().width / (g.fig.dpi * g.fig.get_size_inches()[0]), 0.5))\n",
    "    \n",
    "    for tr, ax in g.axes_dict.items():\n",
    "        ax.set_title(traffic_pairs[tr])\n",
    "\n",
    "    if SAVE:\n",
    "        plt.savefig(f'plots/pdf/objective-values-crossval-{atts}att.pdf')"
   ]
  },
  {
   "cell_type": "code",
   "execution_count": 86,
   "metadata": {},
   "outputs": [],
   "source": [
    "diff_plot_perc2 = df2_plot_this.set_index(['val_traffic', 'opt_traffic_name', 'val_simulation', 'budget', 'opt_solver'])['objective_perc'].unstack()"
   ]
  },
  {
   "cell_type": "code",
   "execution_count": 87,
   "metadata": {},
   "outputs": [
    {
     "data": {
      "text/html": [
       "<div>\n",
       "<style scoped>\n",
       "    .dataframe tbody tr th:only-of-type {\n",
       "        vertical-align: middle;\n",
       "    }\n",
       "\n",
       "    .dataframe tbody tr th {\n",
       "        vertical-align: top;\n",
       "    }\n",
       "\n",
       "    .dataframe thead th {\n",
       "        text-align: right;\n",
       "    }\n",
       "</style>\n",
       "<table border=\"1\" class=\"dataframe\">\n",
       "  <thead>\n",
       "    <tr style=\"text-align: right;\">\n",
       "      <th></th>\n",
       "      <th></th>\n",
       "      <th></th>\n",
       "      <th>min</th>\n",
       "      <th>max</th>\n",
       "      <th>mean</th>\n",
       "    </tr>\n",
       "    <tr>\n",
       "      <th>val_simulation</th>\n",
       "      <th>opt_traffic_name</th>\n",
       "      <th>val_traffic</th>\n",
       "      <th></th>\n",
       "      <th></th>\n",
       "      <th></th>\n",
       "    </tr>\n",
       "  </thead>\n",
       "  <tbody>\n",
       "    <tr>\n",
       "      <th rowspan=\"4\" valign=\"top\">1</th>\n",
       "      <th>2019-05-28</th>\n",
       "      <th>Jun-Sep</th>\n",
       "      <td>-0.399885</td>\n",
       "      <td>7.338701</td>\n",
       "      <td>3.705633</td>\n",
       "    </tr>\n",
       "    <tr>\n",
       "      <th>2019-08-07</th>\n",
       "      <th>Mar-Jun</th>\n",
       "      <td>-0.617590</td>\n",
       "      <td>6.191557</td>\n",
       "      <td>3.564234</td>\n",
       "    </tr>\n",
       "    <tr>\n",
       "      <th>July</th>\n",
       "      <th>Mar-Jun</th>\n",
       "      <td>-0.070457</td>\n",
       "      <td>3.883858</td>\n",
       "      <td>2.430173</td>\n",
       "    </tr>\n",
       "    <tr>\n",
       "      <th>March</th>\n",
       "      <th>Jun-Sep</th>\n",
       "      <td>0.078005</td>\n",
       "      <td>4.149482</td>\n",
       "      <td>2.376094</td>\n",
       "    </tr>\n",
       "    <tr>\n",
       "      <th rowspan=\"4\" valign=\"top\">3</th>\n",
       "      <th>2019-05-28</th>\n",
       "      <th>Jun-Sep</th>\n",
       "      <td>-1.408564</td>\n",
       "      <td>1.076821</td>\n",
       "      <td>-0.046893</td>\n",
       "    </tr>\n",
       "    <tr>\n",
       "      <th>2019-08-07</th>\n",
       "      <th>Mar-Jun</th>\n",
       "      <td>-1.625740</td>\n",
       "      <td>0.206153</td>\n",
       "      <td>-0.704024</td>\n",
       "    </tr>\n",
       "    <tr>\n",
       "      <th>July</th>\n",
       "      <th>Mar-Jun</th>\n",
       "      <td>-1.049903</td>\n",
       "      <td>0.142655</td>\n",
       "      <td>-0.507608</td>\n",
       "    </tr>\n",
       "    <tr>\n",
       "      <th>March</th>\n",
       "      <th>Jun-Sep</th>\n",
       "      <td>-0.698454</td>\n",
       "      <td>0.191873</td>\n",
       "      <td>-0.156180</td>\n",
       "    </tr>\n",
       "    <tr>\n",
       "      <th rowspan=\"4\" valign=\"top\">N</th>\n",
       "      <th>2019-05-28</th>\n",
       "      <th>Jun-Sep</th>\n",
       "      <td>-2.199369</td>\n",
       "      <td>0.563964</td>\n",
       "      <td>-0.763191</td>\n",
       "    </tr>\n",
       "    <tr>\n",
       "      <th>2019-08-07</th>\n",
       "      <th>Mar-Jun</th>\n",
       "      <td>-1.873646</td>\n",
       "      <td>0.565399</td>\n",
       "      <td>-0.719107</td>\n",
       "    </tr>\n",
       "    <tr>\n",
       "      <th>July</th>\n",
       "      <th>Mar-Jun</th>\n",
       "      <td>-0.812435</td>\n",
       "      <td>0.179188</td>\n",
       "      <td>-0.380913</td>\n",
       "    </tr>\n",
       "    <tr>\n",
       "      <th>March</th>\n",
       "      <th>Jun-Sep</th>\n",
       "      <td>-0.889431</td>\n",
       "      <td>0.225048</td>\n",
       "      <td>-0.214424</td>\n",
       "    </tr>\n",
       "  </tbody>\n",
       "</table>\n",
       "</div>"
      ],
      "text/plain": [
       "                                                  min       max      mean\n",
       "val_simulation opt_traffic_name val_traffic                              \n",
       "1              2019-05-28       Jun-Sep     -0.399885  7.338701  3.705633\n",
       "               2019-08-07       Mar-Jun     -0.617590  6.191557  3.564234\n",
       "               July             Mar-Jun     -0.070457  3.883858  2.430173\n",
       "               March            Jun-Sep      0.078005  4.149482  2.376094\n",
       "3              2019-05-28       Jun-Sep     -1.408564  1.076821 -0.046893\n",
       "               2019-08-07       Mar-Jun     -1.625740  0.206153 -0.704024\n",
       "               July             Mar-Jun     -1.049903  0.142655 -0.507608\n",
       "               March            Jun-Sep     -0.698454  0.191873 -0.156180\n",
       "N              2019-05-28       Jun-Sep     -2.199369  0.563964 -0.763191\n",
       "               2019-08-07       Mar-Jun     -1.873646  0.565399 -0.719107\n",
       "               July             Mar-Jun     -0.812435  0.179188 -0.380913\n",
       "               March            Jun-Sep     -0.889431  0.225048 -0.214424"
      ]
     },
     "execution_count": 87,
     "metadata": {},
     "output_type": "execute_result"
    }
   ],
   "source": [
    "diff_plot_perc2.eval('`Two-stage (ILP subset)` - `Hard assignment`').groupby(['val_simulation', 'opt_traffic_name', 'val_traffic']).agg(['min', 'max', 'mean'])"
   ]
  },
  {
   "cell_type": "code",
   "execution_count": 88,
   "metadata": {},
   "outputs": [
    {
     "data": {
      "text/html": [
       "<div>\n",
       "<style scoped>\n",
       "    .dataframe tbody tr th:only-of-type {\n",
       "        vertical-align: middle;\n",
       "    }\n",
       "\n",
       "    .dataframe tbody tr th {\n",
       "        vertical-align: top;\n",
       "    }\n",
       "\n",
       "    .dataframe thead th {\n",
       "        text-align: right;\n",
       "    }\n",
       "</style>\n",
       "<table border=\"1\" class=\"dataframe\">\n",
       "  <thead>\n",
       "    <tr style=\"text-align: right;\">\n",
       "      <th></th>\n",
       "      <th></th>\n",
       "      <th></th>\n",
       "      <th>min</th>\n",
       "      <th>max</th>\n",
       "      <th>mean</th>\n",
       "    </tr>\n",
       "    <tr>\n",
       "      <th>val_simulation</th>\n",
       "      <th>opt_traffic_name</th>\n",
       "      <th>val_traffic</th>\n",
       "      <th></th>\n",
       "      <th></th>\n",
       "      <th></th>\n",
       "    </tr>\n",
       "  </thead>\n",
       "  <tbody>\n",
       "    <tr>\n",
       "      <th rowspan=\"4\" valign=\"top\">1</th>\n",
       "      <th>2019-05-28</th>\n",
       "      <th>Jun-Sep</th>\n",
       "      <td>-0.033174</td>\n",
       "      <td>2.654843</td>\n",
       "      <td>1.086890</td>\n",
       "    </tr>\n",
       "    <tr>\n",
       "      <th>2019-08-07</th>\n",
       "      <th>Mar-Jun</th>\n",
       "      <td>-0.340109</td>\n",
       "      <td>1.949323</td>\n",
       "      <td>0.590397</td>\n",
       "    </tr>\n",
       "    <tr>\n",
       "      <th>July</th>\n",
       "      <th>Mar-Jun</th>\n",
       "      <td>0.020006</td>\n",
       "      <td>1.257796</td>\n",
       "      <td>0.763197</td>\n",
       "    </tr>\n",
       "    <tr>\n",
       "      <th>March</th>\n",
       "      <th>Jun-Sep</th>\n",
       "      <td>-0.045727</td>\n",
       "      <td>0.736112</td>\n",
       "      <td>0.361328</td>\n",
       "    </tr>\n",
       "    <tr>\n",
       "      <th rowspan=\"4\" valign=\"top\">3</th>\n",
       "      <th>2019-05-28</th>\n",
       "      <th>Jun-Sep</th>\n",
       "      <td>0.004483</td>\n",
       "      <td>2.619876</td>\n",
       "      <td>1.333605</td>\n",
       "    </tr>\n",
       "    <tr>\n",
       "      <th>2019-08-07</th>\n",
       "      <th>Mar-Jun</th>\n",
       "      <td>0.000000</td>\n",
       "      <td>2.529509</td>\n",
       "      <td>1.419329</td>\n",
       "    </tr>\n",
       "    <tr>\n",
       "      <th>July</th>\n",
       "      <th>Mar-Jun</th>\n",
       "      <td>0.020006</td>\n",
       "      <td>1.632699</td>\n",
       "      <td>0.819216</td>\n",
       "    </tr>\n",
       "    <tr>\n",
       "      <th>March</th>\n",
       "      <th>Jun-Sep</th>\n",
       "      <td>-0.031381</td>\n",
       "      <td>0.927088</td>\n",
       "      <td>0.383615</td>\n",
       "    </tr>\n",
       "    <tr>\n",
       "      <th rowspan=\"4\" valign=\"top\">N</th>\n",
       "      <th>2019-05-28</th>\n",
       "      <th>Jun-Sep</th>\n",
       "      <td>0.179321</td>\n",
       "      <td>3.027831</td>\n",
       "      <td>1.726280</td>\n",
       "    </tr>\n",
       "    <tr>\n",
       "      <th>2019-08-07</th>\n",
       "      <th>Mar-Jun</th>\n",
       "      <td>0.000000</td>\n",
       "      <td>2.247680</td>\n",
       "      <td>1.218169</td>\n",
       "    </tr>\n",
       "    <tr>\n",
       "      <th>July</th>\n",
       "      <th>Mar-Jun</th>\n",
       "      <td>-0.089594</td>\n",
       "      <td>0.909858</td>\n",
       "      <td>0.445420</td>\n",
       "    </tr>\n",
       "    <tr>\n",
       "      <th>March</th>\n",
       "      <th>Jun-Sep</th>\n",
       "      <td>-0.025105</td>\n",
       "      <td>1.146756</td>\n",
       "      <td>0.425893</td>\n",
       "    </tr>\n",
       "  </tbody>\n",
       "</table>\n",
       "</div>"
      ],
      "text/plain": [
       "                                                  min       max      mean\n",
       "val_simulation opt_traffic_name val_traffic                              \n",
       "1              2019-05-28       Jun-Sep     -0.033174  2.654843  1.086890\n",
       "               2019-08-07       Mar-Jun     -0.340109  1.949323  0.590397\n",
       "               July             Mar-Jun      0.020006  1.257796  0.763197\n",
       "               March            Jun-Sep     -0.045727  0.736112  0.361328\n",
       "3              2019-05-28       Jun-Sep      0.004483  2.619876  1.333605\n",
       "               2019-08-07       Mar-Jun      0.000000  2.529509  1.419329\n",
       "               July             Mar-Jun      0.020006  1.632699  0.819216\n",
       "               March            Jun-Sep     -0.031381  0.927088  0.383615\n",
       "N              2019-05-28       Jun-Sep      0.179321  3.027831  1.726280\n",
       "               2019-08-07       Mar-Jun      0.000000  2.247680  1.218169\n",
       "               July             Mar-Jun     -0.089594  0.909858  0.445420\n",
       "               March            Jun-Sep     -0.025105  1.146756  0.425893"
      ]
     },
     "execution_count": 88,
     "metadata": {},
     "output_type": "execute_result"
    }
   ],
   "source": [
    "diff_plot_perc2.eval('`Baseline` - `Two-stage (ILP subset)`').groupby(['val_simulation', 'opt_traffic_name', 'val_traffic']).agg(['min', 'max', 'mean'])"
   ]
  },
  {
   "cell_type": "code",
   "execution_count": 89,
   "metadata": {},
   "outputs": [
    {
     "data": {
      "text/html": [
       "<div>\n",
       "<style scoped>\n",
       "    .dataframe tbody tr th:only-of-type {\n",
       "        vertical-align: middle;\n",
       "    }\n",
       "\n",
       "    .dataframe tbody tr th {\n",
       "        vertical-align: top;\n",
       "    }\n",
       "\n",
       "    .dataframe thead th {\n",
       "        text-align: right;\n",
       "    }\n",
       "</style>\n",
       "<table border=\"1\" class=\"dataframe\">\n",
       "  <thead>\n",
       "    <tr style=\"text-align: right;\">\n",
       "      <th></th>\n",
       "      <th></th>\n",
       "      <th>min</th>\n",
       "      <th>max</th>\n",
       "      <th>mean</th>\n",
       "    </tr>\n",
       "    <tr>\n",
       "      <th>val_traffic</th>\n",
       "      <th>val_simulation</th>\n",
       "      <th></th>\n",
       "      <th></th>\n",
       "      <th></th>\n",
       "    </tr>\n",
       "  </thead>\n",
       "  <tbody>\n",
       "    <tr>\n",
       "      <th rowspan=\"3\" valign=\"top\">Mar-Jun</th>\n",
       "      <th>1</th>\n",
       "      <td>0.005219</td>\n",
       "      <td>1.198647</td>\n",
       "      <td>0.430519</td>\n",
       "    </tr>\n",
       "    <tr>\n",
       "      <th>3</th>\n",
       "      <td>0.003479</td>\n",
       "      <td>1.379574</td>\n",
       "      <td>0.718569</td>\n",
       "    </tr>\n",
       "    <tr>\n",
       "      <th>N</th>\n",
       "      <td>0.000000</td>\n",
       "      <td>1.712725</td>\n",
       "      <td>0.850921</td>\n",
       "    </tr>\n",
       "  </tbody>\n",
       "</table>\n",
       "</div>"
      ],
      "text/plain": [
       "                                 min       max      mean\n",
       "val_traffic val_simulation                              \n",
       "Mar-Jun     1               0.005219  1.198647  0.430519\n",
       "            3               0.003479  1.379574  0.718569\n",
       "            N               0.000000  1.712725  0.850921"
      ]
     },
     "execution_count": 89,
     "metadata": {},
     "output_type": "execute_result"
    }
   ],
   "source": [
    "diff_plot_perc2['Two-stage (ILP subset)'].unstack('opt_traffic_name').eval('July - `2019-08-07`').abs().dropna().groupby(['val_traffic', 'val_simulation']).agg(['min', 'max', 'mean'])"
   ]
  },
  {
   "cell_type": "raw",
   "metadata": {},
   "source": [
    "seaborn.relplot(kind='line', data=df2_plot.query(\"objective_perc >= 91\")[['budget', 'objective_perc']], x='budget', y='objective_perc')"
   ]
  },
  {
   "cell_type": "code",
   "execution_count": 90,
   "metadata": {},
   "outputs": [
    {
     "data": {
      "text/plain": [
       "opt_traffic_name\n",
       "2019-05-28     99.892408\n",
       "2019-08-07     98.738479\n",
       "2019-08-16     98.331421\n",
       "July           99.980275\n",
       "Jun-Sep       100.000000\n",
       "Mar-Jun       100.000000\n",
       "March          99.999103\n",
       "Name: objective_perc, dtype: float64"
      ]
     },
     "execution_count": 90,
     "metadata": {},
     "output_type": "execute_result"
    }
   ],
   "source": [
    "df2_plot.groupby(['opt_traffic_name'])['objective_perc'].max()"
   ]
  },
  {
   "cell_type": "code",
   "execution_count": 92,
   "metadata": {},
   "outputs": [
    {
     "data": {
      "application/vnd.jupyter.widget-view+json": {
       "model_id": "a750ed1230ac489d80557da846518073",
       "version_major": 2,
       "version_minor": 0
      },
      "text/plain": [
       "Canvas(toolbar=Toolbar(toolitems=[('Home', 'Reset original view', 'home', 'home'), ('Back', 'Back to previous …"
      ]
     },
     "metadata": {},
     "output_type": "display_data"
    },
    {
     "data": {
      "application/vnd.jupyter.widget-view+json": {
       "model_id": "39732cf1b1e148d9a5158e23f07bee9c",
       "version_major": 2,
       "version_minor": 0
      },
      "text/plain": [
       "Canvas(toolbar=Toolbar(toolitems=[('Home', 'Reset original view', 'home', 'home'), ('Back', 'Back to previous …"
      ]
     },
     "metadata": {},
     "output_type": "display_data"
    },
    {
     "data": {
      "application/vnd.jupyter.widget-view+json": {
       "model_id": "118a310ef2304544bf0917d0609d043f",
       "version_major": 2,
       "version_minor": 0
      },
      "text/plain": [
       "Canvas(toolbar=Toolbar(toolitems=[('Home', 'Reset original view', 'home', 'home'), ('Back', 'Back to previous …"
      ]
     },
     "metadata": {},
     "output_type": "display_data"
    }
   ],
   "source": [
    "for atts in ['1', '3', 'N']:\n",
    "    df2_plot_this2 = df2_plot_this.query(\"val_simulation == @atts and not opt_solver.str.contains('att')\")\n",
    "    df2_plot_this2_solvers = df2_plot_this2.opt_solver.unique()\n",
    "    \n",
    "    g = seaborn.relplot(kind='line', facet_kws=dict(sharey=True, sharex=True), palette=[c for s, c in zip(solvers2_order, palette2) if s in df2_plot_this2_solvers], height=2,\n",
    "                        data=df2_plot_this2.drop_duplicates().rename(columns=colnames2), x=colnames2['budget'], y=colnames2['objective_diff_perc'],\n",
    "                        hue=colnames2['opt_solver'], hue_order=[s for s in solvers2_order if s in df2_plot_this2_solvers],\n",
    "                        #row=colnames2['opt_traffic_name'],# col_order=['1 day', '1 month'],\n",
    "                        col='traffic', col_order=df2_plot_this['traffic'].unique(), col_wrap=2,\n",
    "                        #col='opt_solver', col_order=[s for s in solvers_order if s in solvers_this], col_wrap=2,\n",
    "                        #col='is_true_simulation', col_order=(True, False), col_wrap=2,\n",
    "                        style=colnames2['is_hard_assignment'], style_order=(False, True),\n",
    "                        ci='sd')\n",
    "    g.fig.set_size_inches(winch, g.fig.get_size_inches()[1])\n",
    "    g.tight_layout()\n",
    "    g.fig.subplots_adjust(right=0.65, left=0.12, top=.88, hspace=.35)\n",
    "    g._legend.set_bbox_to_anchor((0.67 + g._legend.get_window_extent().width / (g.fig.dpi * g.fig.get_size_inches()[0]), 0.5))\n",
    "    \n",
    "    for tr, ax in g.axes_dict.items():\n",
    "        ax.set_title(traffic_pairs[tr])\n",
    "\n",
    "    if SAVE:\n",
    "        plt.savefig(f'plots/pdf/objective-values-crossval-diff-{atts}att.pdf')"
   ]
  },
  {
   "cell_type": "code",
   "execution_count": 93,
   "metadata": {},
   "outputs": [
    {
     "data": {
      "application/vnd.jupyter.widget-view+json": {
       "model_id": "98961589f96443aa94f765160ec94831",
       "version_major": 2,
       "version_minor": 0
      },
      "text/plain": [
       "Canvas(toolbar=Toolbar(toolitems=[('Home', 'Reset original view', 'home', 'home'), ('Back', 'Back to previous …"
      ]
     },
     "metadata": {},
     "output_type": "display_data"
    }
   ],
   "source": [
    "fig, ax = plt.subplots(figsize=(4, 2))\n",
    "tmp = traffic_full.groupby(pd.Grouper(key='arrival', freq='D'))['vehicle'].count()#.to_frame('No. of requests').plot(drawstyle='steps-pre')\n",
    "tmp[tmp.index.weekday <= 4].to_frame('Workdays').rolling(5).mean().plot(ax=ax, color='#1378C7')\n",
    "tmp[tmp.index.weekday > 4].to_frame('Weekends').rolling(5).mean().plot(ax=ax, color='tab:orange')\n",
    "plt.xlabel(None)\n",
    "plt.ylabel(\"Charging demand size\")\n",
    "#plt.text(0.02, 0.15, 'Training', ha='left', transform=plt.gca().transAxes)\n",
    "\n",
    "for m in traffic_full.groupby(pd.Grouper(key='arrival', freq='M'))['vehicle'].count().index:\n",
    "    m = date(year=m.year, month=m.month, day=1)\n",
    "    plt.axvline(m, color='#ccddf3', zorder=-10)\n",
    "\n",
    "days = list(set([tr.start_timestamp.date().isoformat() for tr in training_traffic_specs if tr.name.startswith('1day')]))\n",
    "plt.scatter(days, [tmp.loc[d] for d in days], c='r', marker='x')\n",
    "for d, (x, y) in zip(days, [(-55, -5), (-22, -15), (-22, 10)]):\n",
    "    plt.annotate(d, (d, tmp.loc[d]), xytext=(x, y), textcoords='offset points', bbox=dict(boxstyle=\"round\", fc=\"1\", alpha=0.7))\n",
    "#plt.axhline(len(get_median_day_traffic(traffic_opt)), color='r', xmax=0.38).set_label(\"Median day\")\n",
    "plt.legend()\n",
    "fig.subplots_adjust(left=0.15, right=0.85)\n",
    "#plt.text(0.02, len(get_median_day_traffic(traffic_opt)) - 150, 'Median day no.', transform=plt.gca().get_yaxis_transform(), color='r', va='top', fontsize=10)\n",
    "\n",
    "if SAVE:\n",
    "    plt.savefig(\"plots/pdf/demand_size_time.pdf\")"
   ]
  },
  {
   "cell_type": "code",
   "execution_count": 94,
   "metadata": {},
   "outputs": [],
   "source": [
    "plt.close('all')"
   ]
  },
  {
   "cell_type": "code",
   "execution_count": 95,
   "metadata": {},
   "outputs": [
    {
     "data": {
      "application/vnd.jupyter.widget-view+json": {
       "model_id": "b26d977101de4ff882aa3dd3904736e7",
       "version_major": 2,
       "version_minor": 0
      },
      "text/plain": [
       "Canvas(toolbar=Toolbar(toolitems=[('Home', 'Reset original view', 'home', 'home'), ('Back', 'Back to previous …"
      ]
     },
     "metadata": {},
     "output_type": "display_data"
    },
    {
     "data": {
      "text/html": [
       "<div>\n",
       "<style scoped>\n",
       "    .dataframe tbody tr th:only-of-type {\n",
       "        vertical-align: middle;\n",
       "    }\n",
       "\n",
       "    .dataframe tbody tr th {\n",
       "        vertical-align: top;\n",
       "    }\n",
       "\n",
       "    .dataframe thead th {\n",
       "        text-align: right;\n",
       "    }\n",
       "</style>\n",
       "<table border=\"1\" class=\"dataframe\">\n",
       "  <thead>\n",
       "    <tr style=\"text-align: right;\">\n",
       "      <th></th>\n",
       "      <th>min</th>\n",
       "      <th>max</th>\n",
       "      <th>median</th>\n",
       "    </tr>\n",
       "    <tr>\n",
       "      <th>val_simulation</th>\n",
       "      <th></th>\n",
       "      <th></th>\n",
       "      <th></th>\n",
       "    </tr>\n",
       "  </thead>\n",
       "  <tbody>\n",
       "    <tr>\n",
       "      <th>1</th>\n",
       "      <td>0.0</td>\n",
       "      <td>4.953053</td>\n",
       "      <td>0.264951</td>\n",
       "    </tr>\n",
       "    <tr>\n",
       "      <th>3</th>\n",
       "      <td>0.0</td>\n",
       "      <td>0.987684</td>\n",
       "      <td>0.111920</td>\n",
       "    </tr>\n",
       "    <tr>\n",
       "      <th>N</th>\n",
       "      <td>0.0</td>\n",
       "      <td>0.822063</td>\n",
       "      <td>0.202033</td>\n",
       "    </tr>\n",
       "  </tbody>\n",
       "</table>\n",
       "</div>"
      ],
      "text/plain": [
       "                min       max    median\n",
       "val_simulation                         \n",
       "1               0.0  4.953053  0.264951\n",
       "3               0.0  0.987684  0.111920\n",
       "N               0.0  0.822063  0.202033"
      ]
     },
     "metadata": {},
     "output_type": "display_data"
    },
    {
     "data": {
      "application/vnd.jupyter.widget-view+json": {
       "model_id": "c6452e09942b4f3093f26387fe00fc3e",
       "version_major": 2,
       "version_minor": 0
      },
      "text/plain": [
       "Canvas(toolbar=Toolbar(toolitems=[('Home', 'Reset original view', 'home', 'home'), ('Back', 'Back to previous …"
      ]
     },
     "metadata": {},
     "output_type": "display_data"
    },
    {
     "data": {
      "text/html": [
       "<div>\n",
       "<style scoped>\n",
       "    .dataframe tbody tr th:only-of-type {\n",
       "        vertical-align: middle;\n",
       "    }\n",
       "\n",
       "    .dataframe tbody tr th {\n",
       "        vertical-align: top;\n",
       "    }\n",
       "\n",
       "    .dataframe thead th {\n",
       "        text-align: right;\n",
       "    }\n",
       "</style>\n",
       "<table border=\"1\" class=\"dataframe\">\n",
       "  <thead>\n",
       "    <tr style=\"text-align: right;\">\n",
       "      <th></th>\n",
       "      <th>min</th>\n",
       "      <th>max</th>\n",
       "      <th>median</th>\n",
       "    </tr>\n",
       "    <tr>\n",
       "      <th>val_simulation</th>\n",
       "      <th></th>\n",
       "      <th></th>\n",
       "      <th></th>\n",
       "    </tr>\n",
       "  </thead>\n",
       "  <tbody>\n",
       "    <tr>\n",
       "      <th>1</th>\n",
       "      <td>0.0</td>\n",
       "      <td>3.024289</td>\n",
       "      <td>0.545952</td>\n",
       "    </tr>\n",
       "    <tr>\n",
       "      <th>3</th>\n",
       "      <td>0.0</td>\n",
       "      <td>1.202356</td>\n",
       "      <td>0.464445</td>\n",
       "    </tr>\n",
       "    <tr>\n",
       "      <th>N</th>\n",
       "      <td>0.0</td>\n",
       "      <td>1.082366</td>\n",
       "      <td>0.325517</td>\n",
       "    </tr>\n",
       "  </tbody>\n",
       "</table>\n",
       "</div>"
      ],
      "text/plain": [
       "                min       max    median\n",
       "val_simulation                         \n",
       "1               0.0  3.024289  0.545952\n",
       "3               0.0  1.202356  0.464445\n",
       "N               0.0  1.082366  0.325517"
      ]
     },
     "metadata": {},
     "output_type": "display_data"
    }
   ],
   "source": [
    "plt.ion()\n",
    "\n",
    "for opt_traffic_names in [['July', '2019-08-07'], ['March', '2019-05-28']]:\n",
    "    df2_plot_this2 = df2_plot_this.query(\"opt_traffic_name.isin(@opt_traffic_names) and opt_solver != 'Baseline'\")\n",
    "    df2_plot_this2 = df2_plot_this2.loc[df2_plot_this2.groupby(['opt_traffic_name', 'val_simulation', 'budget'])['objective'].idxmax()].copy()\n",
    "    \n",
    "    df2_plot_this2['objective_diff'] = df2_plot_this2['objective'] - df2_plot_this2.groupby(['val_simulation', 'budget'])['objective'].transform('max')\n",
    "    df2_plot_this2['objective_perc'] = 100 * df2_plot_this2['objective'] / df2_plot_this2.groupby(['val_traffic', 'val_simulation'])['objective'].transform('max')\n",
    "    df2_plot_this2['objective_diff_perc'] = 100 * df2_plot_this2['objective_diff'] / df2_plot_this2.groupby(['val_traffic', 'val_simulation'])['objective'].transform('max')\n",
    "    #df2_plot_this2_solvers = df2_plot_this2.opt_solver.unique()\n",
    "\n",
    "    g = seaborn.relplot(kind='line', facet_kws=dict(sharey=True, sharex=True), height=2,\n",
    "                        data=df2_plot_this2.drop_duplicates().query(\"opt_solver != 'Baseline' or opt_traffic_name == @opt_traffic_names[0]\").rename(columns=colnames2), x=colnames2['budget'], y=colnames2['objective_diff_perc'],\n",
    "                        #hue=colnames2['opt_solver'], hue_order=[s for s in solvers2_order if s in df2_plot_this2_solvers],\n",
    "                        col=colnames2['val_simulation'], col_order=['1', '3'],\n",
    "                        #col='opt_solver', col_order=[s for s in solvers_order if s in solvers_this], col_wrap=2,\n",
    "                        #col='is_true_simulation', col_order=(True, False), col_wrap=2,\n",
    "                        hue=colnames2['opt_traffic_name'], hue_order=opt_traffic_names, #dashes=[(1, 0), (1, 1)],\n",
    "                        ci='sd')\n",
    "    g.fig.set_size_inches(winch, g.fig.get_size_inches()[1])\n",
    "    g.tight_layout()\n",
    "    g.fig.subplots_adjust(right=0.65, left=0.12, top=.8)\n",
    "    g._legend.set_bbox_to_anchor((0.67 + g._legend.get_window_extent().width / (g.fig.dpi * g.fig.get_size_inches()[0]), 0.5))\n",
    "    \n",
    "    display(df2_plot_this2.groupby(['val_simulation', 'budget'])['objective_perc'].agg(['min', 'max']).eval('max - min').groupby('val_simulation').agg(['min', 'max', 'median']))\n",
    "\n",
    "    if SAVE:\n",
    "        plt.savefig(f'plots/pdf/objective-values-crossval-dataset-{opt_traffic_names[0].lower()}.pdf')"
   ]
  },
  {
   "cell_type": "code",
   "execution_count": 100,
   "metadata": {},
   "outputs": [
    {
     "data": {
      "application/vnd.jupyter.widget-view+json": {
       "model_id": "e047657af6a64f9d9cc3b46cd02d3224",
       "version_major": 2,
       "version_minor": 0
      },
      "text/plain": [
       "Canvas(toolbar=Toolbar(toolitems=[('Home', 'Reset original view', 'home', 'home'), ('Back', 'Back to previous …"
      ]
     },
     "metadata": {},
     "output_type": "display_data"
    }
   ],
   "source": [
    "plt.ion()\n",
    "\n",
    "df2_plot_this2 = df2_plot_this.query(\"is_crossval and opt_traffic_name.isin(['March', 'July']) and budget >= 250 and budget <= 400\")\n",
    "df2_plot_this2_solvers = df2_plot_this2.opt_solver.unique()\n",
    "\n",
    "g = seaborn.relplot(kind='line', facet_kws=dict(sharey=True, sharex=True), palette=[c for s, c in zip(solvers2_order, palette2) if s in df2_plot_this2_solvers], height=2,\n",
    "                    data=df2_plot_this2.drop_duplicates().rename(columns=colnames2), x=colnames2['budget'], y=colnames2['objective_perc'],\n",
    "                    hue=colnames2['opt_solver'], hue_order=[s for s in solvers2_order if s in df2_plot_this2_solvers],\n",
    "                    col=colnames2['opt_traffic_name'],\n",
    "                    #col='opt_solver', col_order=[s for s in solvers_order if s in solvers_this], col_wrap=2,\n",
    "                    #col='is_true_simulation', col_order=(True, False), col_wrap=2,\n",
    "                    style=colnames2['val_simulation'], style_order=['1', '3', 'N'],\n",
    "                    ci='sd')\n",
    "g.fig.set_size_inches(winch, g.fig.get_size_inches()[1])\n",
    "g.tight_layout()\n",
    "g.fig.subplots_adjust(right=0.65, left=0.12, top=.8)\n",
    "g._legend.set_bbox_to_anchor((0.67 + g._legend.get_window_extent().width / (g.fig.dpi * g.fig.get_size_inches()[0]), 0.5))"
   ]
  },
  {
   "cell_type": "code",
   "execution_count": 171,
   "metadata": {},
   "outputs": [
    {
     "data": {
      "text/html": [
       "<div>\n",
       "<style scoped>\n",
       "    .dataframe tbody tr th:only-of-type {\n",
       "        vertical-align: middle;\n",
       "    }\n",
       "\n",
       "    .dataframe tbody tr th {\n",
       "        vertical-align: top;\n",
       "    }\n",
       "\n",
       "    .dataframe thead th {\n",
       "        text-align: right;\n",
       "    }\n",
       "</style>\n",
       "<table border=\"1\" class=\"dataframe\">\n",
       "  <thead>\n",
       "    <tr style=\"text-align: right;\">\n",
       "      <th></th>\n",
       "      <th></th>\n",
       "      <th>min</th>\n",
       "      <th>max</th>\n",
       "      <th>mean</th>\n",
       "    </tr>\n",
       "    <tr>\n",
       "      <th>opt_traffic_name</th>\n",
       "      <th>opt_solver</th>\n",
       "      <th></th>\n",
       "      <th></th>\n",
       "      <th></th>\n",
       "    </tr>\n",
       "  </thead>\n",
       "  <tbody>\n",
       "    <tr>\n",
       "      <th rowspan=\"2\" valign=\"top\">July</th>\n",
       "      <th>Two-stage (ILP subset)</th>\n",
       "      <td>0.0</td>\n",
       "      <td>1.884084</td>\n",
       "      <td>1.030968</td>\n",
       "    </tr>\n",
       "    <tr>\n",
       "      <th>Two-stage (iterative subset)</th>\n",
       "      <td>0.0</td>\n",
       "      <td>1.871037</td>\n",
       "      <td>0.962971</td>\n",
       "    </tr>\n",
       "    <tr>\n",
       "      <th rowspan=\"2\" valign=\"top\">March</th>\n",
       "      <th>Two-stage (ILP subset)</th>\n",
       "      <td>0.0</td>\n",
       "      <td>1.666786</td>\n",
       "      <td>0.855903</td>\n",
       "    </tr>\n",
       "    <tr>\n",
       "      <th>Two-stage (iterative subset)</th>\n",
       "      <td>0.0</td>\n",
       "      <td>1.795897</td>\n",
       "      <td>0.871466</td>\n",
       "    </tr>\n",
       "  </tbody>\n",
       "</table>\n",
       "</div>"
      ],
      "text/plain": [
       "                                               min       max      mean\n",
       "opt_traffic_name opt_solver                                           \n",
       "July             Two-stage (ILP subset)        0.0  1.884084  1.030968\n",
       "                 Two-stage (iterative subset)  0.0  1.871037  0.962971\n",
       "March            Two-stage (ILP subset)        0.0  1.666786  0.855903\n",
       "                 Two-stage (iterative subset)  0.0  1.795897  0.871466"
      ]
     },
     "execution_count": 171,
     "metadata": {},
     "output_type": "execute_result"
    }
   ],
   "source": [
    "df2_plot_this2.set_index(['opt_traffic_name', 'budget', 'opt_solver', 'val_simulation'])['objective_perc'].unstack().eval(\"`3` - `1`\").groupby(['opt_traffic_name', 'opt_solver']).agg(['min', 'max', 'mean'])"
   ]
  },
  {
   "cell_type": "code",
   "execution_count": null,
   "metadata": {},
   "outputs": [],
   "source": []
  }
 ],
 "metadata": {
  "kernelspec": {
   "display_name": "Python (python3) [conda env:mobility]",
   "language": "python",
   "name": "conda-env-mobility-py"
  },
  "language_info": {
   "codemirror_mode": {
    "name": "ipython",
    "version": 3
   },
   "file_extension": ".py",
   "mimetype": "text/x-python",
   "name": "python",
   "nbconvert_exporter": "python",
   "pygments_lexer": "ipython3",
   "version": "3.7.10"
  },
  "widgets": {
   "application/vnd.jupyter.widget-state+json": {
    "state": {
     "00550d370221408ebcc0e8b79e0a76f4": {
      "model_module": "@jupyter-widgets/base",
      "model_module_version": "1.2.0",
      "model_name": "LayoutModel",
      "state": {}
     },
     "00fb07bce29a4b2e92dcb87b33fb2212": {
      "model_module": "@jupyter-widgets/base",
      "model_module_version": "1.2.0",
      "model_name": "LayoutModel",
      "state": {}
     },
     "022d0430dc2140ffafb3fd52e62108a6": {
      "model_module": "jupyter-matplotlib",
      "model_module_version": "^0.7.4",
      "model_name": "ToolbarModel",
      "state": {
       "layout": "IPY_MODEL_3886675fbff04d6d8a9db2f0b9a638b1",
       "toolitems": [
        [
         "Home",
         "Reset original view",
         "home",
         "home"
        ],
        [
         "Back",
         "Back to previous view",
         "arrow-left",
         "back"
        ],
        [
         "Forward",
         "Forward to next view",
         "arrow-right",
         "forward"
        ],
        [
         "Pan",
         "Pan axes with left mouse, zoom with right",
         "arrows",
         "pan"
        ],
        [
         "Zoom",
         "Zoom to rectangle",
         "square-o",
         "zoom"
        ],
        [
         "Download",
         "Download plot",
         "floppy-o",
         "save_figure"
        ]
       ]
      }
     },
     "0250053fd22949189f77ba015783bcfa": {
      "model_module": "jupyter-matplotlib",
      "model_module_version": "^0.7.4",
      "model_name": "MPLCanvasModel",
      "state": {
       "_cursor": "default",
       "_figure_label": "Figure 7",
       "_height": 500,
       "_width": 766,
       "layout": "IPY_MODEL_dd4319fa89a446928cb4234bc3e7f927",
       "toolbar": "IPY_MODEL_51352dcae78944d18c94c03981c9974a",
       "toolbar_position": "left"
      }
     },
     "02bd1a4ee85c4d3c85e1afe62b64d22e": {
      "model_module": "@jupyter-widgets/base",
      "model_module_version": "1.2.0",
      "model_name": "LayoutModel",
      "state": {}
     },
     "0312474c1b0344509cd86ee92f974dc4": {
      "model_module": "@jupyter-widgets/base",
      "model_module_version": "1.2.0",
      "model_name": "LayoutModel",
      "state": {}
     },
     "037e2d7d957347088f35325f98929e65": {
      "model_module": "@jupyter-widgets/base",
      "model_module_version": "1.2.0",
      "model_name": "LayoutModel",
      "state": {}
     },
     "04ae7f5d6b36466893b2bea22f886caa": {
      "model_module": "jupyter-matplotlib",
      "model_module_version": "^0.7.4",
      "model_name": "ToolbarModel",
      "state": {
       "layout": "IPY_MODEL_b679a80b7c3845cdaefc75f6d3518390",
       "toolitems": [
        [
         "Home",
         "Reset original view",
         "home",
         "home"
        ],
        [
         "Back",
         "Back to previous view",
         "arrow-left",
         "back"
        ],
        [
         "Forward",
         "Forward to next view",
         "arrow-right",
         "forward"
        ],
        [
         "Pan",
         "Pan axes with left mouse, zoom with right",
         "arrows",
         "pan"
        ],
        [
         "Zoom",
         "Zoom to rectangle",
         "square-o",
         "zoom"
        ],
        [
         "Download",
         "Download plot",
         "floppy-o",
         "save_figure"
        ]
       ]
      }
     },
     "058adcc73f4e4353a459efef69f5fe3e": {
      "model_module": "@jupyter-widgets/base",
      "model_module_version": "1.2.0",
      "model_name": "LayoutModel",
      "state": {}
     },
     "05ced1c2a12248b588b768743b9b404c": {
      "model_module": "jupyter-matplotlib",
      "model_module_version": "^0.7.4",
      "model_name": "MPLCanvasModel",
      "state": {
       "_cursor": "default",
       "_figure_label": "Figure 12",
       "_height": 375,
       "_width": 750,
       "layout": "IPY_MODEL_3f5409f3355f4fcb80e7a92ce7f6426c",
       "toolbar": "IPY_MODEL_cf23f8f4329a47f1b64ae23c7b838b35",
       "toolbar_position": "left"
      }
     },
     "05fd6ad55c534e10b5a475984fec9dbd": {
      "model_module": "@jupyter-widgets/base",
      "model_module_version": "1.2.0",
      "model_name": "LayoutModel",
      "state": {}
     },
     "0713efd282d44536a26859405d0bf784": {
      "model_module": "jupyter-matplotlib",
      "model_module_version": "^0.7.4",
      "model_name": "ToolbarModel",
      "state": {
       "layout": "IPY_MODEL_b54a6dfc2c4145c8b9650fe26d069139",
       "toolitems": [
        [
         "Home",
         "Reset original view",
         "home",
         "home"
        ],
        [
         "Back",
         "Back to previous view",
         "arrow-left",
         "back"
        ],
        [
         "Forward",
         "Forward to next view",
         "arrow-right",
         "forward"
        ],
        [
         "Pan",
         "Pan axes with left mouse, zoom with right",
         "arrows",
         "pan"
        ],
        [
         "Zoom",
         "Zoom to rectangle",
         "square-o",
         "zoom"
        ],
        [
         "Download",
         "Download plot",
         "floppy-o",
         "save_figure"
        ]
       ]
      }
     },
     "07cfaf8301284849aaa743b344ce993a": {
      "model_module": "@jupyter-widgets/base",
      "model_module_version": "1.2.0",
      "model_name": "LayoutModel",
      "state": {}
     },
     "087eed240a5c47409fe316c045613e50": {
      "model_module": "@jupyter-widgets/base",
      "model_module_version": "1.2.0",
      "model_name": "LayoutModel",
      "state": {}
     },
     "08d874dde3ec49399d9316ed3cd62efc": {
      "model_module": "jupyter-matplotlib",
      "model_module_version": "^0.7.4",
      "model_name": "ToolbarModel",
      "state": {
       "layout": "IPY_MODEL_ae38137fc4a142f49979a31d5f5af20f",
       "toolitems": [
        [
         "Home",
         "Reset original view",
         "home",
         "home"
        ],
        [
         "Back",
         "Back to previous view",
         "arrow-left",
         "back"
        ],
        [
         "Forward",
         "Forward to next view",
         "arrow-right",
         "forward"
        ],
        [
         "Pan",
         "Pan axes with left mouse, zoom with right",
         "arrows",
         "pan"
        ],
        [
         "Zoom",
         "Zoom to rectangle",
         "square-o",
         "zoom"
        ],
        [
         "Download",
         "Download plot",
         "floppy-o",
         "save_figure"
        ]
       ]
      }
     },
     "0992318fc73c476b971f3d7a95188166": {
      "model_module": "@jupyter-widgets/base",
      "model_module_version": "1.2.0",
      "model_name": "LayoutModel",
      "state": {}
     },
     "09b887d08c934eea92ca2c88230220e3": {
      "model_module": "@jupyter-widgets/base",
      "model_module_version": "1.2.0",
      "model_name": "LayoutModel",
      "state": {}
     },
     "0a49fefc576d486fad553f1ef493d29a": {
      "model_module": "@jupyter-widgets/base",
      "model_module_version": "1.2.0",
      "model_name": "LayoutModel",
      "state": {}
     },
     "0a606e7ffecb4232a637d2fed92b87a7": {
      "model_module": "jupyter-matplotlib",
      "model_module_version": "^0.7.4",
      "model_name": "ToolbarModel",
      "state": {
       "layout": "IPY_MODEL_4f97621efe904281b1b29a70cbb1da8c",
       "toolitems": [
        [
         "Home",
         "Reset original view",
         "home",
         "home"
        ],
        [
         "Back",
         "Back to previous view",
         "arrow-left",
         "back"
        ],
        [
         "Forward",
         "Forward to next view",
         "arrow-right",
         "forward"
        ],
        [
         "Pan",
         "Pan axes with left mouse, zoom with right",
         "arrows",
         "pan"
        ],
        [
         "Zoom",
         "Zoom to rectangle",
         "square-o",
         "zoom"
        ],
        [
         "Download",
         "Download plot",
         "floppy-o",
         "save_figure"
        ]
       ]
      }
     },
     "0aabaa4b395e4bf9b3e7110aed770778": {
      "model_module": "jupyter-matplotlib",
      "model_module_version": "^0.7.4",
      "model_name": "ToolbarModel",
      "state": {
       "layout": "IPY_MODEL_ff93512c693046cf9ba093d585718fc5",
       "toolitems": [
        [
         "Home",
         "Reset original view",
         "home",
         "home"
        ],
        [
         "Back",
         "Back to previous view",
         "arrow-left",
         "back"
        ],
        [
         "Forward",
         "Forward to next view",
         "arrow-right",
         "forward"
        ],
        [
         "Pan",
         "Pan axes with left mouse, zoom with right",
         "arrows",
         "pan"
        ],
        [
         "Zoom",
         "Zoom to rectangle",
         "square-o",
         "zoom"
        ],
        [
         "Download",
         "Download plot",
         "floppy-o",
         "save_figure"
        ]
       ]
      }
     },
     "0b4a056807f94d9e84335c25c4c46fc9": {
      "model_module": "@jupyter-widgets/base",
      "model_module_version": "1.2.0",
      "model_name": "LayoutModel",
      "state": {}
     },
     "0bbfc2d3aea942559773c3ea574f959d": {
      "model_module": "jupyter-matplotlib",
      "model_module_version": "^0.7.4",
      "model_name": "ToolbarModel",
      "state": {
       "layout": "IPY_MODEL_d0f8191bb698493db4d9383be3f4ff13",
       "toolitems": [
        [
         "Home",
         "Reset original view",
         "home",
         "home"
        ],
        [
         "Back",
         "Back to previous view",
         "arrow-left",
         "back"
        ],
        [
         "Forward",
         "Forward to next view",
         "arrow-right",
         "forward"
        ],
        [
         "Pan",
         "Pan axes with left mouse, zoom with right",
         "arrows",
         "pan"
        ],
        [
         "Zoom",
         "Zoom to rectangle",
         "square-o",
         "zoom"
        ],
        [
         "Download",
         "Download plot",
         "floppy-o",
         "save_figure"
        ]
       ]
      }
     },
     "0bf840e9f94e4422a007e2fd45777d26": {
      "model_module": "@jupyter-widgets/base",
      "model_module_version": "1.2.0",
      "model_name": "LayoutModel",
      "state": {}
     },
     "0c6be5ec04e84830934fb50323553c22": {
      "model_module": "@jupyter-widgets/base",
      "model_module_version": "1.2.0",
      "model_name": "LayoutModel",
      "state": {}
     },
     "0cbe93cdbc8141e9a9ccd57cbd825d39": {
      "model_module": "jupyter-matplotlib",
      "model_module_version": "^0.7.4",
      "model_name": "MPLCanvasModel",
      "state": {
       "_cursor": "default",
       "_figure_label": "Figure 48",
       "_height": 450,
       "_image_mode": "diff",
       "_message": "x= y=105990      ",
       "_width": 1214,
       "layout": "IPY_MODEL_31a55d2927c641b398941dec205f4d02",
       "toolbar": "IPY_MODEL_2ab6225b06554104818ca912096a86d6",
       "toolbar_position": "left"
      }
     },
     "0ce536cfbf3a45b596e71029012dcb40": {
      "model_module": "@jupyter-widgets/base",
      "model_module_version": "1.2.0",
      "model_name": "LayoutModel",
      "state": {}
     },
     "0d86737b67b64aac95a745453908a51d": {
      "model_module": "@jupyter-widgets/base",
      "model_module_version": "1.2.0",
      "model_name": "LayoutModel",
      "state": {}
     },
     "0e0bfa0ff3df4a1dbe97a6c37354edbf": {
      "model_module": "jupyter-matplotlib",
      "model_module_version": "^0.7.4",
      "model_name": "ToolbarModel",
      "state": {
       "layout": "IPY_MODEL_c2767251cbbd474691bba18f9add5511",
       "toolitems": [
        [
         "Home",
         "Reset original view",
         "home",
         "home"
        ],
        [
         "Back",
         "Back to previous view",
         "arrow-left",
         "back"
        ],
        [
         "Forward",
         "Forward to next view",
         "arrow-right",
         "forward"
        ],
        [
         "Pan",
         "Pan axes with left mouse, zoom with right",
         "arrows",
         "pan"
        ],
        [
         "Zoom",
         "Zoom to rectangle",
         "square-o",
         "zoom"
        ],
        [
         "Download",
         "Download plot",
         "floppy-o",
         "save_figure"
        ]
       ]
      }
     },
     "0e4c8d25e5634517a6b9059890edb2da": {
      "model_module": "jupyter-matplotlib",
      "model_module_version": "^0.7.4",
      "model_name": "ToolbarModel",
      "state": {
       "layout": "IPY_MODEL_8badf4806a804a1ab10bf845b21620da",
       "toolitems": [
        [
         "Home",
         "Reset original view",
         "home",
         "home"
        ],
        [
         "Back",
         "Back to previous view",
         "arrow-left",
         "back"
        ],
        [
         "Forward",
         "Forward to next view",
         "arrow-right",
         "forward"
        ],
        [
         "Pan",
         "Pan axes with left mouse, zoom with right",
         "arrows",
         "pan"
        ],
        [
         "Zoom",
         "Zoom to rectangle",
         "square-o",
         "zoom"
        ],
        [
         "Download",
         "Download plot",
         "floppy-o",
         "save_figure"
        ]
       ]
      }
     },
     "0e736463ff2c4174b0a2a6d225fa11ed": {
      "model_module": "jupyter-matplotlib",
      "model_module_version": "^0.7.4",
      "model_name": "ToolbarModel",
      "state": {
       "layout": "IPY_MODEL_548cb65f638b4d29a7c935646ad58d8f",
       "toolitems": [
        [
         "Home",
         "Reset original view",
         "home",
         "home"
        ],
        [
         "Back",
         "Back to previous view",
         "arrow-left",
         "back"
        ],
        [
         "Forward",
         "Forward to next view",
         "arrow-right",
         "forward"
        ],
        [
         "Pan",
         "Pan axes with left mouse, zoom with right",
         "arrows",
         "pan"
        ],
        [
         "Zoom",
         "Zoom to rectangle",
         "square-o",
         "zoom"
        ],
        [
         "Download",
         "Download plot",
         "floppy-o",
         "save_figure"
        ]
       ]
      }
     },
     "0eee441dc4904925b17418a51e05f9e7": {
      "model_module": "@jupyter-widgets/base",
      "model_module_version": "1.2.0",
      "model_name": "LayoutModel",
      "state": {}
     },
     "0f2d5ab9b37b44e198cc60f355185454": {
      "model_module": "@jupyter-widgets/base",
      "model_module_version": "1.2.0",
      "model_name": "LayoutModel",
      "state": {}
     },
     "0fbb0b6cfefc4b42bef8655463871e64": {
      "model_module": "@jupyter-widgets/base",
      "model_module_version": "1.2.0",
      "model_name": "LayoutModel",
      "state": {}
     },
     "0fc8777fbf4d415ebd4a4bb85e4ac3b1": {
      "model_module": "@jupyter-widgets/base",
      "model_module_version": "1.2.0",
      "model_name": "LayoutModel",
      "state": {}
     },
     "109bb8916a7549789335645d5b1daddc": {
      "model_module": "@jupyter-widgets/base",
      "model_module_version": "1.2.0",
      "model_name": "LayoutModel",
      "state": {}
     },
     "11f9a905682a4e49bb4ad38afdb6631b": {
      "model_module": "@jupyter-widgets/base",
      "model_module_version": "1.2.0",
      "model_name": "LayoutModel",
      "state": {}
     },
     "131ff646a8464072bf879734e64effd7": {
      "model_module": "@jupyter-widgets/base",
      "model_module_version": "1.2.0",
      "model_name": "LayoutModel",
      "state": {}
     },
     "15a938fa35a546d78901556591830e41": {
      "model_module": "@jupyter-widgets/base",
      "model_module_version": "1.2.0",
      "model_name": "LayoutModel",
      "state": {}
     },
     "16120c3576a04d4c8087e795af6e8302": {
      "model_module": "jupyter-matplotlib",
      "model_module_version": "^0.7.4",
      "model_name": "MPLCanvasModel",
      "state": {
       "_cursor": "default",
       "_figure_label": "Figure 44",
       "_height": 450,
       "_width": 1214,
       "layout": "IPY_MODEL_439d49d791d64506acc3d13265ed019a",
       "toolbar": "IPY_MODEL_bf874914ec444a9d96ef6d03d1ca4bda",
       "toolbar_position": "left"
      }
     },
     "1699358f3d0545e492a0c41f08376b7e": {
      "model_module": "jupyter-matplotlib",
      "model_module_version": "^0.7.4",
      "model_name": "ToolbarModel",
      "state": {
       "layout": "IPY_MODEL_3481296450354bd2a1033cdbbd7ae64e",
       "toolitems": [
        [
         "Home",
         "Reset original view",
         "home",
         "home"
        ],
        [
         "Back",
         "Back to previous view",
         "arrow-left",
         "back"
        ],
        [
         "Forward",
         "Forward to next view",
         "arrow-right",
         "forward"
        ],
        [
         "Pan",
         "Pan axes with left mouse, zoom with right",
         "arrows",
         "pan"
        ],
        [
         "Zoom",
         "Zoom to rectangle",
         "square-o",
         "zoom"
        ],
        [
         "Download",
         "Download plot",
         "floppy-o",
         "save_figure"
        ]
       ]
      }
     },
     "16cbd482584544bb93714534d53f575e": {
      "model_module": "@jupyter-widgets/base",
      "model_module_version": "1.2.0",
      "model_name": "LayoutModel",
      "state": {}
     },
     "16cd3b4fe7b54cf6accf6c1bd2cd7485": {
      "model_module": "@jupyter-widgets/base",
      "model_module_version": "1.2.0",
      "model_name": "LayoutModel",
      "state": {}
     },
     "170e2380824d42c2b56d7ecaf744bacd": {
      "model_module": "jupyter-matplotlib",
      "model_module_version": "^0.7.4",
      "model_name": "MPLCanvasModel",
      "state": {
       "_cursor": "default",
       "_figure_label": "Figure 53",
       "_height": 450,
       "_image_mode": "diff",
       "_width": 900,
       "layout": "IPY_MODEL_78eb2aebc1244774b7c423df624538af",
       "toolbar": "IPY_MODEL_7cdd98b04b4845d79dae431445c742c0",
       "toolbar_position": "left"
      }
     },
     "17c83bb9d9324ae6b4e87bc41706b5f5": {
      "model_module": "jupyter-matplotlib",
      "model_module_version": "^0.7.4",
      "model_name": "ToolbarModel",
      "state": {
       "layout": "IPY_MODEL_6c9e261fccba4b90a29a957d4091c3b9",
       "toolitems": [
        [
         "Home",
         "Reset original view",
         "home",
         "home"
        ],
        [
         "Back",
         "Back to previous view",
         "arrow-left",
         "back"
        ],
        [
         "Forward",
         "Forward to next view",
         "arrow-right",
         "forward"
        ],
        [
         "Pan",
         "Pan axes with left mouse, zoom with right",
         "arrows",
         "pan"
        ],
        [
         "Zoom",
         "Zoom to rectangle",
         "square-o",
         "zoom"
        ],
        [
         "Download",
         "Download plot",
         "floppy-o",
         "save_figure"
        ]
       ]
      }
     },
     "1911cf7da15046e4816bafe18eed5e9a": {
      "model_module": "@jupyter-widgets/base",
      "model_module_version": "1.2.0",
      "model_name": "LayoutModel",
      "state": {}
     },
     "19c29ed7c87c4b4d84bc672b6fbf5e25": {
      "model_module": "@jupyter-widgets/base",
      "model_module_version": "1.2.0",
      "model_name": "LayoutModel",
      "state": {}
     },
     "1a0bcc249626410b97a88994722ff837": {
      "model_module": "@jupyter-widgets/base",
      "model_module_version": "1.2.0",
      "model_name": "LayoutModel",
      "state": {}
     },
     "1ab0ca00c27a403a9db8d519502f2662": {
      "model_module": "@jupyter-widgets/base",
      "model_module_version": "1.2.0",
      "model_name": "LayoutModel",
      "state": {}
     },
     "1add80086bc94ef4a59ebb4ec20d89cc": {
      "model_module": "@jupyter-widgets/base",
      "model_module_version": "1.2.0",
      "model_name": "LayoutModel",
      "state": {}
     },
     "1cbca6c52a444ef18054ff8b016c75e2": {
      "model_module": "jupyter-matplotlib",
      "model_module_version": "^0.7.4",
      "model_name": "ToolbarModel",
      "state": {
       "layout": "IPY_MODEL_7410926aa95f4ecdb7b0e5df0c1a9334",
       "toolitems": [
        [
         "Home",
         "Reset original view",
         "home",
         "home"
        ],
        [
         "Back",
         "Back to previous view",
         "arrow-left",
         "back"
        ],
        [
         "Forward",
         "Forward to next view",
         "arrow-right",
         "forward"
        ],
        [
         "Pan",
         "Pan axes with left mouse, zoom with right",
         "arrows",
         "pan"
        ],
        [
         "Zoom",
         "Zoom to rectangle",
         "square-o",
         "zoom"
        ],
        [
         "Download",
         "Download plot",
         "floppy-o",
         "save_figure"
        ]
       ]
      }
     },
     "1ce892248dd64c1abffa830671ebc686": {
      "model_module": "jupyter-matplotlib",
      "model_module_version": "^0.7.4",
      "model_name": "ToolbarModel",
      "state": {
       "layout": "IPY_MODEL_4fa5cacc7f204f429dcd858c59f20690",
       "toolitems": [
        [
         "Home",
         "Reset original view",
         "home",
         "home"
        ],
        [
         "Back",
         "Back to previous view",
         "arrow-left",
         "back"
        ],
        [
         "Forward",
         "Forward to next view",
         "arrow-right",
         "forward"
        ],
        [
         "Pan",
         "Pan axes with left mouse, zoom with right",
         "arrows",
         "pan"
        ],
        [
         "Zoom",
         "Zoom to rectangle",
         "square-o",
         "zoom"
        ],
        [
         "Download",
         "Download plot",
         "floppy-o",
         "save_figure"
        ]
       ]
      }
     },
     "1d1e45c5293c4493a74a4b453dfc138f": {
      "model_module": "@jupyter-widgets/controls",
      "model_module_version": "1.5.0",
      "model_name": "HBoxModel",
      "state": {
       "children": [
        "IPY_MODEL_d9d8e70c7f5b4f9698376054e1901268",
        "IPY_MODEL_89ada89c72924214ad2f72310fc890ef",
        "IPY_MODEL_a487eba0d2bd465893d7df1c3d0325a7"
       ],
       "layout": "IPY_MODEL_5952c36d005b45a8805ac216e5a93029"
      }
     },
     "1d81303affff4acaa6936d39016cefe6": {
      "model_module": "@jupyter-widgets/base",
      "model_module_version": "1.2.0",
      "model_name": "LayoutModel",
      "state": {}
     },
     "1da93a6805dd4788a8720197ac2d1d69": {
      "model_module": "@jupyter-widgets/base",
      "model_module_version": "1.2.0",
      "model_name": "LayoutModel",
      "state": {}
     },
     "1dd9f746c19e4fe19d3ac35091d6616d": {
      "model_module": "@jupyter-widgets/base",
      "model_module_version": "1.2.0",
      "model_name": "LayoutModel",
      "state": {}
     },
     "1e9b662e0ba245b7be05ff741fab4456": {
      "model_module": "jupyter-matplotlib",
      "model_module_version": "^0.7.4",
      "model_name": "ToolbarModel",
      "state": {
       "layout": "IPY_MODEL_1dd9f746c19e4fe19d3ac35091d6616d",
       "toolitems": [
        [
         "Home",
         "Reset original view",
         "home",
         "home"
        ],
        [
         "Back",
         "Back to previous view",
         "arrow-left",
         "back"
        ],
        [
         "Forward",
         "Forward to next view",
         "arrow-right",
         "forward"
        ],
        [
         "Pan",
         "Pan axes with left mouse, zoom with right",
         "arrows",
         "pan"
        ],
        [
         "Zoom",
         "Zoom to rectangle",
         "square-o",
         "zoom"
        ],
        [
         "Download",
         "Download plot",
         "floppy-o",
         "save_figure"
        ]
       ]
      }
     },
     "1ee7c4d8267b4d4aa626dc00e2252a5a": {
      "model_module": "jupyter-matplotlib",
      "model_module_version": "^0.7.4",
      "model_name": "ToolbarModel",
      "state": {
       "layout": "IPY_MODEL_e0425fda848e4d1cad5757f2c005c94c",
       "toolitems": [
        [
         "Home",
         "Reset original view",
         "home",
         "home"
        ],
        [
         "Back",
         "Back to previous view",
         "arrow-left",
         "back"
        ],
        [
         "Forward",
         "Forward to next view",
         "arrow-right",
         "forward"
        ],
        [
         "Pan",
         "Pan axes with left mouse, zoom with right",
         "arrows",
         "pan"
        ],
        [
         "Zoom",
         "Zoom to rectangle",
         "square-o",
         "zoom"
        ],
        [
         "Download",
         "Download plot",
         "floppy-o",
         "save_figure"
        ]
       ]
      }
     },
     "1f7e1a37fd05426ab12398e4b3ddc9bc": {
      "model_module": "@jupyter-widgets/base",
      "model_module_version": "1.2.0",
      "model_name": "LayoutModel",
      "state": {}
     },
     "1fa74f418d7a4f9292b0fda9d215c547": {
      "model_module": "jupyter-matplotlib",
      "model_module_version": "^0.7.4",
      "model_name": "MPLCanvasModel",
      "state": {
       "_cursor": "default",
       "_figure_label": "Figure 10",
       "_height": 375,
       "_image_mode": "diff",
       "_width": 1064,
       "layout": "IPY_MODEL_d54e83aeb8e44dbaa5555777392e12cc",
       "toolbar": "IPY_MODEL_3bc04e3cc6ad4fdc88f49e20d72503ce",
       "toolbar_position": "left"
      }
     },
     "1fd6cfff11654313ae113966d5a9efed": {
      "model_module": "@jupyter-widgets/base",
      "model_module_version": "1.2.0",
      "model_name": "LayoutModel",
      "state": {}
     },
     "201cdfad4c3f4d8a88977735b7c51613": {
      "model_module": "jupyter-matplotlib",
      "model_module_version": "^0.7.4",
      "model_name": "MPLCanvasModel",
      "state": {
       "_cursor": "default",
       "_figure_label": "Figure 16",
       "_height": 375,
       "_width": 641,
       "layout": "IPY_MODEL_c5c8428344ab4b2b9d33ff262c1403a4",
       "toolbar": "IPY_MODEL_ec58ff6808b747ff80ca66d39bb6f8cb",
       "toolbar_position": "left"
      }
     },
     "202209feeacd426090d3e8211fe6a1a3": {
      "model_module": "@jupyter-widgets/base",
      "model_module_version": "1.2.0",
      "model_name": "LayoutModel",
      "state": {}
     },
     "20ce43ecf92b41f7a6a214834adf5078": {
      "model_module": "jupyter-matplotlib",
      "model_module_version": "^0.7.4",
      "model_name": "ToolbarModel",
      "state": {
       "layout": "IPY_MODEL_625b7040c2c44a1a9221ec4489fb8a1d",
       "toolitems": [
        [
         "Home",
         "Reset original view",
         "home",
         "home"
        ],
        [
         "Back",
         "Back to previous view",
         "arrow-left",
         "back"
        ],
        [
         "Forward",
         "Forward to next view",
         "arrow-right",
         "forward"
        ],
        [
         "Pan",
         "Pan axes with left mouse, zoom with right",
         "arrows",
         "pan"
        ],
        [
         "Zoom",
         "Zoom to rectangle",
         "square-o",
         "zoom"
        ],
        [
         "Download",
         "Download plot",
         "floppy-o",
         "save_figure"
        ]
       ]
      }
     },
     "213239361a23493a864b2af0d6dcf0c9": {
      "model_module": "@jupyter-widgets/base",
      "model_module_version": "1.2.0",
      "model_name": "LayoutModel",
      "state": {}
     },
     "2144e085371f42fc8f2bbfb2a676f63c": {
      "model_module": "jupyter-matplotlib",
      "model_module_version": "^0.7.4",
      "model_name": "MPLCanvasModel",
      "state": {
       "_cursor": "default",
       "_figure_label": "Figure 54",
       "_height": 450,
       "_image_mode": "diff",
       "_message": "x= y=25920.7     ",
       "_width": 1214,
       "layout": "IPY_MODEL_3fb332958fd74f0895a2fe73ae15d37f",
       "toolbar": "IPY_MODEL_5fa048d4c3dc48ffb7b94c2cfc41bf72",
       "toolbar_position": "left"
      }
     },
     "2200120eafa943e7b5ec3a23fadeda69": {
      "model_module": "@jupyter-widgets/base",
      "model_module_version": "1.2.0",
      "model_name": "LayoutModel",
      "state": {}
     },
     "22de80651ccd4b5b9825067c93f8571f": {
      "model_module": "jupyter-matplotlib",
      "model_module_version": "^0.7.4",
      "model_name": "ToolbarModel",
      "state": {
       "layout": "IPY_MODEL_e24da955f40a44b68d0129773bdb4d54",
       "toolitems": [
        [
         "Home",
         "Reset original view",
         "home",
         "home"
        ],
        [
         "Back",
         "Back to previous view",
         "arrow-left",
         "back"
        ],
        [
         "Forward",
         "Forward to next view",
         "arrow-right",
         "forward"
        ],
        [
         "Pan",
         "Pan axes with left mouse, zoom with right",
         "arrows",
         "pan"
        ],
        [
         "Zoom",
         "Zoom to rectangle",
         "square-o",
         "zoom"
        ],
        [
         "Download",
         "Download plot",
         "floppy-o",
         "save_figure"
        ]
       ]
      }
     },
     "23096044e80c4307bb29508842646eba": {
      "model_module": "jupyter-matplotlib",
      "model_module_version": "^0.7.4",
      "model_name": "ToolbarModel",
      "state": {
       "layout": "IPY_MODEL_f769ce3af3204dceb14bfb6ff9fce960",
       "toolitems": [
        [
         "Home",
         "Reset original view",
         "home",
         "home"
        ],
        [
         "Back",
         "Back to previous view",
         "arrow-left",
         "back"
        ],
        [
         "Forward",
         "Forward to next view",
         "arrow-right",
         "forward"
        ],
        [
         "Pan",
         "Pan axes with left mouse, zoom with right",
         "arrows",
         "pan"
        ],
        [
         "Zoom",
         "Zoom to rectangle",
         "square-o",
         "zoom"
        ],
        [
         "Download",
         "Download plot",
         "floppy-o",
         "save_figure"
        ]
       ]
      }
     },
     "23413c5dc5524444b7b9d07c0f53a0c2": {
      "model_module": "@jupyter-widgets/base",
      "model_module_version": "1.2.0",
      "model_name": "LayoutModel",
      "state": {}
     },
     "238b9e8011624eb7867005902fe9f46a": {
      "model_module": "@jupyter-widgets/base",
      "model_module_version": "1.2.0",
      "model_name": "LayoutModel",
      "state": {}
     },
     "2469f061f90f4ff297ed2420618d6c0d": {
      "model_module": "jupyter-matplotlib",
      "model_module_version": "^0.7.4",
      "model_name": "MPLCanvasModel",
      "state": {
       "_cursor": "default",
       "_figure_label": "Figure 32",
       "_height": 450,
       "_width": 1214,
       "layout": "IPY_MODEL_dbf85ddaf1164a1a979a4c6494cc6455",
       "toolbar": "IPY_MODEL_4e212de5e0fd4e84bd4b45b06dfcaf07",
       "toolbar_position": "left"
      }
     },
     "2567a3b3b09f419995fb2b56221367b9": {
      "model_module": "jupyter-matplotlib",
      "model_module_version": "^0.7.4",
      "model_name": "ToolbarModel",
      "state": {
       "layout": "IPY_MODEL_a955b0c07cb642f08a86be85a4b2df41",
       "toolitems": [
        [
         "Home",
         "Reset original view",
         "home",
         "home"
        ],
        [
         "Back",
         "Back to previous view",
         "arrow-left",
         "back"
        ],
        [
         "Forward",
         "Forward to next view",
         "arrow-right",
         "forward"
        ],
        [
         "Pan",
         "Pan axes with left mouse, zoom with right",
         "arrows",
         "pan"
        ],
        [
         "Zoom",
         "Zoom to rectangle",
         "square-o",
         "zoom"
        ],
        [
         "Download",
         "Download plot",
         "floppy-o",
         "save_figure"
        ]
       ]
      }
     },
     "26bf9d94098347dfabad026bd61ff42e": {
      "model_module": "jupyter-matplotlib",
      "model_module_version": "^0.7.4",
      "model_name": "ToolbarModel",
      "state": {
       "layout": "IPY_MODEL_b6eacb066039471eaa4e589fb0036732",
       "toolitems": [
        [
         "Home",
         "Reset original view",
         "home",
         "home"
        ],
        [
         "Back",
         "Back to previous view",
         "arrow-left",
         "back"
        ],
        [
         "Forward",
         "Forward to next view",
         "arrow-right",
         "forward"
        ],
        [
         "Pan",
         "Pan axes with left mouse, zoom with right",
         "arrows",
         "pan"
        ],
        [
         "Zoom",
         "Zoom to rectangle",
         "square-o",
         "zoom"
        ],
        [
         "Download",
         "Download plot",
         "floppy-o",
         "save_figure"
        ]
       ]
      }
     },
     "2733e54f7b08420397ea7f8af8abb07c": {
      "model_module": "@jupyter-widgets/base",
      "model_module_version": "1.2.0",
      "model_name": "LayoutModel",
      "state": {}
     },
     "27a5dd9524654802afd4fa8c6e51c79a": {
      "model_module": "jupyter-matplotlib",
      "model_module_version": "^0.7.4",
      "model_name": "ToolbarModel",
      "state": {
       "layout": "IPY_MODEL_a287c7175e0241db928833a7162277e3",
       "toolitems": [
        [
         "Home",
         "Reset original view",
         "home",
         "home"
        ],
        [
         "Back",
         "Back to previous view",
         "arrow-left",
         "back"
        ],
        [
         "Forward",
         "Forward to next view",
         "arrow-right",
         "forward"
        ],
        [
         "Pan",
         "Pan axes with left mouse, zoom with right",
         "arrows",
         "pan"
        ],
        [
         "Zoom",
         "Zoom to rectangle",
         "square-o",
         "zoom"
        ],
        [
         "Download",
         "Download plot",
         "floppy-o",
         "save_figure"
        ]
       ]
      }
     },
     "285a89bf74584e1ab63c2b3f3ffb4365": {
      "model_module": "jupyter-matplotlib",
      "model_module_version": "^0.7.4",
      "model_name": "MPLCanvasModel",
      "state": {
       "_cursor": "default",
       "_figure_label": "Figure 50",
       "_height": 450,
       "_width": 900,
       "layout": "IPY_MODEL_a905080015564cb2883169199c5a2f48",
       "toolbar": "IPY_MODEL_5cde22be1d104b33b3b30e13b949941c",
       "toolbar_position": "left"
      }
     },
     "2891deecda774e3d8773f4ff1708f2a1": {
      "model_module": "@jupyter-widgets/base",
      "model_module_version": "1.2.0",
      "model_name": "LayoutModel",
      "state": {}
     },
     "28c2a7a1c33b410db28cfcc8a794259e": {
      "model_module": "jupyter-matplotlib",
      "model_module_version": "^0.7.4",
      "model_name": "ToolbarModel",
      "state": {
       "layout": "IPY_MODEL_058adcc73f4e4353a459efef69f5fe3e",
       "toolitems": [
        [
         "Home",
         "Reset original view",
         "home",
         "home"
        ],
        [
         "Back",
         "Back to previous view",
         "arrow-left",
         "back"
        ],
        [
         "Forward",
         "Forward to next view",
         "arrow-right",
         "forward"
        ],
        [
         "Pan",
         "Pan axes with left mouse, zoom with right",
         "arrows",
         "pan"
        ],
        [
         "Zoom",
         "Zoom to rectangle",
         "square-o",
         "zoom"
        ],
        [
         "Download",
         "Download plot",
         "floppy-o",
         "save_figure"
        ]
       ]
      }
     },
     "294b36e438774e0eafdbcac66f299fb4": {
      "model_module": "jupyter-matplotlib",
      "model_module_version": "^0.7.4",
      "model_name": "MPLCanvasModel",
      "state": {
       "_cursor": "default",
       "_figure_label": "Figure 56",
       "_height": 450,
       "_width": 450,
       "layout": "IPY_MODEL_453336a71e86470babf3167aa14c1ee7",
       "toolbar": "IPY_MODEL_4f06f45a8f434e3ba4bdb8a2406df228",
       "toolbar_position": "left"
      }
     },
     "2a32192390854623b0f40e0e56ff5c3c": {
      "model_module": "jupyter-matplotlib",
      "model_module_version": "^0.7.4",
      "model_name": "ToolbarModel",
      "state": {
       "layout": "IPY_MODEL_cd6dcc2085d54ddfb1a4c041eed384fe",
       "toolitems": [
        [
         "Home",
         "Reset original view",
         "home",
         "home"
        ],
        [
         "Back",
         "Back to previous view",
         "arrow-left",
         "back"
        ],
        [
         "Forward",
         "Forward to next view",
         "arrow-right",
         "forward"
        ],
        [
         "Pan",
         "Pan axes with left mouse, zoom with right",
         "arrows",
         "pan"
        ],
        [
         "Zoom",
         "Zoom to rectangle",
         "square-o",
         "zoom"
        ],
        [
         "Download",
         "Download plot",
         "floppy-o",
         "save_figure"
        ]
       ]
      }
     },
     "2a446b4b5172479ea13791e7dc639b39": {
      "model_module": "jupyter-matplotlib",
      "model_module_version": "^0.7.4",
      "model_name": "MPLCanvasModel",
      "state": {
       "_cursor": "default",
       "_figure_label": "Figure 58",
       "_height": 450,
       "_image_mode": "diff",
       "_message": "x=371.758      y=0.281726    ",
       "_width": 1350,
       "layout": "IPY_MODEL_b36ff29780904029b6d2fdde491eaf4f",
       "toolbar": "IPY_MODEL_e0280fc7c9434c67894f6278609d6114",
       "toolbar_position": "left"
      }
     },
     "2a6376f02d404fd6845a222c8b670759": {
      "model_module": "jupyter-matplotlib",
      "model_module_version": "^0.7.4",
      "model_name": "ToolbarModel",
      "state": {
       "layout": "IPY_MODEL_cf5011b01dbb4e8993c7e6db57e44666",
       "toolitems": [
        [
         "Home",
         "Reset original view",
         "home",
         "home"
        ],
        [
         "Back",
         "Back to previous view",
         "arrow-left",
         "back"
        ],
        [
         "Forward",
         "Forward to next view",
         "arrow-right",
         "forward"
        ],
        [
         "Pan",
         "Pan axes with left mouse, zoom with right",
         "arrows",
         "pan"
        ],
        [
         "Zoom",
         "Zoom to rectangle",
         "square-o",
         "zoom"
        ],
        [
         "Download",
         "Download plot",
         "floppy-o",
         "save_figure"
        ]
       ]
      }
     },
     "2ab6225b06554104818ca912096a86d6": {
      "model_module": "jupyter-matplotlib",
      "model_module_version": "^0.7.4",
      "model_name": "ToolbarModel",
      "state": {
       "layout": "IPY_MODEL_32a11b48c5434f97b1e9c95f4eb566db",
       "toolitems": [
        [
         "Home",
         "Reset original view",
         "home",
         "home"
        ],
        [
         "Back",
         "Back to previous view",
         "arrow-left",
         "back"
        ],
        [
         "Forward",
         "Forward to next view",
         "arrow-right",
         "forward"
        ],
        [
         "Pan",
         "Pan axes with left mouse, zoom with right",
         "arrows",
         "pan"
        ],
        [
         "Zoom",
         "Zoom to rectangle",
         "square-o",
         "zoom"
        ],
        [
         "Download",
         "Download plot",
         "floppy-o",
         "save_figure"
        ]
       ]
      }
     },
     "2b4e707b53ac4d6fa5bd15206cd931e1": {
      "model_module": "jupyter-matplotlib",
      "model_module_version": "^0.7.4",
      "model_name": "ToolbarModel",
      "state": {
       "layout": "IPY_MODEL_9616cd95feda4b5289708f40fd206471",
       "toolitems": [
        [
         "Home",
         "Reset original view",
         "home",
         "home"
        ],
        [
         "Back",
         "Back to previous view",
         "arrow-left",
         "back"
        ],
        [
         "Forward",
         "Forward to next view",
         "arrow-right",
         "forward"
        ],
        [
         "Pan",
         "Pan axes with left mouse, zoom with right",
         "arrows",
         "pan"
        ],
        [
         "Zoom",
         "Zoom to rectangle",
         "square-o",
         "zoom"
        ],
        [
         "Download",
         "Download plot",
         "floppy-o",
         "save_figure"
        ]
       ]
      }
     },
     "2bb3ae5c567b4f16a25b6123c485f77d": {
      "model_module": "@jupyter-widgets/base",
      "model_module_version": "1.2.0",
      "model_name": "LayoutModel",
      "state": {}
     },
     "2c96cdab0412444c97289d7054a4e71f": {
      "model_module": "@jupyter-widgets/base",
      "model_module_version": "1.2.0",
      "model_name": "LayoutModel",
      "state": {}
     },
     "2d93f94f6e8f4033892ea5ef9c1b186c": {
      "model_module": "@jupyter-widgets/base",
      "model_module_version": "1.2.0",
      "model_name": "LayoutModel",
      "state": {}
     },
     "2db6ac1b93d946e1822c391e7b90dab3": {
      "model_module": "@jupyter-widgets/base",
      "model_module_version": "1.2.0",
      "model_name": "LayoutModel",
      "state": {}
     },
     "2ec8993d8fb344cda263ab92d9f53b7f": {
      "model_module": "jupyter-matplotlib",
      "model_module_version": "^0.7.4",
      "model_name": "ToolbarModel",
      "state": {
       "layout": "IPY_MODEL_9e14b2b8ba6144e5839433e267fbde16",
       "toolitems": [
        [
         "Home",
         "Reset original view",
         "home",
         "home"
        ],
        [
         "Back",
         "Back to previous view",
         "arrow-left",
         "back"
        ],
        [
         "Forward",
         "Forward to next view",
         "arrow-right",
         "forward"
        ],
        [
         "Pan",
         "Pan axes with left mouse, zoom with right",
         "arrows",
         "pan"
        ],
        [
         "Zoom",
         "Zoom to rectangle",
         "square-o",
         "zoom"
        ],
        [
         "Download",
         "Download plot",
         "floppy-o",
         "save_figure"
        ]
       ]
      }
     },
     "2edf0e25942e4b189145e26c73606d5f": {
      "model_module": "@jupyter-widgets/base",
      "model_module_version": "1.2.0",
      "model_name": "LayoutModel",
      "state": {}
     },
     "310371e8426f42de912ab1b3138c5c2f": {
      "model_module": "@jupyter-widgets/base",
      "model_module_version": "1.2.0",
      "model_name": "LayoutModel",
      "state": {}
     },
     "312e7859ab464020837ae8715f81d5fc": {
      "model_module": "jupyter-matplotlib",
      "model_module_version": "^0.7.4",
      "model_name": "ToolbarModel",
      "state": {
       "layout": "IPY_MODEL_4e24152e7d0440f7897bfd1caf19c2e1",
       "toolitems": [
        [
         "Home",
         "Reset original view",
         "home",
         "home"
        ],
        [
         "Back",
         "Back to previous view",
         "arrow-left",
         "back"
        ],
        [
         "Forward",
         "Forward to next view",
         "arrow-right",
         "forward"
        ],
        [
         "Pan",
         "Pan axes with left mouse, zoom with right",
         "arrows",
         "pan"
        ],
        [
         "Zoom",
         "Zoom to rectangle",
         "square-o",
         "zoom"
        ],
        [
         "Download",
         "Download plot",
         "floppy-o",
         "save_figure"
        ]
       ]
      }
     },
     "3162593cde824e45b3b220afdf70f319": {
      "model_module": "@jupyter-widgets/base",
      "model_module_version": "1.2.0",
      "model_name": "LayoutModel",
      "state": {}
     },
     "31a55d2927c641b398941dec205f4d02": {
      "model_module": "@jupyter-widgets/base",
      "model_module_version": "1.2.0",
      "model_name": "LayoutModel",
      "state": {}
     },
     "326a19a8e91d4550b72a834e630688a0": {
      "model_module": "@jupyter-widgets/base",
      "model_module_version": "1.2.0",
      "model_name": "LayoutModel",
      "state": {}
     },
     "32a11b48c5434f97b1e9c95f4eb566db": {
      "model_module": "@jupyter-widgets/base",
      "model_module_version": "1.2.0",
      "model_name": "LayoutModel",
      "state": {}
     },
     "336eedbac3624a5bbd02ed4501e173ff": {
      "model_module": "@jupyter-widgets/base",
      "model_module_version": "1.2.0",
      "model_name": "LayoutModel",
      "state": {}
     },
     "34089f6eaa81441a98aed190aa791d1e": {
      "model_module": "jupyter-matplotlib",
      "model_module_version": "^0.7.4",
      "model_name": "MPLCanvasModel",
      "state": {
       "_cursor": "default",
       "_figure_label": "Figure 20",
       "_height": 450,
       "_image_mode": "diff",
       "_message": "x=363.075      y=0.959975    ",
       "_width": 450,
       "layout": "IPY_MODEL_f2b1d2fc826449b9a975c792565b72ad",
       "toolbar": "IPY_MODEL_d9dfa666c76840d1b80a408e93884fe2",
       "toolbar_position": "left"
      }
     },
     "343ab5902f6b4d8fa9ee880f7605544c": {
      "model_module": "jupyter-matplotlib",
      "model_module_version": "^0.7.4",
      "model_name": "MPLCanvasModel",
      "state": {
       "_cursor": "default",
       "_figure_label": "Figure 18",
       "_height": 450,
       "_image_mode": "diff",
       "_message": "x= y=1063.37     ",
       "_width": 900,
       "layout": "IPY_MODEL_5bebbb16b7934bbebf2893193d0aeef5",
       "toolbar": "IPY_MODEL_deed2b8d09df424e85d5faf935c0ef9b",
       "toolbar_position": "left"
      }
     },
     "347d1c16d49d4562964fc847fbee13c9": {
      "model_module": "jupyter-matplotlib",
      "model_module_version": "^0.7.4",
      "model_name": "ToolbarModel",
      "state": {
       "_current_action": "zoom",
       "layout": "IPY_MODEL_2733e54f7b08420397ea7f8af8abb07c",
       "toolitems": [
        [
         "Home",
         "Reset original view",
         "home",
         "home"
        ],
        [
         "Back",
         "Back to previous view",
         "arrow-left",
         "back"
        ],
        [
         "Forward",
         "Forward to next view",
         "arrow-right",
         "forward"
        ],
        [
         "Pan",
         "Pan axes with left mouse, zoom with right",
         "arrows",
         "pan"
        ],
        [
         "Zoom",
         "Zoom to rectangle",
         "square-o",
         "zoom"
        ],
        [
         "Download",
         "Download plot",
         "floppy-o",
         "save_figure"
        ]
       ]
      }
     },
     "347debb75d2b4ef2a4137732ed92a4d3": {
      "model_module": "jupyter-matplotlib",
      "model_module_version": "^0.7.4",
      "model_name": "ToolbarModel",
      "state": {
       "layout": "IPY_MODEL_b5a40a6d1693450397710f08f16b8645",
       "toolitems": [
        [
         "Home",
         "Reset original view",
         "home",
         "home"
        ],
        [
         "Back",
         "Back to previous view",
         "arrow-left",
         "back"
        ],
        [
         "Forward",
         "Forward to next view",
         "arrow-right",
         "forward"
        ],
        [
         "Pan",
         "Pan axes with left mouse, zoom with right",
         "arrows",
         "pan"
        ],
        [
         "Zoom",
         "Zoom to rectangle",
         "square-o",
         "zoom"
        ],
        [
         "Download",
         "Download plot",
         "floppy-o",
         "save_figure"
        ]
       ]
      }
     },
     "3481296450354bd2a1033cdbbd7ae64e": {
      "model_module": "@jupyter-widgets/base",
      "model_module_version": "1.2.0",
      "model_name": "LayoutModel",
      "state": {}
     },
     "362355ef9846416da05d293307f31b6f": {
      "model_module": "@jupyter-widgets/base",
      "model_module_version": "1.2.0",
      "model_name": "LayoutModel",
      "state": {}
     },
     "3762a5e99e824f6582955fc72bf201cb": {
      "model_module": "jupyter-matplotlib",
      "model_module_version": "^0.7.4",
      "model_name": "ToolbarModel",
      "state": {
       "layout": "IPY_MODEL_131ff646a8464072bf879734e64effd7",
       "toolitems": [
        [
         "Home",
         "Reset original view",
         "home",
         "home"
        ],
        [
         "Back",
         "Back to previous view",
         "arrow-left",
         "back"
        ],
        [
         "Forward",
         "Forward to next view",
         "arrow-right",
         "forward"
        ],
        [
         "Pan",
         "Pan axes with left mouse, zoom with right",
         "arrows",
         "pan"
        ],
        [
         "Zoom",
         "Zoom to rectangle",
         "square-o",
         "zoom"
        ],
        [
         "Download",
         "Download plot",
         "floppy-o",
         "save_figure"
        ]
       ]
      }
     },
     "383f7f28ab1140a4b18d234f1220de8f": {
      "model_module": "@jupyter-widgets/base",
      "model_module_version": "1.2.0",
      "model_name": "LayoutModel",
      "state": {}
     },
     "386254755c1148a1aad43e040106f4bf": {
      "model_module": "@jupyter-widgets/base",
      "model_module_version": "1.2.0",
      "model_name": "LayoutModel",
      "state": {}
     },
     "3886675fbff04d6d8a9db2f0b9a638b1": {
      "model_module": "@jupyter-widgets/base",
      "model_module_version": "1.2.0",
      "model_name": "LayoutModel",
      "state": {}
     },
     "38aa43cb2acb4813a43c4f80f0754747": {
      "model_module": "@jupyter-widgets/base",
      "model_module_version": "1.2.0",
      "model_name": "LayoutModel",
      "state": {}
     },
     "396294261b87463cbf31a13cc3f1b098": {
      "model_module": "jupyter-matplotlib",
      "model_module_version": "^0.7.4",
      "model_name": "ToolbarModel",
      "state": {
       "layout": "IPY_MODEL_8ef8f8a7ee9b46a3834ad6e86151310c",
       "toolitems": [
        [
         "Home",
         "Reset original view",
         "home",
         "home"
        ],
        [
         "Back",
         "Back to previous view",
         "arrow-left",
         "back"
        ],
        [
         "Forward",
         "Forward to next view",
         "arrow-right",
         "forward"
        ],
        [
         "Pan",
         "Pan axes with left mouse, zoom with right",
         "arrows",
         "pan"
        ],
        [
         "Zoom",
         "Zoom to rectangle",
         "square-o",
         "zoom"
        ],
        [
         "Download",
         "Download plot",
         "floppy-o",
         "save_figure"
        ]
       ]
      }
     },
     "3991b56eb0344a598a6bd83ca1c62fe1": {
      "model_module": "@jupyter-widgets/base",
      "model_module_version": "1.2.0",
      "model_name": "LayoutModel",
      "state": {}
     },
     "399573c5fa434edd948cd25b56b1a94b": {
      "model_module": "jupyter-matplotlib",
      "model_module_version": "^0.7.4",
      "model_name": "ToolbarModel",
      "state": {
       "layout": "IPY_MODEL_9113b3f3e26e48019e8993af5362c2bc",
       "toolitems": [
        [
         "Home",
         "Reset original view",
         "home",
         "home"
        ],
        [
         "Back",
         "Back to previous view",
         "arrow-left",
         "back"
        ],
        [
         "Forward",
         "Forward to next view",
         "arrow-right",
         "forward"
        ],
        [
         "Pan",
         "Pan axes with left mouse, zoom with right",
         "arrows",
         "pan"
        ],
        [
         "Zoom",
         "Zoom to rectangle",
         "square-o",
         "zoom"
        ],
        [
         "Download",
         "Download plot",
         "floppy-o",
         "save_figure"
        ]
       ]
      }
     },
     "39d35ce36a0443c29cb6c2c2b64e9130": {
      "model_module": "@jupyter-widgets/base",
      "model_module_version": "1.2.0",
      "model_name": "LayoutModel",
      "state": {}
     },
     "39e4b4e2adb8463ebe96d287197c03df": {
      "model_module": "jupyter-matplotlib",
      "model_module_version": "^0.7.4",
      "model_name": "MPLCanvasModel",
      "state": {
       "_cursor": "default",
       "_figure_label": "Figure 43",
       "_height": 450,
       "_message": "x= y=25333.8     ",
       "_width": 1214,
       "layout": "IPY_MODEL_4d82002747544b779cf1ea4428c9bed4",
       "toolbar": "IPY_MODEL_cb82e615f4b04999b865800e95770091",
       "toolbar_position": "left"
      }
     },
     "3aace11c71284985bcac0bebc556a042": {
      "model_module": "jupyter-matplotlib",
      "model_module_version": "^0.7.4",
      "model_name": "MPLCanvasModel",
      "state": {
       "_height": 450,
       "_width": 1214,
       "layout": "IPY_MODEL_d0d9ef9468774e78b90cfd80f974b370",
       "toolbar": "IPY_MODEL_b4cdad6603a34b0c82487f695d0ad0c5",
       "toolbar_position": "left"
      }
     },
     "3bc04e3cc6ad4fdc88f49e20d72503ce": {
      "model_module": "jupyter-matplotlib",
      "model_module_version": "^0.7.4",
      "model_name": "ToolbarModel",
      "state": {
       "layout": "IPY_MODEL_e815c03041eb4e8f9c4577f442043391",
       "toolitems": [
        [
         "Home",
         "Reset original view",
         "home",
         "home"
        ],
        [
         "Back",
         "Back to previous view",
         "arrow-left",
         "back"
        ],
        [
         "Forward",
         "Forward to next view",
         "arrow-right",
         "forward"
        ],
        [
         "Pan",
         "Pan axes with left mouse, zoom with right",
         "arrows",
         "pan"
        ],
        [
         "Zoom",
         "Zoom to rectangle",
         "square-o",
         "zoom"
        ],
        [
         "Download",
         "Download plot",
         "floppy-o",
         "save_figure"
        ]
       ]
      }
     },
     "3d441bb7bda24541a717ec165251fd1e": {
      "model_module": "@jupyter-widgets/controls",
      "model_module_version": "1.5.0",
      "model_name": "DescriptionStyleModel",
      "state": {
       "description_width": ""
      }
     },
     "3d6c02624cde48038064ae6ec23e3c38": {
      "model_module": "jupyter-matplotlib",
      "model_module_version": "^0.7.4",
      "model_name": "MPLCanvasModel",
      "state": {
       "_cursor": "default",
       "_figure_label": "Figure 39",
       "_height": 450,
       "_width": 1214,
       "layout": "IPY_MODEL_0c6be5ec04e84830934fb50323553c22",
       "toolbar": "IPY_MODEL_d1eb237d41244eb691ee9293f2913a5b",
       "toolbar_position": "left"
      }
     },
     "3dbe57329322401cb9516c0ee21fe8e9": {
      "model_module": "jupyter-matplotlib",
      "model_module_version": "^0.7.4",
      "model_name": "MPLCanvasModel",
      "state": {
       "_cursor": "default",
       "_figure_label": "Figure 1",
       "_height": 600,
       "_image_mode": "diff",
       "_width": 600,
       "layout": "IPY_MODEL_fd3129b7a7554d328c6dbc3c93d4e1f3",
       "toolbar": "IPY_MODEL_546800e409f8434ea172d48cb2c08257",
       "toolbar_position": "left"
      }
     },
     "3de9104d8b2e43f189ce624e29b3a740": {
      "model_module": "@jupyter-widgets/base",
      "model_module_version": "1.2.0",
      "model_name": "LayoutModel",
      "state": {}
     },
     "3f5409f3355f4fcb80e7a92ce7f6426c": {
      "model_module": "@jupyter-widgets/base",
      "model_module_version": "1.2.0",
      "model_name": "LayoutModel",
      "state": {}
     },
     "3fb332958fd74f0895a2fe73ae15d37f": {
      "model_module": "@jupyter-widgets/base",
      "model_module_version": "1.2.0",
      "model_name": "LayoutModel",
      "state": {}
     },
     "3ff151ac5564459aa9ae9b2769519aee": {
      "model_module": "@jupyter-widgets/base",
      "model_module_version": "1.2.0",
      "model_name": "LayoutModel",
      "state": {}
     },
     "401d301fc1f34183a1fd7f4a7106f20f": {
      "model_module": "jupyter-matplotlib",
      "model_module_version": "^0.7.4",
      "model_name": "ToolbarModel",
      "state": {
       "layout": "IPY_MODEL_63e6cca146574792890b437674bf55a1",
       "toolitems": [
        [
         "Home",
         "Reset original view",
         "home",
         "home"
        ],
        [
         "Back",
         "Back to previous view",
         "arrow-left",
         "back"
        ],
        [
         "Forward",
         "Forward to next view",
         "arrow-right",
         "forward"
        ],
        [
         "Pan",
         "Pan axes with left mouse, zoom with right",
         "arrows",
         "pan"
        ],
        [
         "Zoom",
         "Zoom to rectangle",
         "square-o",
         "zoom"
        ],
        [
         "Download",
         "Download plot",
         "floppy-o",
         "save_figure"
        ]
       ]
      }
     },
     "401ef9dd0d9c4a6cadae7c8535450ce1": {
      "model_module": "jupyter-matplotlib",
      "model_module_version": "^0.7.4",
      "model_name": "ToolbarModel",
      "state": {
       "layout": "IPY_MODEL_5ff6bfd439b5433a9a0247ff3f463c85",
       "toolitems": [
        [
         "Home",
         "Reset original view",
         "home",
         "home"
        ],
        [
         "Back",
         "Back to previous view",
         "arrow-left",
         "back"
        ],
        [
         "Forward",
         "Forward to next view",
         "arrow-right",
         "forward"
        ],
        [
         "Pan",
         "Pan axes with left mouse, zoom with right",
         "arrows",
         "pan"
        ],
        [
         "Zoom",
         "Zoom to rectangle",
         "square-o",
         "zoom"
        ],
        [
         "Download",
         "Download plot",
         "floppy-o",
         "save_figure"
        ]
       ]
      }
     },
     "40767046482b442bb247b6cad6db21f6": {
      "model_module": "@jupyter-widgets/base",
      "model_module_version": "1.2.0",
      "model_name": "LayoutModel",
      "state": {}
     },
     "408e699cbca54958accdcb79d57a9bab": {
      "model_module": "jupyter-matplotlib",
      "model_module_version": "^0.7.4",
      "model_name": "ToolbarModel",
      "state": {
       "layout": "IPY_MODEL_5cfa3ea4669048d4b11bba715db225b9",
       "toolitems": [
        [
         "Home",
         "Reset original view",
         "home",
         "home"
        ],
        [
         "Back",
         "Back to previous view",
         "arrow-left",
         "back"
        ],
        [
         "Forward",
         "Forward to next view",
         "arrow-right",
         "forward"
        ],
        [
         "Pan",
         "Pan axes with left mouse, zoom with right",
         "arrows",
         "pan"
        ],
        [
         "Zoom",
         "Zoom to rectangle",
         "square-o",
         "zoom"
        ],
        [
         "Download",
         "Download plot",
         "floppy-o",
         "save_figure"
        ]
       ]
      }
     },
     "40c0c036960a47638d44db96574545de": {
      "model_module": "jupyter-matplotlib",
      "model_module_version": "^0.7.4",
      "model_name": "ToolbarModel",
      "state": {
       "layout": "IPY_MODEL_cc28c23189f74fd3ab82d65520dd645a",
       "toolitems": [
        [
         "Home",
         "Reset original view",
         "home",
         "home"
        ],
        [
         "Back",
         "Back to previous view",
         "arrow-left",
         "back"
        ],
        [
         "Forward",
         "Forward to next view",
         "arrow-right",
         "forward"
        ],
        [
         "Pan",
         "Pan axes with left mouse, zoom with right",
         "arrows",
         "pan"
        ],
        [
         "Zoom",
         "Zoom to rectangle",
         "square-o",
         "zoom"
        ],
        [
         "Download",
         "Download plot",
         "floppy-o",
         "save_figure"
        ]
       ]
      }
     },
     "40fd50bd21e74b7c8640ea31371953f7": {
      "model_module": "jupyter-matplotlib",
      "model_module_version": "^0.7.4",
      "model_name": "ToolbarModel",
      "state": {
       "_current_action": "zoom",
       "layout": "IPY_MODEL_d3e9c17b4aff41a6871fb4b9ebfe9788",
       "toolitems": [
        [
         "Home",
         "Reset original view",
         "home",
         "home"
        ],
        [
         "Back",
         "Back to previous view",
         "arrow-left",
         "back"
        ],
        [
         "Forward",
         "Forward to next view",
         "arrow-right",
         "forward"
        ],
        [
         "Pan",
         "Pan axes with left mouse, zoom with right",
         "arrows",
         "pan"
        ],
        [
         "Zoom",
         "Zoom to rectangle",
         "square-o",
         "zoom"
        ],
        [
         "Download",
         "Download plot",
         "floppy-o",
         "save_figure"
        ]
       ]
      }
     },
     "418d2091ef7d4b89a4c73411c41a33c8": {
      "model_module": "@jupyter-widgets/base",
      "model_module_version": "1.2.0",
      "model_name": "LayoutModel",
      "state": {}
     },
     "41f92209c1814162afe60b1733c3151a": {
      "model_module": "@jupyter-widgets/base",
      "model_module_version": "1.2.0",
      "model_name": "LayoutModel",
      "state": {}
     },
     "439d49d791d64506acc3d13265ed019a": {
      "model_module": "@jupyter-widgets/base",
      "model_module_version": "1.2.0",
      "model_name": "LayoutModel",
      "state": {}
     },
     "448059fe507f458a8c0854d7e8066844": {
      "model_module": "jupyter-matplotlib",
      "model_module_version": "^0.7.4",
      "model_name": "ToolbarModel",
      "state": {
       "layout": "IPY_MODEL_09b887d08c934eea92ca2c88230220e3",
       "toolitems": [
        [
         "Home",
         "Reset original view",
         "home",
         "home"
        ],
        [
         "Back",
         "Back to previous view",
         "arrow-left",
         "back"
        ],
        [
         "Forward",
         "Forward to next view",
         "arrow-right",
         "forward"
        ],
        [
         "Pan",
         "Pan axes with left mouse, zoom with right",
         "arrows",
         "pan"
        ],
        [
         "Zoom",
         "Zoom to rectangle",
         "square-o",
         "zoom"
        ],
        [
         "Download",
         "Download plot",
         "floppy-o",
         "save_figure"
        ]
       ]
      }
     },
     "44c398d728bd41aabc02dc47f62fd0ff": {
      "model_module": "@jupyter-widgets/base",
      "model_module_version": "1.2.0",
      "model_name": "LayoutModel",
      "state": {}
     },
     "453336a71e86470babf3167aa14c1ee7": {
      "model_module": "@jupyter-widgets/base",
      "model_module_version": "1.2.0",
      "model_name": "LayoutModel",
      "state": {}
     },
     "458aa2c6f25443f695f10d448c9282d4": {
      "model_module": "jupyter-matplotlib",
      "model_module_version": "^0.7.4",
      "model_name": "MPLCanvasModel",
      "state": {
       "_cursor": "default",
       "_figure_label": "Figure 11",
       "_height": 375,
       "_width": 375,
       "layout": "IPY_MODEL_41f92209c1814162afe60b1733c3151a",
       "toolbar": "IPY_MODEL_84639cf7f8af41f5be7a2e7edd61e854",
       "toolbar_position": "left"
      }
     },
     "46188c06768544edb5e18d11dad9b09f": {
      "model_module": "jupyter-matplotlib",
      "model_module_version": "^0.7.4",
      "model_name": "ToolbarModel",
      "state": {
       "layout": "IPY_MODEL_7d5c64322dd3422cb2d5b557f5645a62",
       "toolitems": [
        [
         "Home",
         "Reset original view",
         "home",
         "home"
        ],
        [
         "Back",
         "Back to previous view",
         "arrow-left",
         "back"
        ],
        [
         "Forward",
         "Forward to next view",
         "arrow-right",
         "forward"
        ],
        [
         "Pan",
         "Pan axes with left mouse, zoom with right",
         "arrows",
         "pan"
        ],
        [
         "Zoom",
         "Zoom to rectangle",
         "square-o",
         "zoom"
        ],
        [
         "Download",
         "Download plot",
         "floppy-o",
         "save_figure"
        ]
       ]
      }
     },
     "473c127002764e69a5a5fd442284a366": {
      "model_module": "@jupyter-widgets/base",
      "model_module_version": "1.2.0",
      "model_name": "LayoutModel",
      "state": {}
     },
     "48689524be7844c39c5f6e41e29b6084": {
      "model_module": "@jupyter-widgets/base",
      "model_module_version": "1.2.0",
      "model_name": "LayoutModel",
      "state": {}
     },
     "4883b4da82bf421f86a0bdea1d4708ed": {
      "model_module": "jupyter-matplotlib",
      "model_module_version": "^0.7.4",
      "model_name": "ToolbarModel",
      "state": {
       "layout": "IPY_MODEL_16cbd482584544bb93714534d53f575e",
       "toolitems": [
        [
         "Home",
         "Reset original view",
         "home",
         "home"
        ],
        [
         "Back",
         "Back to previous view",
         "arrow-left",
         "back"
        ],
        [
         "Forward",
         "Forward to next view",
         "arrow-right",
         "forward"
        ],
        [
         "Pan",
         "Pan axes with left mouse, zoom with right",
         "arrows",
         "pan"
        ],
        [
         "Zoom",
         "Zoom to rectangle",
         "square-o",
         "zoom"
        ],
        [
         "Download",
         "Download plot",
         "floppy-o",
         "save_figure"
        ]
       ]
      }
     },
     "48c3fa576f1945cc93a3c46df97fb027": {
      "model_module": "jupyter-matplotlib",
      "model_module_version": "^0.7.4",
      "model_name": "ToolbarModel",
      "state": {
       "layout": "IPY_MODEL_75bec856e8514fcd94e074af30e0806f",
       "toolitems": [
        [
         "Home",
         "Reset original view",
         "home",
         "home"
        ],
        [
         "Back",
         "Back to previous view",
         "arrow-left",
         "back"
        ],
        [
         "Forward",
         "Forward to next view",
         "arrow-right",
         "forward"
        ],
        [
         "Pan",
         "Pan axes with left mouse, zoom with right",
         "arrows",
         "pan"
        ],
        [
         "Zoom",
         "Zoom to rectangle",
         "square-o",
         "zoom"
        ],
        [
         "Download",
         "Download plot",
         "floppy-o",
         "save_figure"
        ]
       ]
      }
     },
     "4934beab337a4ab2ad5b18d7b8214283": {
      "model_module": "jupyter-matplotlib",
      "model_module_version": "^0.7.4",
      "model_name": "ToolbarModel",
      "state": {
       "layout": "IPY_MODEL_c7b74dea3f354ac6ba43cb29340f61e6",
       "toolitems": [
        [
         "Home",
         "Reset original view",
         "home",
         "home"
        ],
        [
         "Back",
         "Back to previous view",
         "arrow-left",
         "back"
        ],
        [
         "Forward",
         "Forward to next view",
         "arrow-right",
         "forward"
        ],
        [
         "Pan",
         "Pan axes with left mouse, zoom with right",
         "arrows",
         "pan"
        ],
        [
         "Zoom",
         "Zoom to rectangle",
         "square-o",
         "zoom"
        ],
        [
         "Download",
         "Download plot",
         "floppy-o",
         "save_figure"
        ]
       ]
      }
     },
     "496fd930cab04c02b06b538fd411b927": {
      "model_module": "jupyter-matplotlib",
      "model_module_version": "^0.7.4",
      "model_name": "ToolbarModel",
      "state": {
       "layout": "IPY_MODEL_52da32dfa34d42398e97e0b6aa63c835",
       "toolitems": [
        [
         "Home",
         "Reset original view",
         "home",
         "home"
        ],
        [
         "Back",
         "Back to previous view",
         "arrow-left",
         "back"
        ],
        [
         "Forward",
         "Forward to next view",
         "arrow-right",
         "forward"
        ],
        [
         "Pan",
         "Pan axes with left mouse, zoom with right",
         "arrows",
         "pan"
        ],
        [
         "Zoom",
         "Zoom to rectangle",
         "square-o",
         "zoom"
        ],
        [
         "Download",
         "Download plot",
         "floppy-o",
         "save_figure"
        ]
       ]
      }
     },
     "497d04709db74d118a5d5ed35eeb42ad": {
      "model_module": "@jupyter-widgets/base",
      "model_module_version": "1.2.0",
      "model_name": "LayoutModel",
      "state": {}
     },
     "49bd1edd8c89476ca853a6aceee88073": {
      "model_module": "@jupyter-widgets/base",
      "model_module_version": "1.2.0",
      "model_name": "LayoutModel",
      "state": {}
     },
     "4bf357ad843e4e3a8d4c3fa524954470": {
      "model_module": "jupyter-matplotlib",
      "model_module_version": "^0.7.4",
      "model_name": "ToolbarModel",
      "state": {
       "layout": "IPY_MODEL_0bf840e9f94e4422a007e2fd45777d26",
       "toolitems": [
        [
         "Home",
         "Reset original view",
         "home",
         "home"
        ],
        [
         "Back",
         "Back to previous view",
         "arrow-left",
         "back"
        ],
        [
         "Forward",
         "Forward to next view",
         "arrow-right",
         "forward"
        ],
        [
         "Pan",
         "Pan axes with left mouse, zoom with right",
         "arrows",
         "pan"
        ],
        [
         "Zoom",
         "Zoom to rectangle",
         "square-o",
         "zoom"
        ],
        [
         "Download",
         "Download plot",
         "floppy-o",
         "save_figure"
        ]
       ]
      }
     },
     "4d1ae9b62c6846c8863aa7cb80345aeb": {
      "model_module": "jupyter-matplotlib",
      "model_module_version": "^0.7.4",
      "model_name": "MPLCanvasModel",
      "state": {
       "_cursor": "default",
       "_figure_label": "Figure 17",
       "_height": 540,
       "_width": 540,
       "layout": "IPY_MODEL_e66bf889fe454f079b5a41bb539c502d",
       "toolbar": "IPY_MODEL_901cc01bad9c4cefa09fb54b981508db",
       "toolbar_position": "left"
      }
     },
     "4d82002747544b779cf1ea4428c9bed4": {
      "model_module": "@jupyter-widgets/base",
      "model_module_version": "1.2.0",
      "model_name": "LayoutModel",
      "state": {}
     },
     "4e19d9a29c464825857be136e94632a7": {
      "model_module": "@jupyter-widgets/base",
      "model_module_version": "1.2.0",
      "model_name": "LayoutModel",
      "state": {}
     },
     "4e212de5e0fd4e84bd4b45b06dfcaf07": {
      "model_module": "jupyter-matplotlib",
      "model_module_version": "^0.7.4",
      "model_name": "ToolbarModel",
      "state": {
       "layout": "IPY_MODEL_9f68ebb17d2245ffadffd4670a656744",
       "toolitems": [
        [
         "Home",
         "Reset original view",
         "home",
         "home"
        ],
        [
         "Back",
         "Back to previous view",
         "arrow-left",
         "back"
        ],
        [
         "Forward",
         "Forward to next view",
         "arrow-right",
         "forward"
        ],
        [
         "Pan",
         "Pan axes with left mouse, zoom with right",
         "arrows",
         "pan"
        ],
        [
         "Zoom",
         "Zoom to rectangle",
         "square-o",
         "zoom"
        ],
        [
         "Download",
         "Download plot",
         "floppy-o",
         "save_figure"
        ]
       ]
      }
     },
     "4e24152e7d0440f7897bfd1caf19c2e1": {
      "model_module": "@jupyter-widgets/base",
      "model_module_version": "1.2.0",
      "model_name": "LayoutModel",
      "state": {}
     },
     "4e72b94b1129481aacfd60eeae48739d": {
      "model_module": "@jupyter-widgets/base",
      "model_module_version": "1.2.0",
      "model_name": "LayoutModel",
      "state": {}
     },
     "4e86da6d64624ce79e2d33b8965c3440": {
      "model_module": "jupyter-matplotlib",
      "model_module_version": "^0.7.4",
      "model_name": "ToolbarModel",
      "state": {
       "layout": "IPY_MODEL_9421b0544fb045878191fde0b90f3731",
       "toolitems": [
        [
         "Home",
         "Reset original view",
         "home",
         "home"
        ],
        [
         "Back",
         "Back to previous view",
         "arrow-left",
         "back"
        ],
        [
         "Forward",
         "Forward to next view",
         "arrow-right",
         "forward"
        ],
        [
         "Pan",
         "Pan axes with left mouse, zoom with right",
         "arrows",
         "pan"
        ],
        [
         "Zoom",
         "Zoom to rectangle",
         "square-o",
         "zoom"
        ],
        [
         "Download",
         "Download plot",
         "floppy-o",
         "save_figure"
        ]
       ]
      }
     },
     "4e9b71f360be41fcbbc7b838b0ac6471": {
      "model_module": "jupyter-matplotlib",
      "model_module_version": "^0.7.4",
      "model_name": "MPLCanvasModel",
      "state": {
       "_cursor": "default",
       "_figure_label": "Figure 33",
       "_height": 450,
       "_width": 1214,
       "layout": "IPY_MODEL_ec30e7ddf55542818331b5e0cec067ba",
       "toolbar": "IPY_MODEL_bad57f0c90b940baaf1f19b186e0b8e5",
       "toolbar_position": "left"
      }
     },
     "4ed46bffb9fb4eaea63f3674e113d8ed": {
      "model_module": "@jupyter-widgets/base",
      "model_module_version": "1.2.0",
      "model_name": "LayoutModel",
      "state": {}
     },
     "4eed55dba3694af29fa9f122386e2915": {
      "model_module": "@jupyter-widgets/base",
      "model_module_version": "1.2.0",
      "model_name": "LayoutModel",
      "state": {}
     },
     "4f06f45a8f434e3ba4bdb8a2406df228": {
      "model_module": "jupyter-matplotlib",
      "model_module_version": "^0.7.4",
      "model_name": "ToolbarModel",
      "state": {
       "layout": "IPY_MODEL_1d81303affff4acaa6936d39016cefe6",
       "toolitems": [
        [
         "Home",
         "Reset original view",
         "home",
         "home"
        ],
        [
         "Back",
         "Back to previous view",
         "arrow-left",
         "back"
        ],
        [
         "Forward",
         "Forward to next view",
         "arrow-right",
         "forward"
        ],
        [
         "Pan",
         "Pan axes with left mouse, zoom with right",
         "arrows",
         "pan"
        ],
        [
         "Zoom",
         "Zoom to rectangle",
         "square-o",
         "zoom"
        ],
        [
         "Download",
         "Download plot",
         "floppy-o",
         "save_figure"
        ]
       ]
      }
     },
     "4f1c569127af4a92a9fce01b555d002e": {
      "model_module": "@jupyter-widgets/base",
      "model_module_version": "1.2.0",
      "model_name": "LayoutModel",
      "state": {}
     },
     "4f97621efe904281b1b29a70cbb1da8c": {
      "model_module": "@jupyter-widgets/base",
      "model_module_version": "1.2.0",
      "model_name": "LayoutModel",
      "state": {}
     },
     "4fa5cacc7f204f429dcd858c59f20690": {
      "model_module": "@jupyter-widgets/base",
      "model_module_version": "1.2.0",
      "model_name": "LayoutModel",
      "state": {}
     },
     "5037e62321a14ef3bb7b6e34a3d8514d": {
      "model_module": "@jupyter-widgets/base",
      "model_module_version": "1.2.0",
      "model_name": "LayoutModel",
      "state": {}
     },
     "51352dcae78944d18c94c03981c9974a": {
      "model_module": "jupyter-matplotlib",
      "model_module_version": "^0.7.4",
      "model_name": "ToolbarModel",
      "state": {
       "layout": "IPY_MODEL_ab4f92b299e949c58e58cec634505e71",
       "toolitems": [
        [
         "Home",
         "Reset original view",
         "home",
         "home"
        ],
        [
         "Back",
         "Back to previous view",
         "arrow-left",
         "back"
        ],
        [
         "Forward",
         "Forward to next view",
         "arrow-right",
         "forward"
        ],
        [
         "Pan",
         "Pan axes with left mouse, zoom with right",
         "arrows",
         "pan"
        ],
        [
         "Zoom",
         "Zoom to rectangle",
         "square-o",
         "zoom"
        ],
        [
         "Download",
         "Download plot",
         "floppy-o",
         "save_figure"
        ]
       ]
      }
     },
     "5195bafbb66d479e930503a5aea1e468": {
      "model_module": "@jupyter-widgets/base",
      "model_module_version": "1.2.0",
      "model_name": "LayoutModel",
      "state": {}
     },
     "52da32dfa34d42398e97e0b6aa63c835": {
      "model_module": "@jupyter-widgets/base",
      "model_module_version": "1.2.0",
      "model_name": "LayoutModel",
      "state": {}
     },
     "53408e9effa647f89e5fb1559488f3d5": {
      "model_module": "@jupyter-widgets/base",
      "model_module_version": "1.2.0",
      "model_name": "LayoutModel",
      "state": {}
     },
     "53c8b71efec04ff0bd3904381f7a71fa": {
      "model_module": "jupyter-matplotlib",
      "model_module_version": "^0.7.4",
      "model_name": "ToolbarModel",
      "state": {
       "layout": "IPY_MODEL_19c29ed7c87c4b4d84bc672b6fbf5e25",
       "toolitems": [
        [
         "Home",
         "Reset original view",
         "home",
         "home"
        ],
        [
         "Back",
         "Back to previous view",
         "arrow-left",
         "back"
        ],
        [
         "Forward",
         "Forward to next view",
         "arrow-right",
         "forward"
        ],
        [
         "Pan",
         "Pan axes with left mouse, zoom with right",
         "arrows",
         "pan"
        ],
        [
         "Zoom",
         "Zoom to rectangle",
         "square-o",
         "zoom"
        ],
        [
         "Download",
         "Download plot",
         "floppy-o",
         "save_figure"
        ]
       ]
      }
     },
     "546800e409f8434ea172d48cb2c08257": {
      "model_module": "jupyter-matplotlib",
      "model_module_version": "^0.7.4",
      "model_name": "ToolbarModel",
      "state": {
       "layout": "IPY_MODEL_899b4b279ace4311ae1537cf20d3dc2d",
       "toolitems": [
        [
         "Home",
         "Reset original view",
         "home",
         "home"
        ],
        [
         "Back",
         "Back to previous view",
         "arrow-left",
         "back"
        ],
        [
         "Forward",
         "Forward to next view",
         "arrow-right",
         "forward"
        ],
        [
         "Pan",
         "Pan axes with left mouse, zoom with right",
         "arrows",
         "pan"
        ],
        [
         "Zoom",
         "Zoom to rectangle",
         "square-o",
         "zoom"
        ],
        [
         "Download",
         "Download plot",
         "floppy-o",
         "save_figure"
        ]
       ]
      }
     },
     "548cb65f638b4d29a7c935646ad58d8f": {
      "model_module": "@jupyter-widgets/base",
      "model_module_version": "1.2.0",
      "model_name": "LayoutModel",
      "state": {}
     },
     "549111e24f544000ad6c5cb67f906a35": {
      "model_module": "@jupyter-widgets/base",
      "model_module_version": "1.2.0",
      "model_name": "LayoutModel",
      "state": {}
     },
     "5735075fdbd94af6a3de31cfed949f0c": {
      "model_module": "jupyter-matplotlib",
      "model_module_version": "^0.7.4",
      "model_name": "MPLCanvasModel",
      "state": {
       "_cursor": "default",
       "_figure_label": "Figure 42",
       "_height": 450,
       "_width": 1214,
       "layout": "IPY_MODEL_e18e5d474f894bf3a21c1f0a1fe52669",
       "toolbar": "IPY_MODEL_5c4263713cfd45d0a5039dee9b49c84e",
       "toolbar_position": "left"
      }
     },
     "576d0a8cf7544b838834842aa4c7b198": {
      "model_module": "@jupyter-widgets/base",
      "model_module_version": "1.2.0",
      "model_name": "LayoutModel",
      "state": {}
     },
     "57cec4762cf146fbb0b78e16889631d4": {
      "model_module": "@jupyter-widgets/base",
      "model_module_version": "1.2.0",
      "model_name": "LayoutModel",
      "state": {}
     },
     "588441a689854eb08e6028f202db8cbf": {
      "model_module": "jupyter-matplotlib",
      "model_module_version": "^0.7.4",
      "model_name": "MPLCanvasModel",
      "state": {
       "_cursor": "default",
       "_figure_label": "Figure 3",
       "_height": 500,
       "_image_mode": "diff",
       "_width": 1314,
       "layout": "IPY_MODEL_c80b81d7f50f479ab0c7a17dd87a6cae",
       "toolbar": "IPY_MODEL_dbd6149eb75e42c490eff093f56c2d09",
       "toolbar_position": "left"
      }
     },
     "594ca7a49f624bbd93a27bd4419a2dcd": {
      "model_module": "@jupyter-widgets/base",
      "model_module_version": "1.2.0",
      "model_name": "LayoutModel",
      "state": {}
     },
     "5952c36d005b45a8805ac216e5a93029": {
      "model_module": "@jupyter-widgets/base",
      "model_module_version": "1.2.0",
      "model_name": "LayoutModel",
      "state": {}
     },
     "5a92d41e6a3e4fe687b71c7a4f06dbe6": {
      "model_module": "@jupyter-widgets/base",
      "model_module_version": "1.2.0",
      "model_name": "LayoutModel",
      "state": {}
     },
     "5b2caf31fffe45878666a2f5a8c4d6c2": {
      "model_module": "@jupyter-widgets/base",
      "model_module_version": "1.2.0",
      "model_name": "LayoutModel",
      "state": {}
     },
     "5b8eb8a76f4b4fc8b1cb023cbfa19916": {
      "model_module": "@jupyter-widgets/base",
      "model_module_version": "1.2.0",
      "model_name": "LayoutModel",
      "state": {}
     },
     "5be1852be69d41aab1d46d0d228809a6": {
      "model_module": "@jupyter-widgets/controls",
      "model_module_version": "1.5.0",
      "model_name": "ProgressStyleModel",
      "state": {
       "description_width": ""
      }
     },
     "5bebbb16b7934bbebf2893193d0aeef5": {
      "model_module": "@jupyter-widgets/base",
      "model_module_version": "1.2.0",
      "model_name": "LayoutModel",
      "state": {}
     },
     "5c4263713cfd45d0a5039dee9b49c84e": {
      "model_module": "jupyter-matplotlib",
      "model_module_version": "^0.7.4",
      "model_name": "ToolbarModel",
      "state": {
       "layout": "IPY_MODEL_49bd1edd8c89476ca853a6aceee88073",
       "toolitems": [
        [
         "Home",
         "Reset original view",
         "home",
         "home"
        ],
        [
         "Back",
         "Back to previous view",
         "arrow-left",
         "back"
        ],
        [
         "Forward",
         "Forward to next view",
         "arrow-right",
         "forward"
        ],
        [
         "Pan",
         "Pan axes with left mouse, zoom with right",
         "arrows",
         "pan"
        ],
        [
         "Zoom",
         "Zoom to rectangle",
         "square-o",
         "zoom"
        ],
        [
         "Download",
         "Download plot",
         "floppy-o",
         "save_figure"
        ]
       ]
      }
     },
     "5cde22be1d104b33b3b30e13b949941c": {
      "model_module": "jupyter-matplotlib",
      "model_module_version": "^0.7.4",
      "model_name": "ToolbarModel",
      "state": {
       "layout": "IPY_MODEL_746443cf29d54692b3074c069a8e4f18",
       "toolitems": [
        [
         "Home",
         "Reset original view",
         "home",
         "home"
        ],
        [
         "Back",
         "Back to previous view",
         "arrow-left",
         "back"
        ],
        [
         "Forward",
         "Forward to next view",
         "arrow-right",
         "forward"
        ],
        [
         "Pan",
         "Pan axes with left mouse, zoom with right",
         "arrows",
         "pan"
        ],
        [
         "Zoom",
         "Zoom to rectangle",
         "square-o",
         "zoom"
        ],
        [
         "Download",
         "Download plot",
         "floppy-o",
         "save_figure"
        ]
       ]
      }
     },
     "5cfa3ea4669048d4b11bba715db225b9": {
      "model_module": "@jupyter-widgets/base",
      "model_module_version": "1.2.0",
      "model_name": "LayoutModel",
      "state": {}
     },
     "5d2c8719812d4069aab254188195c51e": {
      "model_module": "@jupyter-widgets/base",
      "model_module_version": "1.2.0",
      "model_name": "LayoutModel",
      "state": {}
     },
     "5e2661cff1c4486d8e467247927cf298": {
      "model_module": "jupyter-matplotlib",
      "model_module_version": "^0.7.4",
      "model_name": "ToolbarModel",
      "state": {
       "layout": "IPY_MODEL_8d1a7a0248f64e4597d34ee2e2978092",
       "toolitems": [
        [
         "Home",
         "Reset original view",
         "home",
         "home"
        ],
        [
         "Back",
         "Back to previous view",
         "arrow-left",
         "back"
        ],
        [
         "Forward",
         "Forward to next view",
         "arrow-right",
         "forward"
        ],
        [
         "Pan",
         "Pan axes with left mouse, zoom with right",
         "arrows",
         "pan"
        ],
        [
         "Zoom",
         "Zoom to rectangle",
         "square-o",
         "zoom"
        ],
        [
         "Download",
         "Download plot",
         "floppy-o",
         "save_figure"
        ]
       ]
      }
     },
     "5e894196a53b4c608ba0b4c055e47cf6": {
      "model_module": "jupyter-matplotlib",
      "model_module_version": "^0.7.4",
      "model_name": "MPLCanvasModel",
      "state": {
       "_cursor": "default",
       "_figure_label": "Figure 9",
       "_height": 375,
       "_image_mode": "diff",
       "_width": 750,
       "layout": "IPY_MODEL_ed882ee979f14a089b4c96501f8651de",
       "toolbar": "IPY_MODEL_2ec8993d8fb344cda263ab92d9f53b7f",
       "toolbar_position": "left"
      }
     },
     "5f7a7ba680804859ba8e0bec5bbf6403": {
      "model_module": "@jupyter-widgets/base",
      "model_module_version": "1.2.0",
      "model_name": "LayoutModel",
      "state": {}
     },
     "5fa048d4c3dc48ffb7b94c2cfc41bf72": {
      "model_module": "jupyter-matplotlib",
      "model_module_version": "^0.7.4",
      "model_name": "ToolbarModel",
      "state": {
       "layout": "IPY_MODEL_93f34e20a95440f5be3f65ff42694f88",
       "toolitems": [
        [
         "Home",
         "Reset original view",
         "home",
         "home"
        ],
        [
         "Back",
         "Back to previous view",
         "arrow-left",
         "back"
        ],
        [
         "Forward",
         "Forward to next view",
         "arrow-right",
         "forward"
        ],
        [
         "Pan",
         "Pan axes with left mouse, zoom with right",
         "arrows",
         "pan"
        ],
        [
         "Zoom",
         "Zoom to rectangle",
         "square-o",
         "zoom"
        ],
        [
         "Download",
         "Download plot",
         "floppy-o",
         "save_figure"
        ]
       ]
      }
     },
     "5ff6bfd439b5433a9a0247ff3f463c85": {
      "model_module": "@jupyter-widgets/base",
      "model_module_version": "1.2.0",
      "model_name": "LayoutModel",
      "state": {}
     },
     "60187aa79b03486c9cabe317bb8e3e2c": {
      "model_module": "jupyter-matplotlib",
      "model_module_version": "^0.7.4",
      "model_name": "ToolbarModel",
      "state": {
       "layout": "IPY_MODEL_ffb63b8e74f442bf82d6370acc18aa62",
       "toolitems": [
        [
         "Home",
         "Reset original view",
         "home",
         "home"
        ],
        [
         "Back",
         "Back to previous view",
         "arrow-left",
         "back"
        ],
        [
         "Forward",
         "Forward to next view",
         "arrow-right",
         "forward"
        ],
        [
         "Pan",
         "Pan axes with left mouse, zoom with right",
         "arrows",
         "pan"
        ],
        [
         "Zoom",
         "Zoom to rectangle",
         "square-o",
         "zoom"
        ],
        [
         "Download",
         "Download plot",
         "floppy-o",
         "save_figure"
        ]
       ]
      }
     },
     "608e88478fb1461ab42e3c9e6403ec19": {
      "model_module": "@jupyter-widgets/base",
      "model_module_version": "1.2.0",
      "model_name": "LayoutModel",
      "state": {}
     },
     "60a9afc414e44365833997ef48aec352": {
      "model_module": "jupyter-matplotlib",
      "model_module_version": "^0.7.4",
      "model_name": "ToolbarModel",
      "state": {
       "layout": "IPY_MODEL_549111e24f544000ad6c5cb67f906a35",
       "toolitems": [
        [
         "Home",
         "Reset original view",
         "home",
         "home"
        ],
        [
         "Back",
         "Back to previous view",
         "arrow-left",
         "back"
        ],
        [
         "Forward",
         "Forward to next view",
         "arrow-right",
         "forward"
        ],
        [
         "Pan",
         "Pan axes with left mouse, zoom with right",
         "arrows",
         "pan"
        ],
        [
         "Zoom",
         "Zoom to rectangle",
         "square-o",
         "zoom"
        ],
        [
         "Download",
         "Download plot",
         "floppy-o",
         "save_figure"
        ]
       ]
      }
     },
     "60b5bfa8f3ab4acc851bc47ea2c52c23": {
      "model_module": "jupyter-matplotlib",
      "model_module_version": "^0.7.4",
      "model_name": "ToolbarModel",
      "state": {
       "layout": "IPY_MODEL_b336b122d78f4083a0232accae5ba373",
       "toolitems": [
        [
         "Home",
         "Reset original view",
         "home",
         "home"
        ],
        [
         "Back",
         "Back to previous view",
         "arrow-left",
         "back"
        ],
        [
         "Forward",
         "Forward to next view",
         "arrow-right",
         "forward"
        ],
        [
         "Pan",
         "Pan axes with left mouse, zoom with right",
         "arrows",
         "pan"
        ],
        [
         "Zoom",
         "Zoom to rectangle",
         "square-o",
         "zoom"
        ],
        [
         "Download",
         "Download plot",
         "floppy-o",
         "save_figure"
        ]
       ]
      }
     },
     "60d79bed5e8641ceb1ff36a038a94e40": {
      "model_module": "jupyter-matplotlib",
      "model_module_version": "^0.7.4",
      "model_name": "MPLCanvasModel",
      "state": {
       "_cursor": "default",
       "_figure_label": "Figure 28",
       "_height": 450,
       "_image_mode": "diff",
       "_width": 1214,
       "layout": "IPY_MODEL_82715b3ad92b4e71890606b73b40dd01",
       "toolbar": "IPY_MODEL_6b9d07c4c0b44618a996c522db286ad7",
       "toolbar_position": "left"
      }
     },
     "612f1ff21bc94979aaea4f92d620503c": {
      "model_module": "@jupyter-widgets/base",
      "model_module_version": "1.2.0",
      "model_name": "LayoutModel",
      "state": {}
     },
     "61325b44827242afb88f7cef2d68b9fb": {
      "model_module": "@jupyter-widgets/base",
      "model_module_version": "1.2.0",
      "model_name": "LayoutModel",
      "state": {}
     },
     "61f860366f3b4ea99255448b2e8fe4bf": {
      "model_module": "jupyter-matplotlib",
      "model_module_version": "^0.7.4",
      "model_name": "ToolbarModel",
      "state": {
       "layout": "IPY_MODEL_77b2ff36aa7648c49fccd8ca892ac6c6",
       "toolitems": [
        [
         "Home",
         "Reset original view",
         "home",
         "home"
        ],
        [
         "Back",
         "Back to previous view",
         "arrow-left",
         "back"
        ],
        [
         "Forward",
         "Forward to next view",
         "arrow-right",
         "forward"
        ],
        [
         "Pan",
         "Pan axes with left mouse, zoom with right",
         "arrows",
         "pan"
        ],
        [
         "Zoom",
         "Zoom to rectangle",
         "square-o",
         "zoom"
        ],
        [
         "Download",
         "Download plot",
         "floppy-o",
         "save_figure"
        ]
       ]
      }
     },
     "61fd510b78684eeea53b5387b370090e": {
      "model_module": "@jupyter-widgets/base",
      "model_module_version": "1.2.0",
      "model_name": "LayoutModel",
      "state": {}
     },
     "625b7040c2c44a1a9221ec4489fb8a1d": {
      "model_module": "@jupyter-widgets/base",
      "model_module_version": "1.2.0",
      "model_name": "LayoutModel",
      "state": {}
     },
     "6272d9838d7940b2be28b6913cfe5f5b": {
      "model_module": "jupyter-matplotlib",
      "model_module_version": "^0.7.4",
      "model_name": "MPLCanvasModel",
      "state": {
       "_cursor": "default",
       "_figure_label": "Figure 35",
       "_height": 450,
       "_width": 1214,
       "layout": "IPY_MODEL_f3d3cbd544704464bf46123141d8578f",
       "toolbar": "IPY_MODEL_53c8b71efec04ff0bd3904381f7a71fa",
       "toolbar_position": "left"
      }
     },
     "629a5d1c5cc44bfab42eb83b2ae2b2ed": {
      "model_module": "@jupyter-widgets/base",
      "model_module_version": "1.2.0",
      "model_name": "LayoutModel",
      "state": {}
     },
     "62de836e2fe84ee3ac0ae6ec98bff80e": {
      "model_module": "@jupyter-widgets/base",
      "model_module_version": "1.2.0",
      "model_name": "LayoutModel",
      "state": {}
     },
     "63e6cca146574792890b437674bf55a1": {
      "model_module": "@jupyter-widgets/base",
      "model_module_version": "1.2.0",
      "model_name": "LayoutModel",
      "state": {}
     },
     "649bec86a36e47c39bbfd5b555c00f71": {
      "model_module": "@jupyter-widgets/base",
      "model_module_version": "1.2.0",
      "model_name": "LayoutModel",
      "state": {}
     },
     "66abb7a1b52d4f66bfe355facc7c431d": {
      "model_module": "jupyter-matplotlib",
      "model_module_version": "^0.7.4",
      "model_name": "ToolbarModel",
      "state": {
       "layout": "IPY_MODEL_418d2091ef7d4b89a4c73411c41a33c8",
       "toolitems": [
        [
         "Home",
         "Reset original view",
         "home",
         "home"
        ],
        [
         "Back",
         "Back to previous view",
         "arrow-left",
         "back"
        ],
        [
         "Forward",
         "Forward to next view",
         "arrow-right",
         "forward"
        ],
        [
         "Pan",
         "Pan axes with left mouse, zoom with right",
         "arrows",
         "pan"
        ],
        [
         "Zoom",
         "Zoom to rectangle",
         "square-o",
         "zoom"
        ],
        [
         "Download",
         "Download plot",
         "floppy-o",
         "save_figure"
        ]
       ]
      }
     },
     "679be84cc2e34285b0b20cf510cec202": {
      "model_module": "jupyter-matplotlib",
      "model_module_version": "^0.7.4",
      "model_name": "MPLCanvasModel",
      "state": {
       "_cursor": "default",
       "_figure_label": "Figure 15",
       "_height": 500,
       "_width": 766,
       "layout": "IPY_MODEL_7d0d37cc55804583aa105c3aff45f367",
       "toolbar": "IPY_MODEL_fcbac9e435334fe9a947e8a2c235a576",
       "toolbar_position": "left"
      }
     },
     "67b741c82e104082a3385d42e2d41b33": {
      "model_module": "@jupyter-widgets/base",
      "model_module_version": "1.2.0",
      "model_name": "LayoutModel",
      "state": {}
     },
     "686e93d5b8f14b0c89633d29bd3a8b32": {
      "model_module": "@jupyter-widgets/base",
      "model_module_version": "1.2.0",
      "model_name": "LayoutModel",
      "state": {}
     },
     "68bef7dfbe3d4be68ca82eaccbf778ab": {
      "model_module": "@jupyter-widgets/base",
      "model_module_version": "1.2.0",
      "model_name": "LayoutModel",
      "state": {}
     },
     "6a03e09a60ca454c96b00a05472f8485": {
      "model_module": "@jupyter-widgets/base",
      "model_module_version": "1.2.0",
      "model_name": "LayoutModel",
      "state": {}
     },
     "6a34c0c3bfc941c49c3f528949b61c88": {
      "model_module": "@jupyter-widgets/base",
      "model_module_version": "1.2.0",
      "model_name": "LayoutModel",
      "state": {}
     },
     "6b9d07c4c0b44618a996c522db286ad7": {
      "model_module": "jupyter-matplotlib",
      "model_module_version": "^0.7.4",
      "model_name": "ToolbarModel",
      "state": {
       "layout": "IPY_MODEL_4eed55dba3694af29fa9f122386e2915",
       "toolitems": [
        [
         "Home",
         "Reset original view",
         "home",
         "home"
        ],
        [
         "Back",
         "Back to previous view",
         "arrow-left",
         "back"
        ],
        [
         "Forward",
         "Forward to next view",
         "arrow-right",
         "forward"
        ],
        [
         "Pan",
         "Pan axes with left mouse, zoom with right",
         "arrows",
         "pan"
        ],
        [
         "Zoom",
         "Zoom to rectangle",
         "square-o",
         "zoom"
        ],
        [
         "Download",
         "Download plot",
         "floppy-o",
         "save_figure"
        ]
       ]
      }
     },
     "6be6cd7a07a242049a9974a8acde27fc": {
      "model_module": "@jupyter-widgets/base",
      "model_module_version": "1.2.0",
      "model_name": "LayoutModel",
      "state": {}
     },
     "6c6a382ed4584ed99e4f5b8b09bf405f": {
      "model_module": "jupyter-matplotlib",
      "model_module_version": "^0.7.4",
      "model_name": "ToolbarModel",
      "state": {
       "layout": "IPY_MODEL_a29f2bfd62314a47bb3052af3eb24fa6",
       "toolitems": [
        [
         "Home",
         "Reset original view",
         "home",
         "home"
        ],
        [
         "Back",
         "Back to previous view",
         "arrow-left",
         "back"
        ],
        [
         "Forward",
         "Forward to next view",
         "arrow-right",
         "forward"
        ],
        [
         "Pan",
         "Pan axes with left mouse, zoom with right",
         "arrows",
         "pan"
        ],
        [
         "Zoom",
         "Zoom to rectangle",
         "square-o",
         "zoom"
        ],
        [
         "Download",
         "Download plot",
         "floppy-o",
         "save_figure"
        ]
       ]
      }
     },
     "6c9e261fccba4b90a29a957d4091c3b9": {
      "model_module": "@jupyter-widgets/base",
      "model_module_version": "1.2.0",
      "model_name": "LayoutModel",
      "state": {}
     },
     "6d6e9c5f39534bd58d7c291ffb47bfa9": {
      "model_module": "jupyter-matplotlib",
      "model_module_version": "^0.7.4",
      "model_name": "ToolbarModel",
      "state": {
       "layout": "IPY_MODEL_00fb07bce29a4b2e92dcb87b33fb2212",
       "toolitems": [
        [
         "Home",
         "Reset original view",
         "home",
         "home"
        ],
        [
         "Back",
         "Back to previous view",
         "arrow-left",
         "back"
        ],
        [
         "Forward",
         "Forward to next view",
         "arrow-right",
         "forward"
        ],
        [
         "Pan",
         "Pan axes with left mouse, zoom with right",
         "arrows",
         "pan"
        ],
        [
         "Zoom",
         "Zoom to rectangle",
         "square-o",
         "zoom"
        ],
        [
         "Download",
         "Download plot",
         "floppy-o",
         "save_figure"
        ]
       ]
      }
     },
     "6daabe96d0bb4fac9df4b4e67426512b": {
      "model_module": "@jupyter-widgets/base",
      "model_module_version": "1.2.0",
      "model_name": "LayoutModel",
      "state": {}
     },
     "6df75be6affe498a91a8d959341f7ef6": {
      "model_module": "jupyter-matplotlib",
      "model_module_version": "^0.7.4",
      "model_name": "MPLCanvasModel",
      "state": {
       "_cursor": "default",
       "_figure_label": "Figure 2",
       "_height": 500,
       "_image_mode": "diff",
       "_width": 1000,
       "layout": "IPY_MODEL_6e8224b861814a64a1cc0da59833200c",
       "toolbar": "IPY_MODEL_7c21b1a48cc84b0cbd55a92340e41598",
       "toolbar_position": "left"
      }
     },
     "6e5fcf2914f5492f9874eae5c79d9135": {
      "model_module": "jupyter-matplotlib",
      "model_module_version": "^0.7.4",
      "model_name": "ToolbarModel",
      "state": {
       "layout": "IPY_MODEL_15a938fa35a546d78901556591830e41",
       "toolitems": [
        [
         "Home",
         "Reset original view",
         "home",
         "home"
        ],
        [
         "Back",
         "Back to previous view",
         "arrow-left",
         "back"
        ],
        [
         "Forward",
         "Forward to next view",
         "arrow-right",
         "forward"
        ],
        [
         "Pan",
         "Pan axes with left mouse, zoom with right",
         "arrows",
         "pan"
        ],
        [
         "Zoom",
         "Zoom to rectangle",
         "square-o",
         "zoom"
        ],
        [
         "Download",
         "Download plot",
         "floppy-o",
         "save_figure"
        ]
       ]
      }
     },
     "6e6d0e0c3f0d44a1931c664ef9f82cbc": {
      "model_module": "jupyter-matplotlib",
      "model_module_version": "^0.7.4",
      "model_name": "MPLCanvasModel",
      "state": {
       "_cursor": "default",
       "_figure_label": "Figure 5",
       "_height": 500,
       "_image_mode": "diff",
       "_width": 1000,
       "layout": "IPY_MODEL_f5a9256bf25f4cb2917549435d5aafb1",
       "toolbar": "IPY_MODEL_347debb75d2b4ef2a4137732ed92a4d3",
       "toolbar_position": "left"
      }
     },
     "6e8224b861814a64a1cc0da59833200c": {
      "model_module": "@jupyter-widgets/base",
      "model_module_version": "1.2.0",
      "model_name": "LayoutModel",
      "state": {}
     },
     "7204112fbb634628a8cb6594fd59dbba": {
      "model_module": "@jupyter-widgets/base",
      "model_module_version": "1.2.0",
      "model_name": "LayoutModel",
      "state": {}
     },
     "72068f5133af4bf6a59da5a7027fec25": {
      "model_module": "@jupyter-widgets/base",
      "model_module_version": "1.2.0",
      "model_name": "LayoutModel",
      "state": {}
     },
     "72a4ce8777724ea0ad1d840240ca70fb": {
      "model_module": "@jupyter-widgets/base",
      "model_module_version": "1.2.0",
      "model_name": "LayoutModel",
      "state": {}
     },
     "7307df97666f4e9b88bf347476c6aeb9": {
      "model_module": "jupyter-matplotlib",
      "model_module_version": "^0.7.4",
      "model_name": "ToolbarModel",
      "state": {
       "layout": "IPY_MODEL_67b741c82e104082a3385d42e2d41b33",
       "toolitems": [
        [
         "Home",
         "Reset original view",
         "home",
         "home"
        ],
        [
         "Back",
         "Back to previous view",
         "arrow-left",
         "back"
        ],
        [
         "Forward",
         "Forward to next view",
         "arrow-right",
         "forward"
        ],
        [
         "Pan",
         "Pan axes with left mouse, zoom with right",
         "arrows",
         "pan"
        ],
        [
         "Zoom",
         "Zoom to rectangle",
         "square-o",
         "zoom"
        ],
        [
         "Download",
         "Download plot",
         "floppy-o",
         "save_figure"
        ]
       ]
      }
     },
     "73320ca6601847d48a40bea4a4ede1e3": {
      "model_module": "jupyter-matplotlib",
      "model_module_version": "^0.7.4",
      "model_name": "ToolbarModel",
      "state": {
       "layout": "IPY_MODEL_5d2c8719812d4069aab254188195c51e",
       "toolitems": [
        [
         "Home",
         "Reset original view",
         "home",
         "home"
        ],
        [
         "Back",
         "Back to previous view",
         "arrow-left",
         "back"
        ],
        [
         "Forward",
         "Forward to next view",
         "arrow-right",
         "forward"
        ],
        [
         "Pan",
         "Pan axes with left mouse, zoom with right",
         "arrows",
         "pan"
        ],
        [
         "Zoom",
         "Zoom to rectangle",
         "square-o",
         "zoom"
        ],
        [
         "Download",
         "Download plot",
         "floppy-o",
         "save_figure"
        ]
       ]
      }
     },
     "734b764ad62a428d9c43e978614c0eac": {
      "model_module": "@jupyter-widgets/base",
      "model_module_version": "1.2.0",
      "model_name": "LayoutModel",
      "state": {}
     },
     "7393a020d024425aa61fdec1a3ff857f": {
      "model_module": "@jupyter-widgets/base",
      "model_module_version": "1.2.0",
      "model_name": "LayoutModel",
      "state": {}
     },
     "7410926aa95f4ecdb7b0e5df0c1a9334": {
      "model_module": "@jupyter-widgets/base",
      "model_module_version": "1.2.0",
      "model_name": "LayoutModel",
      "state": {}
     },
     "746443cf29d54692b3074c069a8e4f18": {
      "model_module": "@jupyter-widgets/base",
      "model_module_version": "1.2.0",
      "model_name": "LayoutModel",
      "state": {}
     },
     "7486d550ee5d48c2b8cb40edb875d86d": {
      "model_module": "@jupyter-widgets/base",
      "model_module_version": "1.2.0",
      "model_name": "LayoutModel",
      "state": {}
     },
     "75619783a78b46ff926d3790cfc6df37": {
      "model_module": "jupyter-matplotlib",
      "model_module_version": "^0.7.4",
      "model_name": "ToolbarModel",
      "state": {
       "layout": "IPY_MODEL_4e72b94b1129481aacfd60eeae48739d",
       "toolitems": [
        [
         "Home",
         "Reset original view",
         "home",
         "home"
        ],
        [
         "Back",
         "Back to previous view",
         "arrow-left",
         "back"
        ],
        [
         "Forward",
         "Forward to next view",
         "arrow-right",
         "forward"
        ],
        [
         "Pan",
         "Pan axes with left mouse, zoom with right",
         "arrows",
         "pan"
        ],
        [
         "Zoom",
         "Zoom to rectangle",
         "square-o",
         "zoom"
        ],
        [
         "Download",
         "Download plot",
         "floppy-o",
         "save_figure"
        ]
       ]
      }
     },
     "75bec856e8514fcd94e074af30e0806f": {
      "model_module": "@jupyter-widgets/base",
      "model_module_version": "1.2.0",
      "model_name": "LayoutModel",
      "state": {}
     },
     "7611d3bc101e442a9978a19d710d0c13": {
      "model_module": "jupyter-matplotlib",
      "model_module_version": "^0.7.4",
      "model_name": "ToolbarModel",
      "state": {
       "layout": "IPY_MODEL_ab045b1a162d44ae9b47c7dbeb8cfae3",
       "toolitems": [
        [
         "Home",
         "Reset original view",
         "home",
         "home"
        ],
        [
         "Back",
         "Back to previous view",
         "arrow-left",
         "back"
        ],
        [
         "Forward",
         "Forward to next view",
         "arrow-right",
         "forward"
        ],
        [
         "Pan",
         "Pan axes with left mouse, zoom with right",
         "arrows",
         "pan"
        ],
        [
         "Zoom",
         "Zoom to rectangle",
         "square-o",
         "zoom"
        ],
        [
         "Download",
         "Download plot",
         "floppy-o",
         "save_figure"
        ]
       ]
      }
     },
     "763654f75b89492ebacb181a2a6bd4ca": {
      "model_module": "jupyter-matplotlib",
      "model_module_version": "^0.7.4",
      "model_name": "ToolbarModel",
      "state": {
       "layout": "IPY_MODEL_a88177a6fc114af7bcb9445055b0c2bb",
       "toolitems": [
        [
         "Home",
         "Reset original view",
         "home",
         "home"
        ],
        [
         "Back",
         "Back to previous view",
         "arrow-left",
         "back"
        ],
        [
         "Forward",
         "Forward to next view",
         "arrow-right",
         "forward"
        ],
        [
         "Pan",
         "Pan axes with left mouse, zoom with right",
         "arrows",
         "pan"
        ],
        [
         "Zoom",
         "Zoom to rectangle",
         "square-o",
         "zoom"
        ],
        [
         "Download",
         "Download plot",
         "floppy-o",
         "save_figure"
        ]
       ]
      }
     },
     "768ca435a44b4b538ef594426fd57184": {
      "model_module": "@jupyter-widgets/base",
      "model_module_version": "1.2.0",
      "model_name": "LayoutModel",
      "state": {}
     },
     "768dbd1c8a3c4cee91c0691fa34929a9": {
      "model_module": "@jupyter-widgets/base",
      "model_module_version": "1.2.0",
      "model_name": "LayoutModel",
      "state": {}
     },
     "76dbd5c830fa4dbc9dfe0ccd932098b5": {
      "model_module": "@jupyter-widgets/base",
      "model_module_version": "1.2.0",
      "model_name": "LayoutModel",
      "state": {}
     },
     "77b2ff36aa7648c49fccd8ca892ac6c6": {
      "model_module": "@jupyter-widgets/base",
      "model_module_version": "1.2.0",
      "model_name": "LayoutModel",
      "state": {}
     },
     "77ded7098bc5407ab479957a1492dd4f": {
      "model_module": "@jupyter-widgets/base",
      "model_module_version": "1.2.0",
      "model_name": "LayoutModel",
      "state": {}
     },
     "784bea1165e946bbb507f6491af53f9f": {
      "model_module": "jupyter-matplotlib",
      "model_module_version": "^0.7.4",
      "model_name": "MPLCanvasModel",
      "state": {
       "_cursor": "default",
       "_figure_label": "Figure 31",
       "_height": 450,
       "_image_mode": "diff",
       "_message": "zoom rect",
       "_rubberband_y": 450,
       "_width": 1214,
       "layout": "IPY_MODEL_8b3a2c257d3a4cdeb04d577eebbe0a22",
       "toolbar": "IPY_MODEL_40fd50bd21e74b7c8640ea31371953f7",
       "toolbar_position": "left"
      }
     },
     "78aee9785084424cb9aaa63357bac9a7": {
      "model_module": "jupyter-matplotlib",
      "model_module_version": "^0.7.4",
      "model_name": "ToolbarModel",
      "state": {
       "layout": "IPY_MODEL_df483632fd4d421c87c2823caf55cf0d",
       "toolitems": [
        [
         "Home",
         "Reset original view",
         "home",
         "home"
        ],
        [
         "Back",
         "Back to previous view",
         "arrow-left",
         "back"
        ],
        [
         "Forward",
         "Forward to next view",
         "arrow-right",
         "forward"
        ],
        [
         "Pan",
         "Pan axes with left mouse, zoom with right",
         "arrows",
         "pan"
        ],
        [
         "Zoom",
         "Zoom to rectangle",
         "square-o",
         "zoom"
        ],
        [
         "Download",
         "Download plot",
         "floppy-o",
         "save_figure"
        ]
       ]
      }
     },
     "78eb2aebc1244774b7c423df624538af": {
      "model_module": "@jupyter-widgets/base",
      "model_module_version": "1.2.0",
      "model_name": "LayoutModel",
      "state": {}
     },
     "78fa1df20d5447e9975d8663dbb5e6cf": {
      "model_module": "@jupyter-widgets/base",
      "model_module_version": "1.2.0",
      "model_name": "LayoutModel",
      "state": {}
     },
     "7a7e478b3f3849e3a32b022417163da0": {
      "model_module": "jupyter-matplotlib",
      "model_module_version": "^0.7.4",
      "model_name": "ToolbarModel",
      "state": {
       "layout": "IPY_MODEL_1a0bcc249626410b97a88994722ff837",
       "toolitems": [
        [
         "Home",
         "Reset original view",
         "home",
         "home"
        ],
        [
         "Back",
         "Back to previous view",
         "arrow-left",
         "back"
        ],
        [
         "Forward",
         "Forward to next view",
         "arrow-right",
         "forward"
        ],
        [
         "Pan",
         "Pan axes with left mouse, zoom with right",
         "arrows",
         "pan"
        ],
        [
         "Zoom",
         "Zoom to rectangle",
         "square-o",
         "zoom"
        ],
        [
         "Download",
         "Download plot",
         "floppy-o",
         "save_figure"
        ]
       ]
      }
     },
     "7a995b91a7e04b3e8c8fb610af37ad1f": {
      "model_module": "jupyter-matplotlib",
      "model_module_version": "^0.7.4",
      "model_name": "ToolbarModel",
      "state": {
       "layout": "IPY_MODEL_238b9e8011624eb7867005902fe9f46a",
       "toolitems": [
        [
         "Home",
         "Reset original view",
         "home",
         "home"
        ],
        [
         "Back",
         "Back to previous view",
         "arrow-left",
         "back"
        ],
        [
         "Forward",
         "Forward to next view",
         "arrow-right",
         "forward"
        ],
        [
         "Pan",
         "Pan axes with left mouse, zoom with right",
         "arrows",
         "pan"
        ],
        [
         "Zoom",
         "Zoom to rectangle",
         "square-o",
         "zoom"
        ],
        [
         "Download",
         "Download plot",
         "floppy-o",
         "save_figure"
        ]
       ]
      }
     },
     "7b8a84d5b5484bf0909ea36b4d5f46a0": {
      "model_module": "@jupyter-widgets/base",
      "model_module_version": "1.2.0",
      "model_name": "LayoutModel",
      "state": {}
     },
     "7bb4e9f65c1b4b3894edaa26cfd679de": {
      "model_module": "@jupyter-widgets/base",
      "model_module_version": "1.2.0",
      "model_name": "LayoutModel",
      "state": {}
     },
     "7c21b1a48cc84b0cbd55a92340e41598": {
      "model_module": "jupyter-matplotlib",
      "model_module_version": "^0.7.4",
      "model_name": "ToolbarModel",
      "state": {
       "layout": "IPY_MODEL_c80b58d6c92d420fbac82a7d7b988174",
       "toolitems": [
        [
         "Home",
         "Reset original view",
         "home",
         "home"
        ],
        [
         "Back",
         "Back to previous view",
         "arrow-left",
         "back"
        ],
        [
         "Forward",
         "Forward to next view",
         "arrow-right",
         "forward"
        ],
        [
         "Pan",
         "Pan axes with left mouse, zoom with right",
         "arrows",
         "pan"
        ],
        [
         "Zoom",
         "Zoom to rectangle",
         "square-o",
         "zoom"
        ],
        [
         "Download",
         "Download plot",
         "floppy-o",
         "save_figure"
        ]
       ]
      }
     },
     "7c875dff95c047eca8f90494fd4b0563": {
      "model_module": "@jupyter-widgets/base",
      "model_module_version": "1.2.0",
      "model_name": "LayoutModel",
      "state": {}
     },
     "7cd7bc3ab3394f8eb7915fcb8e77a76f": {
      "model_module": "jupyter-matplotlib",
      "model_module_version": "^0.7.4",
      "model_name": "MPLCanvasModel",
      "state": {
       "_cursor": "default",
       "_figure_label": "Figure 13",
       "_height": 375,
       "_image_mode": "diff",
       "_message": "x=71.007       y=-0.0264726  ",
       "_width": 1125,
       "layout": "IPY_MODEL_aaed49e860d44aa4afa188b1473bf4d4",
       "toolbar": "IPY_MODEL_8baa26df192d4a098dd0dd8806632647",
       "toolbar_position": "left"
      }
     },
     "7cdd98b04b4845d79dae431445c742c0": {
      "model_module": "jupyter-matplotlib",
      "model_module_version": "^0.7.4",
      "model_name": "ToolbarModel",
      "state": {
       "layout": "IPY_MODEL_d644847c1d34468daa6b4ba8529ecae9",
       "toolitems": [
        [
         "Home",
         "Reset original view",
         "home",
         "home"
        ],
        [
         "Back",
         "Back to previous view",
         "arrow-left",
         "back"
        ],
        [
         "Forward",
         "Forward to next view",
         "arrow-right",
         "forward"
        ],
        [
         "Pan",
         "Pan axes with left mouse, zoom with right",
         "arrows",
         "pan"
        ],
        [
         "Zoom",
         "Zoom to rectangle",
         "square-o",
         "zoom"
        ],
        [
         "Download",
         "Download plot",
         "floppy-o",
         "save_figure"
        ]
       ]
      }
     },
     "7d0d37cc55804583aa105c3aff45f367": {
      "model_module": "@jupyter-widgets/base",
      "model_module_version": "1.2.0",
      "model_name": "LayoutModel",
      "state": {}
     },
     "7d5c64322dd3422cb2d5b557f5645a62": {
      "model_module": "@jupyter-widgets/base",
      "model_module_version": "1.2.0",
      "model_name": "LayoutModel",
      "state": {}
     },
     "7d6ef0436b584bd1a2b5b54587032ddc": {
      "model_module": "jupyter-matplotlib",
      "model_module_version": "^0.7.4",
      "model_name": "MPLCanvasModel",
      "state": {
       "_cursor": "default",
       "_figure_label": "Figure 8",
       "_height": 450,
       "_image_mode": "diff",
       "_message": "t = 2019-07-26  y = 1983.188292",
       "_width": 450,
       "layout": "IPY_MODEL_92a94c8967024d21bd8523b7f3db1efd",
       "toolbar": "IPY_MODEL_401ef9dd0d9c4a6cadae7c8535450ce1",
       "toolbar_position": "left"
      }
     },
     "7e53db94f2374f41b7d42069a9636c9a": {
      "model_module": "@jupyter-widgets/base",
      "model_module_version": "1.2.0",
      "model_name": "LayoutModel",
      "state": {}
     },
     "7fe8a30316c14129946e8ba3c69732ce": {
      "model_module": "jupyter-matplotlib",
      "model_module_version": "^0.7.4",
      "model_name": "MPLCanvasModel",
      "state": {
       "_cursor": "default",
       "_figure_label": "Figure 57",
       "_height": 450,
       "_image_mode": "diff",
       "_width": 900,
       "layout": "IPY_MODEL_adfd137b974a47838837971b6aa839f5",
       "toolbar": "IPY_MODEL_763654f75b89492ebacb181a2a6bd4ca",
       "toolbar_position": "left"
      }
     },
     "825ea4728f3242cfa7a42eca5af243a8": {
      "model_module": "@jupyter-widgets/base",
      "model_module_version": "1.2.0",
      "model_name": "LayoutModel",
      "state": {}
     },
     "82715b3ad92b4e71890606b73b40dd01": {
      "model_module": "@jupyter-widgets/base",
      "model_module_version": "1.2.0",
      "model_name": "LayoutModel",
      "state": {}
     },
     "83311cb7fc944b85b817365dfb89d64d": {
      "model_module": "@jupyter-widgets/base",
      "model_module_version": "1.2.0",
      "model_name": "LayoutModel",
      "state": {}
     },
     "83dce38622af4543ba36c9714fa0d470": {
      "model_module": "jupyter-matplotlib",
      "model_module_version": "^0.7.4",
      "model_name": "ToolbarModel",
      "state": {
       "layout": "IPY_MODEL_649bec86a36e47c39bbfd5b555c00f71",
       "toolitems": [
        [
         "Home",
         "Reset original view",
         "home",
         "home"
        ],
        [
         "Back",
         "Back to previous view",
         "arrow-left",
         "back"
        ],
        [
         "Forward",
         "Forward to next view",
         "arrow-right",
         "forward"
        ],
        [
         "Pan",
         "Pan axes with left mouse, zoom with right",
         "arrows",
         "pan"
        ],
        [
         "Zoom",
         "Zoom to rectangle",
         "square-o",
         "zoom"
        ],
        [
         "Download",
         "Download plot",
         "floppy-o",
         "save_figure"
        ]
       ]
      }
     },
     "84639cf7f8af41f5be7a2e7edd61e854": {
      "model_module": "jupyter-matplotlib",
      "model_module_version": "^0.7.4",
      "model_name": "ToolbarModel",
      "state": {
       "layout": "IPY_MODEL_629a5d1c5cc44bfab42eb83b2ae2b2ed",
       "toolitems": [
        [
         "Home",
         "Reset original view",
         "home",
         "home"
        ],
        [
         "Back",
         "Back to previous view",
         "arrow-left",
         "back"
        ],
        [
         "Forward",
         "Forward to next view",
         "arrow-right",
         "forward"
        ],
        [
         "Pan",
         "Pan axes with left mouse, zoom with right",
         "arrows",
         "pan"
        ],
        [
         "Zoom",
         "Zoom to rectangle",
         "square-o",
         "zoom"
        ],
        [
         "Download",
         "Download plot",
         "floppy-o",
         "save_figure"
        ]
       ]
      }
     },
     "84df4e484bed4ae09c1577a3a51616e6": {
      "model_module": "@jupyter-widgets/base",
      "model_module_version": "1.2.0",
      "model_name": "LayoutModel",
      "state": {}
     },
     "86d0465f8de04378859a3139bf84c801": {
      "model_module": "@jupyter-widgets/base",
      "model_module_version": "1.2.0",
      "model_name": "LayoutModel",
      "state": {}
     },
     "86ef610020de49ed8c6103bc47e7468f": {
      "model_module": "@jupyter-widgets/base",
      "model_module_version": "1.2.0",
      "model_name": "LayoutModel",
      "state": {}
     },
     "870145a0aef94f56a8b02ef85ff1d83e": {
      "model_module": "jupyter-matplotlib",
      "model_module_version": "^0.7.4",
      "model_name": "ToolbarModel",
      "state": {
       "layout": "IPY_MODEL_72a4ce8777724ea0ad1d840240ca70fb",
       "toolitems": [
        [
         "Home",
         "Reset original view",
         "home",
         "home"
        ],
        [
         "Back",
         "Back to previous view",
         "arrow-left",
         "back"
        ],
        [
         "Forward",
         "Forward to next view",
         "arrow-right",
         "forward"
        ],
        [
         "Pan",
         "Pan axes with left mouse, zoom with right",
         "arrows",
         "pan"
        ],
        [
         "Zoom",
         "Zoom to rectangle",
         "square-o",
         "zoom"
        ],
        [
         "Download",
         "Download plot",
         "floppy-o",
         "save_figure"
        ]
       ]
      }
     },
     "8749166e42854bbaaa18b6e7d2cc2ffd": {
      "model_module": "@jupyter-widgets/base",
      "model_module_version": "1.2.0",
      "model_name": "LayoutModel",
      "state": {}
     },
     "880df523c9e84463992c915132da052c": {
      "model_module": "jupyter-matplotlib",
      "model_module_version": "^0.7.4",
      "model_name": "ToolbarModel",
      "state": {
       "layout": "IPY_MODEL_1add80086bc94ef4a59ebb4ec20d89cc",
       "toolitems": [
        [
         "Home",
         "Reset original view",
         "home",
         "home"
        ],
        [
         "Back",
         "Back to previous view",
         "arrow-left",
         "back"
        ],
        [
         "Forward",
         "Forward to next view",
         "arrow-right",
         "forward"
        ],
        [
         "Pan",
         "Pan axes with left mouse, zoom with right",
         "arrows",
         "pan"
        ],
        [
         "Zoom",
         "Zoom to rectangle",
         "square-o",
         "zoom"
        ],
        [
         "Download",
         "Download plot",
         "floppy-o",
         "save_figure"
        ]
       ]
      }
     },
     "899b4b279ace4311ae1537cf20d3dc2d": {
      "model_module": "@jupyter-widgets/base",
      "model_module_version": "1.2.0",
      "model_name": "LayoutModel",
      "state": {}
     },
     "89a897cac6e3421ca00a2b142dfc38a0": {
      "model_module": "jupyter-matplotlib",
      "model_module_version": "^0.7.4",
      "model_name": "ToolbarModel",
      "state": {
       "layout": "IPY_MODEL_a9088bc4a2e746e7bdd85e4615855534",
       "toolitems": [
        [
         "Home",
         "Reset original view",
         "home",
         "home"
        ],
        [
         "Back",
         "Back to previous view",
         "arrow-left",
         "back"
        ],
        [
         "Forward",
         "Forward to next view",
         "arrow-right",
         "forward"
        ],
        [
         "Pan",
         "Pan axes with left mouse, zoom with right",
         "arrows",
         "pan"
        ],
        [
         "Zoom",
         "Zoom to rectangle",
         "square-o",
         "zoom"
        ],
        [
         "Download",
         "Download plot",
         "floppy-o",
         "save_figure"
        ]
       ]
      }
     },
     "89ada89c72924214ad2f72310fc890ef": {
      "model_module": "@jupyter-widgets/controls",
      "model_module_version": "1.5.0",
      "model_name": "FloatProgressModel",
      "state": {
       "bar_style": "danger",
       "layout": "IPY_MODEL_2891deecda774e3d8773f4ff1708f2a1",
       "max": 27,
       "style": "IPY_MODEL_5be1852be69d41aab1d46d0d228809a6",
       "value": 3
      }
     },
     "89d15c4e6b3742f48d98f6703e9bd4ef": {
      "model_module": "jupyter-matplotlib",
      "model_module_version": "^0.7.4",
      "model_name": "ToolbarModel",
      "state": {
       "layout": "IPY_MODEL_3de9104d8b2e43f189ce624e29b3a740",
       "toolitems": [
        [
         "Home",
         "Reset original view",
         "home",
         "home"
        ],
        [
         "Back",
         "Back to previous view",
         "arrow-left",
         "back"
        ],
        [
         "Forward",
         "Forward to next view",
         "arrow-right",
         "forward"
        ],
        [
         "Pan",
         "Pan axes with left mouse, zoom with right",
         "arrows",
         "pan"
        ],
        [
         "Zoom",
         "Zoom to rectangle",
         "square-o",
         "zoom"
        ],
        [
         "Download",
         "Download plot",
         "floppy-o",
         "save_figure"
        ]
       ]
      }
     },
     "8ae1b0f2e49847238e6cde2a85abecac": {
      "model_module": "jupyter-matplotlib",
      "model_module_version": "^0.7.4",
      "model_name": "ToolbarModel",
      "state": {
       "layout": "IPY_MODEL_734b764ad62a428d9c43e978614c0eac",
       "toolitems": [
        [
         "Home",
         "Reset original view",
         "home",
         "home"
        ],
        [
         "Back",
         "Back to previous view",
         "arrow-left",
         "back"
        ],
        [
         "Forward",
         "Forward to next view",
         "arrow-right",
         "forward"
        ],
        [
         "Pan",
         "Pan axes with left mouse, zoom with right",
         "arrows",
         "pan"
        ],
        [
         "Zoom",
         "Zoom to rectangle",
         "square-o",
         "zoom"
        ],
        [
         "Download",
         "Download plot",
         "floppy-o",
         "save_figure"
        ]
       ]
      }
     },
     "8ae48123f2d74b80961b742244c9b9ab": {
      "model_module": "jupyter-matplotlib",
      "model_module_version": "^0.7.4",
      "model_name": "ToolbarModel",
      "state": {
       "layout": "IPY_MODEL_213239361a23493a864b2af0d6dcf0c9",
       "toolitems": [
        [
         "Home",
         "Reset original view",
         "home",
         "home"
        ],
        [
         "Back",
         "Back to previous view",
         "arrow-left",
         "back"
        ],
        [
         "Forward",
         "Forward to next view",
         "arrow-right",
         "forward"
        ],
        [
         "Pan",
         "Pan axes with left mouse, zoom with right",
         "arrows",
         "pan"
        ],
        [
         "Zoom",
         "Zoom to rectangle",
         "square-o",
         "zoom"
        ],
        [
         "Download",
         "Download plot",
         "floppy-o",
         "save_figure"
        ]
       ]
      }
     },
     "8b3a2c257d3a4cdeb04d577eebbe0a22": {
      "model_module": "@jupyter-widgets/base",
      "model_module_version": "1.2.0",
      "model_name": "LayoutModel",
      "state": {}
     },
     "8baa26df192d4a098dd0dd8806632647": {
      "model_module": "jupyter-matplotlib",
      "model_module_version": "^0.7.4",
      "model_name": "ToolbarModel",
      "state": {
       "layout": "IPY_MODEL_ecbb8205fc1f4002bb378f237028432e",
       "toolitems": [
        [
         "Home",
         "Reset original view",
         "home",
         "home"
        ],
        [
         "Back",
         "Back to previous view",
         "arrow-left",
         "back"
        ],
        [
         "Forward",
         "Forward to next view",
         "arrow-right",
         "forward"
        ],
        [
         "Pan",
         "Pan axes with left mouse, zoom with right",
         "arrows",
         "pan"
        ],
        [
         "Zoom",
         "Zoom to rectangle",
         "square-o",
         "zoom"
        ],
        [
         "Download",
         "Download plot",
         "floppy-o",
         "save_figure"
        ]
       ]
      }
     },
     "8badf4806a804a1ab10bf845b21620da": {
      "model_module": "@jupyter-widgets/base",
      "model_module_version": "1.2.0",
      "model_name": "LayoutModel",
      "state": {}
     },
     "8bdab19c5ee348238a418b33bb54bc93": {
      "model_module": "@jupyter-widgets/base",
      "model_module_version": "1.2.0",
      "model_name": "LayoutModel",
      "state": {}
     },
     "8c914219afd0430ebf7681462dc4ba8d": {
      "model_module": "@jupyter-widgets/base",
      "model_module_version": "1.2.0",
      "model_name": "LayoutModel",
      "state": {}
     },
     "8caa8a12ea6844b8bea55baa69e5aa79": {
      "model_module": "@jupyter-widgets/base",
      "model_module_version": "1.2.0",
      "model_name": "LayoutModel",
      "state": {}
     },
     "8d12ee119b354c97b8dab0e1101d6f8c": {
      "model_module": "@jupyter-widgets/base",
      "model_module_version": "1.2.0",
      "model_name": "LayoutModel",
      "state": {}
     },
     "8d1a7a0248f64e4597d34ee2e2978092": {
      "model_module": "@jupyter-widgets/base",
      "model_module_version": "1.2.0",
      "model_name": "LayoutModel",
      "state": {}
     },
     "8d5013bcedd0444a9fdfb77ed56d61a8": {
      "model_module": "jupyter-matplotlib",
      "model_module_version": "^0.7.4",
      "model_name": "ToolbarModel",
      "state": {
       "layout": "IPY_MODEL_383f7f28ab1140a4b18d234f1220de8f",
       "toolitems": [
        [
         "Home",
         "Reset original view",
         "home",
         "home"
        ],
        [
         "Back",
         "Back to previous view",
         "arrow-left",
         "back"
        ],
        [
         "Forward",
         "Forward to next view",
         "arrow-right",
         "forward"
        ],
        [
         "Pan",
         "Pan axes with left mouse, zoom with right",
         "arrows",
         "pan"
        ],
        [
         "Zoom",
         "Zoom to rectangle",
         "square-o",
         "zoom"
        ],
        [
         "Download",
         "Download plot",
         "floppy-o",
         "save_figure"
        ]
       ]
      }
     },
     "8d53fdd5eb9b4835bafd6a963b8a03a4": {
      "model_module": "@jupyter-widgets/base",
      "model_module_version": "1.2.0",
      "model_name": "LayoutModel",
      "state": {}
     },
     "8ef8f8a7ee9b46a3834ad6e86151310c": {
      "model_module": "@jupyter-widgets/base",
      "model_module_version": "1.2.0",
      "model_name": "LayoutModel",
      "state": {}
     },
     "8f3123727abb4be7ab901f5bf8d5614c": {
      "model_module": "@jupyter-widgets/base",
      "model_module_version": "1.2.0",
      "model_name": "LayoutModel",
      "state": {}
     },
     "8f5b0f8ad3394ffc993e894ca634efaf": {
      "model_module": "@jupyter-widgets/base",
      "model_module_version": "1.2.0",
      "model_name": "LayoutModel",
      "state": {}
     },
     "901cc01bad9c4cefa09fb54b981508db": {
      "model_module": "jupyter-matplotlib",
      "model_module_version": "^0.7.4",
      "model_name": "ToolbarModel",
      "state": {
       "layout": "IPY_MODEL_386254755c1148a1aad43e040106f4bf",
       "toolitems": [
        [
         "Home",
         "Reset original view",
         "home",
         "home"
        ],
        [
         "Back",
         "Back to previous view",
         "arrow-left",
         "back"
        ],
        [
         "Forward",
         "Forward to next view",
         "arrow-right",
         "forward"
        ],
        [
         "Pan",
         "Pan axes with left mouse, zoom with right",
         "arrows",
         "pan"
        ],
        [
         "Zoom",
         "Zoom to rectangle",
         "square-o",
         "zoom"
        ],
        [
         "Download",
         "Download plot",
         "floppy-o",
         "save_figure"
        ]
       ]
      }
     },
     "90cf1511d4654e3c9dec54d37c8a8f1d": {
      "model_module": "@jupyter-widgets/base",
      "model_module_version": "1.2.0",
      "model_name": "LayoutModel",
      "state": {}
     },
     "90d6eb5ce7c84435b6e53abf0bb4ffea": {
      "model_module": "jupyter-matplotlib",
      "model_module_version": "^0.7.4",
      "model_name": "ToolbarModel",
      "state": {
       "layout": "IPY_MODEL_c12cecc5801b41d29748e24d043824cc",
       "toolitems": [
        [
         "Home",
         "Reset original view",
         "home",
         "home"
        ],
        [
         "Back",
         "Back to previous view",
         "arrow-left",
         "back"
        ],
        [
         "Forward",
         "Forward to next view",
         "arrow-right",
         "forward"
        ],
        [
         "Pan",
         "Pan axes with left mouse, zoom with right",
         "arrows",
         "pan"
        ],
        [
         "Zoom",
         "Zoom to rectangle",
         "square-o",
         "zoom"
        ],
        [
         "Download",
         "Download plot",
         "floppy-o",
         "save_figure"
        ]
       ]
      }
     },
     "9113b3f3e26e48019e8993af5362c2bc": {
      "model_module": "@jupyter-widgets/base",
      "model_module_version": "1.2.0",
      "model_name": "LayoutModel",
      "state": {}
     },
     "91b0276ae3294c1da31bdbde1ccc426c": {
      "model_module": "jupyter-matplotlib",
      "model_module_version": "^0.7.4",
      "model_name": "ToolbarModel",
      "state": {
       "layout": "IPY_MODEL_c3e123e96f634b94b65480fa8d661ee9",
       "toolitems": [
        [
         "Home",
         "Reset original view",
         "home",
         "home"
        ],
        [
         "Back",
         "Back to previous view",
         "arrow-left",
         "back"
        ],
        [
         "Forward",
         "Forward to next view",
         "arrow-right",
         "forward"
        ],
        [
         "Pan",
         "Pan axes with left mouse, zoom with right",
         "arrows",
         "pan"
        ],
        [
         "Zoom",
         "Zoom to rectangle",
         "square-o",
         "zoom"
        ],
        [
         "Download",
         "Download plot",
         "floppy-o",
         "save_figure"
        ]
       ]
      }
     },
     "926bbb7a02be427d867eb76f08ff312f": {
      "model_module": "@jupyter-widgets/base",
      "model_module_version": "1.2.0",
      "model_name": "LayoutModel",
      "state": {}
     },
     "92a94c8967024d21bd8523b7f3db1efd": {
      "model_module": "@jupyter-widgets/base",
      "model_module_version": "1.2.0",
      "model_name": "LayoutModel",
      "state": {}
     },
     "932928b5baa4467eb40831c90f805054": {
      "model_module": "jupyter-matplotlib",
      "model_module_version": "^0.7.4",
      "model_name": "ToolbarModel",
      "state": {
       "layout": "IPY_MODEL_612f1ff21bc94979aaea4f92d620503c",
       "toolitems": [
        [
         "Home",
         "Reset original view",
         "home",
         "home"
        ],
        [
         "Back",
         "Back to previous view",
         "arrow-left",
         "back"
        ],
        [
         "Forward",
         "Forward to next view",
         "arrow-right",
         "forward"
        ],
        [
         "Pan",
         "Pan axes with left mouse, zoom with right",
         "arrows",
         "pan"
        ],
        [
         "Zoom",
         "Zoom to rectangle",
         "square-o",
         "zoom"
        ],
        [
         "Download",
         "Download plot",
         "floppy-o",
         "save_figure"
        ]
       ]
      }
     },
     "93f34e20a95440f5be3f65ff42694f88": {
      "model_module": "@jupyter-widgets/base",
      "model_module_version": "1.2.0",
      "model_name": "LayoutModel",
      "state": {}
     },
     "93f3b2bf73c7464d9c8f321282eeff59": {
      "model_module": "@jupyter-widgets/base",
      "model_module_version": "1.2.0",
      "model_name": "LayoutModel",
      "state": {}
     },
     "9421b0544fb045878191fde0b90f3731": {
      "model_module": "@jupyter-widgets/base",
      "model_module_version": "1.2.0",
      "model_name": "LayoutModel",
      "state": {}
     },
     "944142f0949b41ce8a09154567f40089": {
      "model_module": "jupyter-matplotlib",
      "model_module_version": "^0.7.4",
      "model_name": "ToolbarModel",
      "state": {
       "layout": "IPY_MODEL_768dbd1c8a3c4cee91c0691fa34929a9",
       "toolitems": [
        [
         "Home",
         "Reset original view",
         "home",
         "home"
        ],
        [
         "Back",
         "Back to previous view",
         "arrow-left",
         "back"
        ],
        [
         "Forward",
         "Forward to next view",
         "arrow-right",
         "forward"
        ],
        [
         "Pan",
         "Pan axes with left mouse, zoom with right",
         "arrows",
         "pan"
        ],
        [
         "Zoom",
         "Zoom to rectangle",
         "square-o",
         "zoom"
        ],
        [
         "Download",
         "Download plot",
         "floppy-o",
         "save_figure"
        ]
       ]
      }
     },
     "9564dd64134f4538928ae7abf1869281": {
      "model_module": "jupyter-matplotlib",
      "model_module_version": "^0.7.4",
      "model_name": "MPLCanvasModel",
      "state": {
       "_cursor": "default",
       "_figure_label": "Figure 4",
       "_height": 500,
       "_width": 500,
       "layout": "IPY_MODEL_c8261259556a4636a277c9a35b504d95",
       "toolbar": "IPY_MODEL_c91b5690ecd944ad920a9e82e91393b0",
       "toolbar_position": "left"
      }
     },
     "9616cd95feda4b5289708f40fd206471": {
      "model_module": "@jupyter-widgets/base",
      "model_module_version": "1.2.0",
      "model_name": "LayoutModel",
      "state": {}
     },
     "96366de1106143e58a919327ca417572": {
      "model_module": "@jupyter-widgets/base",
      "model_module_version": "1.2.0",
      "model_name": "LayoutModel",
      "state": {}
     },
     "98e474d34bd74cd9a33bb94e3ecfc3ff": {
      "model_module": "@jupyter-widgets/base",
      "model_module_version": "1.2.0",
      "model_name": "LayoutModel",
      "state": {}
     },
     "98f388825d0c4ad09bf89f7e59a48b87": {
      "model_module": "jupyter-matplotlib",
      "model_module_version": "^0.7.4",
      "model_name": "MPLCanvasModel",
      "state": {
       "_cursor": "default",
       "_figure_label": "Figure 29",
       "_height": 450,
       "_width": 1214,
       "layout": "IPY_MODEL_edc2e35831a440dfbc0aa40d97462ad2",
       "toolbar": "IPY_MODEL_bcf3d1730c814d4986af48b0f2f8ea81",
       "toolbar_position": "left"
      }
     },
     "9927d9073c954103b34bac0d3493e160": {
      "model_module": "@jupyter-widgets/base",
      "model_module_version": "1.2.0",
      "model_name": "LayoutModel",
      "state": {}
     },
     "99948037d49e425980ba4b38d51a8193": {
      "model_module": "jupyter-matplotlib",
      "model_module_version": "^0.7.4",
      "model_name": "ToolbarModel",
      "state": {
       "layout": "IPY_MODEL_1fd6cfff11654313ae113966d5a9efed",
       "toolitems": [
        [
         "Home",
         "Reset original view",
         "home",
         "home"
        ],
        [
         "Back",
         "Back to previous view",
         "arrow-left",
         "back"
        ],
        [
         "Forward",
         "Forward to next view",
         "arrow-right",
         "forward"
        ],
        [
         "Pan",
         "Pan axes with left mouse, zoom with right",
         "arrows",
         "pan"
        ],
        [
         "Zoom",
         "Zoom to rectangle",
         "square-o",
         "zoom"
        ],
        [
         "Download",
         "Download plot",
         "floppy-o",
         "save_figure"
        ]
       ]
      }
     },
     "9a5426a542934bbbbf3788ee478e90a3": {
      "model_module": "@jupyter-widgets/base",
      "model_module_version": "1.2.0",
      "model_name": "LayoutModel",
      "state": {}
     },
     "9ca47d57b5c94f82a0f9343b68fbb9b6": {
      "model_module": "@jupyter-widgets/controls",
      "model_module_version": "1.5.0",
      "model_name": "DescriptionStyleModel",
      "state": {
       "description_width": ""
      }
     },
     "9cce9e6787bd422b9b7aab5989f2912b": {
      "model_module": "@jupyter-widgets/base",
      "model_module_version": "1.2.0",
      "model_name": "LayoutModel",
      "state": {}
     },
     "9de9b31a7bc3410f92d60865ee33d224": {
      "model_module": "@jupyter-widgets/base",
      "model_module_version": "1.2.0",
      "model_name": "LayoutModel",
      "state": {}
     },
     "9e14b2b8ba6144e5839433e267fbde16": {
      "model_module": "@jupyter-widgets/base",
      "model_module_version": "1.2.0",
      "model_name": "LayoutModel",
      "state": {}
     },
     "9e1ba26dcec24064babcf83849d6455b": {
      "model_module": "jupyter-matplotlib",
      "model_module_version": "^0.7.4",
      "model_name": "MPLCanvasModel",
      "state": {
       "_height": 450,
       "_width": 1214,
       "layout": "IPY_MODEL_a0b5cbc9dd2e4a309282b120e2bd07a1",
       "toolbar": "IPY_MODEL_0bbfc2d3aea942559773c3ea574f959d",
       "toolbar_position": "left"
      }
     },
     "9ee014f2f4d1443c857d2efc21cd6915": {
      "model_module": "@jupyter-widgets/base",
      "model_module_version": "1.2.0",
      "model_name": "LayoutModel",
      "state": {}
     },
     "9f68ebb17d2245ffadffd4670a656744": {
      "model_module": "@jupyter-widgets/base",
      "model_module_version": "1.2.0",
      "model_name": "LayoutModel",
      "state": {}
     },
     "9f87ba96251a4a86abfc3a6c99711d3e": {
      "model_module": "@jupyter-widgets/base",
      "model_module_version": "1.2.0",
      "model_name": "LayoutModel",
      "state": {}
     },
     "a0846e28558c4298ab656bbec00f84ef": {
      "model_module": "@jupyter-widgets/base",
      "model_module_version": "1.2.0",
      "model_name": "LayoutModel",
      "state": {}
     },
     "a0ac12d9c0e8456a955c3c8b92876c40": {
      "model_module": "jupyter-matplotlib",
      "model_module_version": "^0.7.4",
      "model_name": "ToolbarModel",
      "state": {
       "layout": "IPY_MODEL_6a03e09a60ca454c96b00a05472f8485",
       "toolitems": [
        [
         "Home",
         "Reset original view",
         "home",
         "home"
        ],
        [
         "Back",
         "Back to previous view",
         "arrow-left",
         "back"
        ],
        [
         "Forward",
         "Forward to next view",
         "arrow-right",
         "forward"
        ],
        [
         "Pan",
         "Pan axes with left mouse, zoom with right",
         "arrows",
         "pan"
        ],
        [
         "Zoom",
         "Zoom to rectangle",
         "square-o",
         "zoom"
        ],
        [
         "Download",
         "Download plot",
         "floppy-o",
         "save_figure"
        ]
       ]
      }
     },
     "a0b5cbc9dd2e4a309282b120e2bd07a1": {
      "model_module": "@jupyter-widgets/base",
      "model_module_version": "1.2.0",
      "model_name": "LayoutModel",
      "state": {}
     },
     "a175780627874ce8b22c4c4014f9541a": {
      "model_module": "jupyter-matplotlib",
      "model_module_version": "^0.7.4",
      "model_name": "ToolbarModel",
      "state": {
       "layout": "IPY_MODEL_9cce9e6787bd422b9b7aab5989f2912b",
       "toolitems": [
        [
         "Home",
         "Reset original view",
         "home",
         "home"
        ],
        [
         "Back",
         "Back to previous view",
         "arrow-left",
         "back"
        ],
        [
         "Forward",
         "Forward to next view",
         "arrow-right",
         "forward"
        ],
        [
         "Pan",
         "Pan axes with left mouse, zoom with right",
         "arrows",
         "pan"
        ],
        [
         "Zoom",
         "Zoom to rectangle",
         "square-o",
         "zoom"
        ],
        [
         "Download",
         "Download plot",
         "floppy-o",
         "save_figure"
        ]
       ]
      }
     },
     "a2156869363548ebb8396cb7b04e27af": {
      "model_module": "jupyter-matplotlib",
      "model_module_version": "^0.7.4",
      "model_name": "ToolbarModel",
      "state": {
       "layout": "IPY_MODEL_c2712387664f43dea552b898acffb546",
       "toolitems": [
        [
         "Home",
         "Reset original view",
         "home",
         "home"
        ],
        [
         "Back",
         "Back to previous view",
         "arrow-left",
         "back"
        ],
        [
         "Forward",
         "Forward to next view",
         "arrow-right",
         "forward"
        ],
        [
         "Pan",
         "Pan axes with left mouse, zoom with right",
         "arrows",
         "pan"
        ],
        [
         "Zoom",
         "Zoom to rectangle",
         "square-o",
         "zoom"
        ],
        [
         "Download",
         "Download plot",
         "floppy-o",
         "save_figure"
        ]
       ]
      }
     },
     "a27a80e46a15477fa0341ce786231bff": {
      "model_module": "jupyter-matplotlib",
      "model_module_version": "^0.7.4",
      "model_name": "ToolbarModel",
      "state": {
       "layout": "IPY_MODEL_ddd2badcb0de42c283fed11181581ac6",
       "toolitems": [
        [
         "Home",
         "Reset original view",
         "home",
         "home"
        ],
        [
         "Back",
         "Back to previous view",
         "arrow-left",
         "back"
        ],
        [
         "Forward",
         "Forward to next view",
         "arrow-right",
         "forward"
        ],
        [
         "Pan",
         "Pan axes with left mouse, zoom with right",
         "arrows",
         "pan"
        ],
        [
         "Zoom",
         "Zoom to rectangle",
         "square-o",
         "zoom"
        ],
        [
         "Download",
         "Download plot",
         "floppy-o",
         "save_figure"
        ]
       ]
      }
     },
     "a287c7175e0241db928833a7162277e3": {
      "model_module": "@jupyter-widgets/base",
      "model_module_version": "1.2.0",
      "model_name": "LayoutModel",
      "state": {}
     },
     "a29f2bfd62314a47bb3052af3eb24fa6": {
      "model_module": "@jupyter-widgets/base",
      "model_module_version": "1.2.0",
      "model_name": "LayoutModel",
      "state": {}
     },
     "a39f63aa1379440fa9163c044503b7a4": {
      "model_module": "jupyter-matplotlib",
      "model_module_version": "^0.7.4",
      "model_name": "ToolbarModel",
      "state": {
       "layout": "IPY_MODEL_336eedbac3624a5bbd02ed4501e173ff",
       "toolitems": [
        [
         "Home",
         "Reset original view",
         "home",
         "home"
        ],
        [
         "Back",
         "Back to previous view",
         "arrow-left",
         "back"
        ],
        [
         "Forward",
         "Forward to next view",
         "arrow-right",
         "forward"
        ],
        [
         "Pan",
         "Pan axes with left mouse, zoom with right",
         "arrows",
         "pan"
        ],
        [
         "Zoom",
         "Zoom to rectangle",
         "square-o",
         "zoom"
        ],
        [
         "Download",
         "Download plot",
         "floppy-o",
         "save_figure"
        ]
       ]
      }
     },
     "a3d0965d7981459988870f403564fc68": {
      "model_module": "jupyter-matplotlib",
      "model_module_version": "^0.7.4",
      "model_name": "MPLCanvasModel",
      "state": {
       "_cursor": "default",
       "_figure_label": "Figure 22",
       "_height": 450,
       "_image_mode": "diff",
       "_message": "x=2.78142      y=0.450974    ",
       "_width": 1350,
       "layout": "IPY_MODEL_11f9a905682a4e49bb4ad38afdb6631b",
       "toolbar": "IPY_MODEL_73320ca6601847d48a40bea4a4ede1e3",
       "toolbar_position": "left"
      }
     },
     "a487eba0d2bd465893d7df1c3d0325a7": {
      "model_module": "@jupyter-widgets/controls",
      "model_module_version": "1.5.0",
      "model_name": "HTMLModel",
      "state": {
       "layout": "IPY_MODEL_38aa43cb2acb4813a43c4f80f0754747",
       "style": "IPY_MODEL_9ca47d57b5c94f82a0f9343b68fbb9b6",
       "value": " 3/27 [00:03&lt;00:26,  1.11s/it]"
      }
     },
     "a4910d40604848fb98d401770a26f010": {
      "model_module": "@jupyter-widgets/base",
      "model_module_version": "1.2.0",
      "model_name": "LayoutModel",
      "state": {}
     },
     "a55a7401cbd94f66bf02b92eae7db86d": {
      "model_module": "jupyter-matplotlib",
      "model_module_version": "^0.7.4",
      "model_name": "ToolbarModel",
      "state": {
       "layout": "IPY_MODEL_0fbb0b6cfefc4b42bef8655463871e64",
       "toolitems": [
        [
         "Home",
         "Reset original view",
         "home",
         "home"
        ],
        [
         "Back",
         "Back to previous view",
         "arrow-left",
         "back"
        ],
        [
         "Forward",
         "Forward to next view",
         "arrow-right",
         "forward"
        ],
        [
         "Pan",
         "Pan axes with left mouse, zoom with right",
         "arrows",
         "pan"
        ],
        [
         "Zoom",
         "Zoom to rectangle",
         "square-o",
         "zoom"
        ],
        [
         "Download",
         "Download plot",
         "floppy-o",
         "save_figure"
        ]
       ]
      }
     },
     "a58445ee3d194709a4d68e9b8590aa98": {
      "model_module": "@jupyter-widgets/base",
      "model_module_version": "1.2.0",
      "model_name": "LayoutModel",
      "state": {}
     },
     "a7472172f3534886aa0f9015c818f829": {
      "model_module": "jupyter-matplotlib",
      "model_module_version": "^0.7.4",
      "model_name": "ToolbarModel",
      "state": {
       "layout": "IPY_MODEL_ad4f85f580a24f0182af20f0f175e444",
       "toolitems": [
        [
         "Home",
         "Reset original view",
         "home",
         "home"
        ],
        [
         "Back",
         "Back to previous view",
         "arrow-left",
         "back"
        ],
        [
         "Forward",
         "Forward to next view",
         "arrow-right",
         "forward"
        ],
        [
         "Pan",
         "Pan axes with left mouse, zoom with right",
         "arrows",
         "pan"
        ],
        [
         "Zoom",
         "Zoom to rectangle",
         "square-o",
         "zoom"
        ],
        [
         "Download",
         "Download plot",
         "floppy-o",
         "save_figure"
        ]
       ]
      }
     },
     "a75609010ed94306ba9e072dab9127dc": {
      "model_module": "@jupyter-widgets/base",
      "model_module_version": "1.2.0",
      "model_name": "LayoutModel",
      "state": {}
     },
     "a7c42aaaf69c456d9c2344b5c7e5e584": {
      "model_module": "@jupyter-widgets/base",
      "model_module_version": "1.2.0",
      "model_name": "LayoutModel",
      "state": {}
     },
     "a809b3f0afac436398b7bad320f2e546": {
      "model_module": "jupyter-matplotlib",
      "model_module_version": "^0.7.4",
      "model_name": "ToolbarModel",
      "state": {
       "layout": "IPY_MODEL_202209feeacd426090d3e8211fe6a1a3",
       "toolitems": [
        [
         "Home",
         "Reset original view",
         "home",
         "home"
        ],
        [
         "Back",
         "Back to previous view",
         "arrow-left",
         "back"
        ],
        [
         "Forward",
         "Forward to next view",
         "arrow-right",
         "forward"
        ],
        [
         "Pan",
         "Pan axes with left mouse, zoom with right",
         "arrows",
         "pan"
        ],
        [
         "Zoom",
         "Zoom to rectangle",
         "square-o",
         "zoom"
        ],
        [
         "Download",
         "Download plot",
         "floppy-o",
         "save_figure"
        ]
       ]
      }
     },
     "a88177a6fc114af7bcb9445055b0c2bb": {
      "model_module": "@jupyter-widgets/base",
      "model_module_version": "1.2.0",
      "model_name": "LayoutModel",
      "state": {}
     },
     "a905080015564cb2883169199c5a2f48": {
      "model_module": "@jupyter-widgets/base",
      "model_module_version": "1.2.0",
      "model_name": "LayoutModel",
      "state": {}
     },
     "a9088bc4a2e746e7bdd85e4615855534": {
      "model_module": "@jupyter-widgets/base",
      "model_module_version": "1.2.0",
      "model_name": "LayoutModel",
      "state": {}
     },
     "a955b0c07cb642f08a86be85a4b2df41": {
      "model_module": "@jupyter-widgets/base",
      "model_module_version": "1.2.0",
      "model_name": "LayoutModel",
      "state": {}
     },
     "a9928efc84284121abefff0b9a158409": {
      "model_module": "@jupyter-widgets/base",
      "model_module_version": "1.2.0",
      "model_name": "LayoutModel",
      "state": {}
     },
     "aa9a336ed6e0409d9ccb5a57824039d7": {
      "model_module": "jupyter-matplotlib",
      "model_module_version": "^0.7.4",
      "model_name": "ToolbarModel",
      "state": {
       "layout": "IPY_MODEL_86d0465f8de04378859a3139bf84c801",
       "toolitems": [
        [
         "Home",
         "Reset original view",
         "home",
         "home"
        ],
        [
         "Back",
         "Back to previous view",
         "arrow-left",
         "back"
        ],
        [
         "Forward",
         "Forward to next view",
         "arrow-right",
         "forward"
        ],
        [
         "Pan",
         "Pan axes with left mouse, zoom with right",
         "arrows",
         "pan"
        ],
        [
         "Zoom",
         "Zoom to rectangle",
         "square-o",
         "zoom"
        ],
        [
         "Download",
         "Download plot",
         "floppy-o",
         "save_figure"
        ]
       ]
      }
     },
     "aaed49e860d44aa4afa188b1473bf4d4": {
      "model_module": "@jupyter-widgets/base",
      "model_module_version": "1.2.0",
      "model_name": "LayoutModel",
      "state": {}
     },
     "ab045b1a162d44ae9b47c7dbeb8cfae3": {
      "model_module": "@jupyter-widgets/base",
      "model_module_version": "1.2.0",
      "model_name": "LayoutModel",
      "state": {}
     },
     "ab4f92b299e949c58e58cec634505e71": {
      "model_module": "@jupyter-widgets/base",
      "model_module_version": "1.2.0",
      "model_name": "LayoutModel",
      "state": {}
     },
     "ac91a63bef3841e5a2ae91d12635aaf5": {
      "model_module": "jupyter-matplotlib",
      "model_module_version": "^0.7.4",
      "model_name": "MPLCanvasModel",
      "state": {
       "_cursor": "default",
       "_figure_label": "Figure 41",
       "_height": 450,
       "_width": 1214,
       "layout": "IPY_MODEL_5b2caf31fffe45878666a2f5a8c4d6c2",
       "toolbar": "IPY_MODEL_08d874dde3ec49399d9316ed3cd62efc",
       "toolbar_position": "left"
      }
     },
     "acf064adfe6c43388102b7bc785cb3e6": {
      "model_module": "jupyter-matplotlib",
      "model_module_version": "^0.7.4",
      "model_name": "ToolbarModel",
      "state": {
       "layout": "IPY_MODEL_8bdab19c5ee348238a418b33bb54bc93",
       "toolitems": [
        [
         "Home",
         "Reset original view",
         "home",
         "home"
        ],
        [
         "Back",
         "Back to previous view",
         "arrow-left",
         "back"
        ],
        [
         "Forward",
         "Forward to next view",
         "arrow-right",
         "forward"
        ],
        [
         "Pan",
         "Pan axes with left mouse, zoom with right",
         "arrows",
         "pan"
        ],
        [
         "Zoom",
         "Zoom to rectangle",
         "square-o",
         "zoom"
        ],
        [
         "Download",
         "Download plot",
         "floppy-o",
         "save_figure"
        ]
       ]
      }
     },
     "ad4f85f580a24f0182af20f0f175e444": {
      "model_module": "@jupyter-widgets/base",
      "model_module_version": "1.2.0",
      "model_name": "LayoutModel",
      "state": {}
     },
     "ad633aaa22ad4795805fa6ab2f9a8b0f": {
      "model_module": "@jupyter-widgets/base",
      "model_module_version": "1.2.0",
      "model_name": "LayoutModel",
      "state": {}
     },
     "adfd137b974a47838837971b6aa839f5": {
      "model_module": "@jupyter-widgets/base",
      "model_module_version": "1.2.0",
      "model_name": "LayoutModel",
      "state": {}
     },
     "ae38137fc4a142f49979a31d5f5af20f": {
      "model_module": "@jupyter-widgets/base",
      "model_module_version": "1.2.0",
      "model_name": "LayoutModel",
      "state": {}
     },
     "ae6ae5df9e24407a883e630cbe4ec2b8": {
      "model_module": "jupyter-matplotlib",
      "model_module_version": "^0.7.4",
      "model_name": "ToolbarModel",
      "state": {
       "layout": "IPY_MODEL_b9ca2a2277d04ff8a01db18b0982e9d8",
       "toolitems": [
        [
         "Home",
         "Reset original view",
         "home",
         "home"
        ],
        [
         "Back",
         "Back to previous view",
         "arrow-left",
         "back"
        ],
        [
         "Forward",
         "Forward to next view",
         "arrow-right",
         "forward"
        ],
        [
         "Pan",
         "Pan axes with left mouse, zoom with right",
         "arrows",
         "pan"
        ],
        [
         "Zoom",
         "Zoom to rectangle",
         "square-o",
         "zoom"
        ],
        [
         "Download",
         "Download plot",
         "floppy-o",
         "save_figure"
        ]
       ]
      }
     },
     "aeead69e812b44cd91a714242f9fe29b": {
      "model_module": "@jupyter-widgets/base",
      "model_module_version": "1.2.0",
      "model_name": "LayoutModel",
      "state": {}
     },
     "af06c15aed4b4d36afaccf3c625a057c": {
      "model_module": "jupyter-matplotlib",
      "model_module_version": "^0.7.4",
      "model_name": "ToolbarModel",
      "state": {
       "layout": "IPY_MODEL_b01bbd7643ff4511a74cfedf14cf89ac",
       "toolitems": [
        [
         "Home",
         "Reset original view",
         "home",
         "home"
        ],
        [
         "Back",
         "Back to previous view",
         "arrow-left",
         "back"
        ],
        [
         "Forward",
         "Forward to next view",
         "arrow-right",
         "forward"
        ],
        [
         "Pan",
         "Pan axes with left mouse, zoom with right",
         "arrows",
         "pan"
        ],
        [
         "Zoom",
         "Zoom to rectangle",
         "square-o",
         "zoom"
        ],
        [
         "Download",
         "Download plot",
         "floppy-o",
         "save_figure"
        ]
       ]
      }
     },
     "b01bbd7643ff4511a74cfedf14cf89ac": {
      "model_module": "@jupyter-widgets/base",
      "model_module_version": "1.2.0",
      "model_name": "LayoutModel",
      "state": {}
     },
     "b04faaaea49b4f2c850503fcdf2bcc9d": {
      "model_module": "jupyter-matplotlib",
      "model_module_version": "^0.7.4",
      "model_name": "ToolbarModel",
      "state": {
       "layout": "IPY_MODEL_ba2b5f22843a4b6e89600ffe758b40a4",
       "toolitems": [
        [
         "Home",
         "Reset original view",
         "home",
         "home"
        ],
        [
         "Back",
         "Back to previous view",
         "arrow-left",
         "back"
        ],
        [
         "Forward",
         "Forward to next view",
         "arrow-right",
         "forward"
        ],
        [
         "Pan",
         "Pan axes with left mouse, zoom with right",
         "arrows",
         "pan"
        ],
        [
         "Zoom",
         "Zoom to rectangle",
         "square-o",
         "zoom"
        ],
        [
         "Download",
         "Download plot",
         "floppy-o",
         "save_figure"
        ]
       ]
      }
     },
     "b060796542c54fc98bde4972ab4f42b4": {
      "model_module": "jupyter-matplotlib",
      "model_module_version": "^0.7.4",
      "model_name": "ToolbarModel",
      "state": {
       "layout": "IPY_MODEL_9f87ba96251a4a86abfc3a6c99711d3e",
       "toolitems": [
        [
         "Home",
         "Reset original view",
         "home",
         "home"
        ],
        [
         "Back",
         "Back to previous view",
         "arrow-left",
         "back"
        ],
        [
         "Forward",
         "Forward to next view",
         "arrow-right",
         "forward"
        ],
        [
         "Pan",
         "Pan axes with left mouse, zoom with right",
         "arrows",
         "pan"
        ],
        [
         "Zoom",
         "Zoom to rectangle",
         "square-o",
         "zoom"
        ],
        [
         "Download",
         "Download plot",
         "floppy-o",
         "save_figure"
        ]
       ]
      }
     },
     "b1845191a29c447b97be0c810e225e41": {
      "model_module": "jupyter-matplotlib",
      "model_module_version": "^0.7.4",
      "model_name": "MPLCanvasModel",
      "state": {
       "_cursor": "default",
       "_figure_label": "Figure 23",
       "_height": 450,
       "_image_mode": "diff",
       "_width": 716,
       "layout": "IPY_MODEL_d53d3bee70f94c979219631e6950292e",
       "toolbar": "IPY_MODEL_40c0c036960a47638d44db96574545de",
       "toolbar_position": "left"
      }
     },
     "b2ceea494d0440849af9e467819cdecc": {
      "model_module": "@jupyter-widgets/base",
      "model_module_version": "1.2.0",
      "model_name": "LayoutModel",
      "state": {}
     },
     "b336b122d78f4083a0232accae5ba373": {
      "model_module": "@jupyter-widgets/base",
      "model_module_version": "1.2.0",
      "model_name": "LayoutModel",
      "state": {}
     },
     "b36ff29780904029b6d2fdde491eaf4f": {
      "model_module": "@jupyter-widgets/base",
      "model_module_version": "1.2.0",
      "model_name": "LayoutModel",
      "state": {}
     },
     "b3ba930d8fc3490f9176e15fdcd29266": {
      "model_module": "@jupyter-widgets/base",
      "model_module_version": "1.2.0",
      "model_name": "LayoutModel",
      "state": {}
     },
     "b43fe09277a84fcdb0cd5a672ff47afc": {
      "model_module": "@jupyter-widgets/base",
      "model_module_version": "1.2.0",
      "model_name": "LayoutModel",
      "state": {}
     },
     "b4cdad6603a34b0c82487f695d0ad0c5": {
      "model_module": "jupyter-matplotlib",
      "model_module_version": "^0.7.4",
      "model_name": "ToolbarModel",
      "state": {
       "layout": "IPY_MODEL_7c875dff95c047eca8f90494fd4b0563",
       "toolitems": [
        [
         "Home",
         "Reset original view",
         "home",
         "home"
        ],
        [
         "Back",
         "Back to previous view",
         "arrow-left",
         "back"
        ],
        [
         "Forward",
         "Forward to next view",
         "arrow-right",
         "forward"
        ],
        [
         "Pan",
         "Pan axes with left mouse, zoom with right",
         "arrows",
         "pan"
        ],
        [
         "Zoom",
         "Zoom to rectangle",
         "square-o",
         "zoom"
        ],
        [
         "Download",
         "Download plot",
         "floppy-o",
         "save_figure"
        ]
       ]
      }
     },
     "b54a6dfc2c4145c8b9650fe26d069139": {
      "model_module": "@jupyter-widgets/base",
      "model_module_version": "1.2.0",
      "model_name": "LayoutModel",
      "state": {}
     },
     "b574db6524fc4f079c5f79c481faa223": {
      "model_module": "jupyter-matplotlib",
      "model_module_version": "^0.7.4",
      "model_name": "ToolbarModel",
      "state": {
       "layout": "IPY_MODEL_f79b8ab55c4049768d32ba99794a6a55",
       "toolitems": [
        [
         "Home",
         "Reset original view",
         "home",
         "home"
        ],
        [
         "Back",
         "Back to previous view",
         "arrow-left",
         "back"
        ],
        [
         "Forward",
         "Forward to next view",
         "arrow-right",
         "forward"
        ],
        [
         "Pan",
         "Pan axes with left mouse, zoom with right",
         "arrows",
         "pan"
        ],
        [
         "Zoom",
         "Zoom to rectangle",
         "square-o",
         "zoom"
        ],
        [
         "Download",
         "Download plot",
         "floppy-o",
         "save_figure"
        ]
       ]
      }
     },
     "b5a40a6d1693450397710f08f16b8645": {
      "model_module": "@jupyter-widgets/base",
      "model_module_version": "1.2.0",
      "model_name": "LayoutModel",
      "state": {}
     },
     "b679a80b7c3845cdaefc75f6d3518390": {
      "model_module": "@jupyter-widgets/base",
      "model_module_version": "1.2.0",
      "model_name": "LayoutModel",
      "state": {}
     },
     "b6eacb066039471eaa4e589fb0036732": {
      "model_module": "@jupyter-widgets/base",
      "model_module_version": "1.2.0",
      "model_name": "LayoutModel",
      "state": {}
     },
     "b79ed53468f5435cb7c7f922924e1ee3": {
      "model_module": "@jupyter-widgets/base",
      "model_module_version": "1.2.0",
      "model_name": "LayoutModel",
      "state": {}
     },
     "b8e6516a51544806846279b9bb965ff3": {
      "model_module": "@jupyter-widgets/base",
      "model_module_version": "1.2.0",
      "model_name": "LayoutModel",
      "state": {}
     },
     "b9ca2a2277d04ff8a01db18b0982e9d8": {
      "model_module": "@jupyter-widgets/base",
      "model_module_version": "1.2.0",
      "model_name": "LayoutModel",
      "state": {}
     },
     "ba2b5f22843a4b6e89600ffe758b40a4": {
      "model_module": "@jupyter-widgets/base",
      "model_module_version": "1.2.0",
      "model_name": "LayoutModel",
      "state": {}
     },
     "bad57f0c90b940baaf1f19b186e0b8e5": {
      "model_module": "jupyter-matplotlib",
      "model_module_version": "^0.7.4",
      "model_name": "ToolbarModel",
      "state": {
       "layout": "IPY_MODEL_7486d550ee5d48c2b8cb40edb875d86d",
       "toolitems": [
        [
         "Home",
         "Reset original view",
         "home",
         "home"
        ],
        [
         "Back",
         "Back to previous view",
         "arrow-left",
         "back"
        ],
        [
         "Forward",
         "Forward to next view",
         "arrow-right",
         "forward"
        ],
        [
         "Pan",
         "Pan axes with left mouse, zoom with right",
         "arrows",
         "pan"
        ],
        [
         "Zoom",
         "Zoom to rectangle",
         "square-o",
         "zoom"
        ],
        [
         "Download",
         "Download plot",
         "floppy-o",
         "save_figure"
        ]
       ]
      }
     },
     "bb3362a8396d47c09edfd23ba24b0c3f": {
      "model_module": "@jupyter-widgets/base",
      "model_module_version": "1.2.0",
      "model_name": "LayoutModel",
      "state": {}
     },
     "bb341b6392c241389cd1a2dc9951dc85": {
      "model_module": "jupyter-matplotlib",
      "model_module_version": "^0.7.4",
      "model_name": "ToolbarModel",
      "state": {
       "layout": "IPY_MODEL_a9928efc84284121abefff0b9a158409",
       "toolitems": [
        [
         "Home",
         "Reset original view",
         "home",
         "home"
        ],
        [
         "Back",
         "Back to previous view",
         "arrow-left",
         "back"
        ],
        [
         "Forward",
         "Forward to next view",
         "arrow-right",
         "forward"
        ],
        [
         "Pan",
         "Pan axes with left mouse, zoom with right",
         "arrows",
         "pan"
        ],
        [
         "Zoom",
         "Zoom to rectangle",
         "square-o",
         "zoom"
        ],
        [
         "Download",
         "Download plot",
         "floppy-o",
         "save_figure"
        ]
       ]
      }
     },
     "bba90499bb094fd6b842da0233997ad7": {
      "model_module": "@jupyter-widgets/base",
      "model_module_version": "1.2.0",
      "model_name": "LayoutModel",
      "state": {}
     },
     "bc0481ac17564cb29fbf135688d06dd5": {
      "model_module": "jupyter-matplotlib",
      "model_module_version": "^0.7.4",
      "model_name": "ToolbarModel",
      "state": {
       "layout": "IPY_MODEL_1da93a6805dd4788a8720197ac2d1d69",
       "toolitems": [
        [
         "Home",
         "Reset original view",
         "home",
         "home"
        ],
        [
         "Back",
         "Back to previous view",
         "arrow-left",
         "back"
        ],
        [
         "Forward",
         "Forward to next view",
         "arrow-right",
         "forward"
        ],
        [
         "Pan",
         "Pan axes with left mouse, zoom with right",
         "arrows",
         "pan"
        ],
        [
         "Zoom",
         "Zoom to rectangle",
         "square-o",
         "zoom"
        ],
        [
         "Download",
         "Download plot",
         "floppy-o",
         "save_figure"
        ]
       ]
      }
     },
     "bc9017aebc504f3dae485bf7dd594e02": {
      "model_module": "@jupyter-widgets/base",
      "model_module_version": "1.2.0",
      "model_name": "LayoutModel",
      "state": {}
     },
     "bcf3d1730c814d4986af48b0f2f8ea81": {
      "model_module": "jupyter-matplotlib",
      "model_module_version": "^0.7.4",
      "model_name": "ToolbarModel",
      "state": {
       "layout": "IPY_MODEL_68bef7dfbe3d4be68ca82eaccbf778ab",
       "toolitems": [
        [
         "Home",
         "Reset original view",
         "home",
         "home"
        ],
        [
         "Back",
         "Back to previous view",
         "arrow-left",
         "back"
        ],
        [
         "Forward",
         "Forward to next view",
         "arrow-right",
         "forward"
        ],
        [
         "Pan",
         "Pan axes with left mouse, zoom with right",
         "arrows",
         "pan"
        ],
        [
         "Zoom",
         "Zoom to rectangle",
         "square-o",
         "zoom"
        ],
        [
         "Download",
         "Download plot",
         "floppy-o",
         "save_figure"
        ]
       ]
      }
     },
     "bd490289460a48ff9107b1bf2412368d": {
      "model_module": "jupyter-matplotlib",
      "model_module_version": "^0.7.4",
      "model_name": "MPLCanvasModel",
      "state": {
       "_cursor": "default",
       "_figure_label": "Figure 49",
       "_height": 450,
       "_image_mode": "diff",
       "_width": 900,
       "layout": "IPY_MODEL_8c914219afd0430ebf7681462dc4ba8d",
       "toolbar": "IPY_MODEL_2b4e707b53ac4d6fa5bd15206cd931e1",
       "toolbar_position": "left"
      }
     },
     "bd6c198fdb064db2bc6978c513345acb": {
      "model_module": "@jupyter-widgets/base",
      "model_module_version": "1.2.0",
      "model_name": "LayoutModel",
      "state": {}
     },
     "bdf4f449d1ae44fe8efd173dc2cf7b05": {
      "model_module": "jupyter-matplotlib",
      "model_module_version": "^0.7.4",
      "model_name": "ToolbarModel",
      "state": {
       "layout": "IPY_MODEL_05fd6ad55c534e10b5a475984fec9dbd",
       "toolitems": [
        [
         "Home",
         "Reset original view",
         "home",
         "home"
        ],
        [
         "Back",
         "Back to previous view",
         "arrow-left",
         "back"
        ],
        [
         "Forward",
         "Forward to next view",
         "arrow-right",
         "forward"
        ],
        [
         "Pan",
         "Pan axes with left mouse, zoom with right",
         "arrows",
         "pan"
        ],
        [
         "Zoom",
         "Zoom to rectangle",
         "square-o",
         "zoom"
        ],
        [
         "Download",
         "Download plot",
         "floppy-o",
         "save_figure"
        ]
       ]
      }
     },
     "bf874914ec444a9d96ef6d03d1ca4bda": {
      "model_module": "jupyter-matplotlib",
      "model_module_version": "^0.7.4",
      "model_name": "ToolbarModel",
      "state": {
       "layout": "IPY_MODEL_0f2d5ab9b37b44e198cc60f355185454",
       "toolitems": [
        [
         "Home",
         "Reset original view",
         "home",
         "home"
        ],
        [
         "Back",
         "Back to previous view",
         "arrow-left",
         "back"
        ],
        [
         "Forward",
         "Forward to next view",
         "arrow-right",
         "forward"
        ],
        [
         "Pan",
         "Pan axes with left mouse, zoom with right",
         "arrows",
         "pan"
        ],
        [
         "Zoom",
         "Zoom to rectangle",
         "square-o",
         "zoom"
        ],
        [
         "Download",
         "Download plot",
         "floppy-o",
         "save_figure"
        ]
       ]
      }
     },
     "c081709b0c6b45969df2a6442750aea9": {
      "model_module": "@jupyter-widgets/base",
      "model_module_version": "1.2.0",
      "model_name": "LayoutModel",
      "state": {}
     },
     "c12cecc5801b41d29748e24d043824cc": {
      "model_module": "@jupyter-widgets/base",
      "model_module_version": "1.2.0",
      "model_name": "LayoutModel",
      "state": {}
     },
     "c19c28b2e43a41cdbaa43bf3c33e9f49": {
      "model_module": "@jupyter-widgets/base",
      "model_module_version": "1.2.0",
      "model_name": "LayoutModel",
      "state": {}
     },
     "c2712387664f43dea552b898acffb546": {
      "model_module": "@jupyter-widgets/base",
      "model_module_version": "1.2.0",
      "model_name": "LayoutModel",
      "state": {}
     },
     "c2767251cbbd474691bba18f9add5511": {
      "model_module": "@jupyter-widgets/base",
      "model_module_version": "1.2.0",
      "model_name": "LayoutModel",
      "state": {}
     },
     "c2fbc09ed3d94c47b393d0a5baaef4ea": {
      "model_module": "jupyter-matplotlib",
      "model_module_version": "^0.7.4",
      "model_name": "MPLCanvasModel",
      "state": {
       "_cursor": "default",
       "_figure_label": "Figure 40",
       "_height": 450,
       "_image_mode": "diff",
       "_message": "x= y=27965       ",
       "_width": 1214,
       "layout": "IPY_MODEL_98e474d34bd74cd9a33bb94e3ecfc3ff",
       "toolbar": "IPY_MODEL_e7f18751b21743e88353f11b74f8e17f",
       "toolbar_position": "left"
      }
     },
     "c3047cc766054b52b5e8d2ea5fddc76f": {
      "model_module": "@jupyter-widgets/base",
      "model_module_version": "1.2.0",
      "model_name": "LayoutModel",
      "state": {}
     },
     "c365884bcee1426ead6969f9068a1d2f": {
      "model_module": "jupyter-matplotlib",
      "model_module_version": "^0.7.4",
      "model_name": "ToolbarModel",
      "state": {
       "layout": "IPY_MODEL_c63a9fa5432f429a954b5db12e080e33",
       "toolitems": [
        [
         "Home",
         "Reset original view",
         "home",
         "home"
        ],
        [
         "Back",
         "Back to previous view",
         "arrow-left",
         "back"
        ],
        [
         "Forward",
         "Forward to next view",
         "arrow-right",
         "forward"
        ],
        [
         "Pan",
         "Pan axes with left mouse, zoom with right",
         "arrows",
         "pan"
        ],
        [
         "Zoom",
         "Zoom to rectangle",
         "square-o",
         "zoom"
        ],
        [
         "Download",
         "Download plot",
         "floppy-o",
         "save_figure"
        ]
       ]
      }
     },
     "c395846346274229b960af9849198c2a": {
      "model_module": "jupyter-matplotlib",
      "model_module_version": "^0.7.4",
      "model_name": "MPLCanvasModel",
      "state": {
       "_cursor": "default",
       "_figure_label": "Figure 25",
       "_height": 540,
       "_width": 540,
       "layout": "IPY_MODEL_c802b259dc4244a2b8eb8d1ca975d6d8",
       "toolbar": "IPY_MODEL_f32bc7cf0ffc4c2f948a674897d4689a",
       "toolbar_position": "left"
      }
     },
     "c3e123e96f634b94b65480fa8d661ee9": {
      "model_module": "@jupyter-widgets/base",
      "model_module_version": "1.2.0",
      "model_name": "LayoutModel",
      "state": {}
     },
     "c4c0977a55764b93b2913646f4fcee98": {
      "model_module": "@jupyter-widgets/base",
      "model_module_version": "1.2.0",
      "model_name": "LayoutModel",
      "state": {}
     },
     "c5244f7afa324d34bf635c75a9dedc35": {
      "model_module": "@jupyter-widgets/base",
      "model_module_version": "1.2.0",
      "model_name": "LayoutModel",
      "state": {}
     },
     "c5b582619fcb4ec29cf3203603e02c90": {
      "model_module": "@jupyter-widgets/base",
      "model_module_version": "1.2.0",
      "model_name": "LayoutModel",
      "state": {}
     },
     "c5c8428344ab4b2b9d33ff262c1403a4": {
      "model_module": "@jupyter-widgets/base",
      "model_module_version": "1.2.0",
      "model_name": "LayoutModel",
      "state": {}
     },
     "c62148da00bf4b388a3c6ac3db131f9d": {
      "model_module": "jupyter-matplotlib",
      "model_module_version": "^0.7.4",
      "model_name": "ToolbarModel",
      "state": {
       "layout": "IPY_MODEL_608e88478fb1461ab42e3c9e6403ec19",
       "toolitems": [
        [
         "Home",
         "Reset original view",
         "home",
         "home"
        ],
        [
         "Back",
         "Back to previous view",
         "arrow-left",
         "back"
        ],
        [
         "Forward",
         "Forward to next view",
         "arrow-right",
         "forward"
        ],
        [
         "Pan",
         "Pan axes with left mouse, zoom with right",
         "arrows",
         "pan"
        ],
        [
         "Zoom",
         "Zoom to rectangle",
         "square-o",
         "zoom"
        ],
        [
         "Download",
         "Download plot",
         "floppy-o",
         "save_figure"
        ]
       ]
      }
     },
     "c63a9fa5432f429a954b5db12e080e33": {
      "model_module": "@jupyter-widgets/base",
      "model_module_version": "1.2.0",
      "model_name": "LayoutModel",
      "state": {}
     },
     "c679bf40661b4e20abf15ece6a295f39": {
      "model_module": "@jupyter-widgets/base",
      "model_module_version": "1.2.0",
      "model_name": "LayoutModel",
      "state": {}
     },
     "c6ba7da80d0c440b80b5a3139fbf83a8": {
      "model_module": "jupyter-matplotlib",
      "model_module_version": "^0.7.4",
      "model_name": "ToolbarModel",
      "state": {
       "layout": "IPY_MODEL_a58445ee3d194709a4d68e9b8590aa98",
       "toolitems": [
        [
         "Home",
         "Reset original view",
         "home",
         "home"
        ],
        [
         "Back",
         "Back to previous view",
         "arrow-left",
         "back"
        ],
        [
         "Forward",
         "Forward to next view",
         "arrow-right",
         "forward"
        ],
        [
         "Pan",
         "Pan axes with left mouse, zoom with right",
         "arrows",
         "pan"
        ],
        [
         "Zoom",
         "Zoom to rectangle",
         "square-o",
         "zoom"
        ],
        [
         "Download",
         "Download plot",
         "floppy-o",
         "save_figure"
        ]
       ]
      }
     },
     "c758783d5acd4c85a85bd5eb8f2157dc": {
      "model_module": "jupyter-matplotlib",
      "model_module_version": "^0.7.4",
      "model_name": "ToolbarModel",
      "state": {
       "layout": "IPY_MODEL_4ed46bffb9fb4eaea63f3674e113d8ed",
       "toolitems": [
        [
         "Home",
         "Reset original view",
         "home",
         "home"
        ],
        [
         "Back",
         "Back to previous view",
         "arrow-left",
         "back"
        ],
        [
         "Forward",
         "Forward to next view",
         "arrow-right",
         "forward"
        ],
        [
         "Pan",
         "Pan axes with left mouse, zoom with right",
         "arrows",
         "pan"
        ],
        [
         "Zoom",
         "Zoom to rectangle",
         "square-o",
         "zoom"
        ],
        [
         "Download",
         "Download plot",
         "floppy-o",
         "save_figure"
        ]
       ]
      }
     },
     "c7b74dea3f354ac6ba43cb29340f61e6": {
      "model_module": "@jupyter-widgets/base",
      "model_module_version": "1.2.0",
      "model_name": "LayoutModel",
      "state": {}
     },
     "c802b259dc4244a2b8eb8d1ca975d6d8": {
      "model_module": "@jupyter-widgets/base",
      "model_module_version": "1.2.0",
      "model_name": "LayoutModel",
      "state": {}
     },
     "c80b58d6c92d420fbac82a7d7b988174": {
      "model_module": "@jupyter-widgets/base",
      "model_module_version": "1.2.0",
      "model_name": "LayoutModel",
      "state": {}
     },
     "c80b81d7f50f479ab0c7a17dd87a6cae": {
      "model_module": "@jupyter-widgets/base",
      "model_module_version": "1.2.0",
      "model_name": "LayoutModel",
      "state": {}
     },
     "c8261259556a4636a277c9a35b504d95": {
      "model_module": "@jupyter-widgets/base",
      "model_module_version": "1.2.0",
      "model_name": "LayoutModel",
      "state": {}
     },
     "c8a68afca431461694cab6f43fb30ed6": {
      "model_module": "@jupyter-widgets/base",
      "model_module_version": "1.2.0",
      "model_name": "LayoutModel",
      "state": {}
     },
     "c902ea6c03c6429c8729101b7af0db58": {
      "model_module": "@jupyter-widgets/base",
      "model_module_version": "1.2.0",
      "model_name": "LayoutModel",
      "state": {}
     },
     "c91b5690ecd944ad920a9e82e91393b0": {
      "model_module": "jupyter-matplotlib",
      "model_module_version": "^0.7.4",
      "model_name": "ToolbarModel",
      "state": {
       "layout": "IPY_MODEL_bc9017aebc504f3dae485bf7dd594e02",
       "toolitems": [
        [
         "Home",
         "Reset original view",
         "home",
         "home"
        ],
        [
         "Back",
         "Back to previous view",
         "arrow-left",
         "back"
        ],
        [
         "Forward",
         "Forward to next view",
         "arrow-right",
         "forward"
        ],
        [
         "Pan",
         "Pan axes with left mouse, zoom with right",
         "arrows",
         "pan"
        ],
        [
         "Zoom",
         "Zoom to rectangle",
         "square-o",
         "zoom"
        ],
        [
         "Download",
         "Download plot",
         "floppy-o",
         "save_figure"
        ]
       ]
      }
     },
     "ca33c93b56c5451fb071a9ba3910e8de": {
      "model_module": "jupyter-matplotlib",
      "model_module_version": "^0.7.4",
      "model_name": "ToolbarModel",
      "state": {
       "layout": "IPY_MODEL_b8e6516a51544806846279b9bb965ff3",
       "toolitems": [
        [
         "Home",
         "Reset original view",
         "home",
         "home"
        ],
        [
         "Back",
         "Back to previous view",
         "arrow-left",
         "back"
        ],
        [
         "Forward",
         "Forward to next view",
         "arrow-right",
         "forward"
        ],
        [
         "Pan",
         "Pan axes with left mouse, zoom with right",
         "arrows",
         "pan"
        ],
        [
         "Zoom",
         "Zoom to rectangle",
         "square-o",
         "zoom"
        ],
        [
         "Download",
         "Download plot",
         "floppy-o",
         "save_figure"
        ]
       ]
      }
     },
     "caaf9a584bf1450ca3c1bd253cc89890": {
      "model_module": "@jupyter-widgets/base",
      "model_module_version": "1.2.0",
      "model_name": "LayoutModel",
      "state": {}
     },
     "cb515da9b35842b183b363e2f5afbc2d": {
      "model_module": "@jupyter-widgets/base",
      "model_module_version": "1.2.0",
      "model_name": "LayoutModel",
      "state": {}
     },
     "cb64fa238e284c27b804c15d0ab00f31": {
      "model_module": "jupyter-matplotlib",
      "model_module_version": "^0.7.4",
      "model_name": "ToolbarModel",
      "state": {
       "layout": "IPY_MODEL_ee47ce8df4c0416c8f9562d25d0b6411",
       "toolitems": [
        [
         "Home",
         "Reset original view",
         "home",
         "home"
        ],
        [
         "Back",
         "Back to previous view",
         "arrow-left",
         "back"
        ],
        [
         "Forward",
         "Forward to next view",
         "arrow-right",
         "forward"
        ],
        [
         "Pan",
         "Pan axes with left mouse, zoom with right",
         "arrows",
         "pan"
        ],
        [
         "Zoom",
         "Zoom to rectangle",
         "square-o",
         "zoom"
        ],
        [
         "Download",
         "Download plot",
         "floppy-o",
         "save_figure"
        ]
       ]
      }
     },
     "cb82e615f4b04999b865800e95770091": {
      "model_module": "jupyter-matplotlib",
      "model_module_version": "^0.7.4",
      "model_name": "ToolbarModel",
      "state": {
       "layout": "IPY_MODEL_a75609010ed94306ba9e072dab9127dc",
       "toolitems": [
        [
         "Home",
         "Reset original view",
         "home",
         "home"
        ],
        [
         "Back",
         "Back to previous view",
         "arrow-left",
         "back"
        ],
        [
         "Forward",
         "Forward to next view",
         "arrow-right",
         "forward"
        ],
        [
         "Pan",
         "Pan axes with left mouse, zoom with right",
         "arrows",
         "pan"
        ],
        [
         "Zoom",
         "Zoom to rectangle",
         "square-o",
         "zoom"
        ],
        [
         "Download",
         "Download plot",
         "floppy-o",
         "save_figure"
        ]
       ]
      }
     },
     "cb8dffba814845ccbae323b8683ae2d8": {
      "model_module": "jupyter-matplotlib",
      "model_module_version": "^0.7.4",
      "model_name": "ToolbarModel",
      "state": {
       "layout": "IPY_MODEL_6a34c0c3bfc941c49c3f528949b61c88",
       "toolitems": [
        [
         "Home",
         "Reset original view",
         "home",
         "home"
        ],
        [
         "Back",
         "Back to previous view",
         "arrow-left",
         "back"
        ],
        [
         "Forward",
         "Forward to next view",
         "arrow-right",
         "forward"
        ],
        [
         "Pan",
         "Pan axes with left mouse, zoom with right",
         "arrows",
         "pan"
        ],
        [
         "Zoom",
         "Zoom to rectangle",
         "square-o",
         "zoom"
        ],
        [
         "Download",
         "Download plot",
         "floppy-o",
         "save_figure"
        ]
       ]
      }
     },
     "cc28c23189f74fd3ab82d65520dd645a": {
      "model_module": "@jupyter-widgets/base",
      "model_module_version": "1.2.0",
      "model_name": "LayoutModel",
      "state": {}
     },
     "cc70252ca37844708e53c68b9d633ce4": {
      "model_module": "jupyter-matplotlib",
      "model_module_version": "^0.7.4",
      "model_name": "MPLCanvasModel",
      "state": {
       "_cursor": "default",
       "_figure_label": "Figure 55",
       "_height": 450,
       "_image_mode": "diff",
       "_message": "x= y=18441.4     ",
       "_width": 1214,
       "layout": "IPY_MODEL_d1bc4843551d40a8b5bfecacc2104bd3",
       "toolbar": "IPY_MODEL_a27a80e46a15477fa0341ce786231bff",
       "toolbar_position": "left"
      }
     },
     "cd6dcc2085d54ddfb1a4c041eed384fe": {
      "model_module": "@jupyter-widgets/base",
      "model_module_version": "1.2.0",
      "model_name": "LayoutModel",
      "state": {}
     },
     "cef5ade23d024187ae8040a19a7d20fc": {
      "model_module": "jupyter-matplotlib",
      "model_module_version": "^0.7.4",
      "model_name": "MPLCanvasModel",
      "state": {
       "_cursor": "default",
       "_figure_label": "Figure 6",
       "_height": 500,
       "_image_mode": "diff",
       "_message": "x=184.145      y=0.756505    ",
       "_width": 1500,
       "layout": "IPY_MODEL_c3047cc766054b52b5e8d2ea5fddc76f",
       "toolbar": "IPY_MODEL_a0ac12d9c0e8456a955c3c8b92876c40",
       "toolbar_position": "left"
      }
     },
     "cf23f8f4329a47f1b64ae23c7b838b35": {
      "model_module": "jupyter-matplotlib",
      "model_module_version": "^0.7.4",
      "model_name": "ToolbarModel",
      "state": {
       "layout": "IPY_MODEL_00550d370221408ebcc0e8b79e0a76f4",
       "toolitems": [
        [
         "Home",
         "Reset original view",
         "home",
         "home"
        ],
        [
         "Back",
         "Back to previous view",
         "arrow-left",
         "back"
        ],
        [
         "Forward",
         "Forward to next view",
         "arrow-right",
         "forward"
        ],
        [
         "Pan",
         "Pan axes with left mouse, zoom with right",
         "arrows",
         "pan"
        ],
        [
         "Zoom",
         "Zoom to rectangle",
         "square-o",
         "zoom"
        ],
        [
         "Download",
         "Download plot",
         "floppy-o",
         "save_figure"
        ]
       ]
      }
     },
     "cf5011b01dbb4e8993c7e6db57e44666": {
      "model_module": "@jupyter-widgets/base",
      "model_module_version": "1.2.0",
      "model_name": "LayoutModel",
      "state": {}
     },
     "cf5f74e5616b466395f1a3f9a3bac2b7": {
      "model_module": "jupyter-matplotlib",
      "model_module_version": "^0.7.4",
      "model_name": "ToolbarModel",
      "state": {
       "layout": "IPY_MODEL_3ff151ac5564459aa9ae9b2769519aee",
       "toolitems": [
        [
         "Home",
         "Reset original view",
         "home",
         "home"
        ],
        [
         "Back",
         "Back to previous view",
         "arrow-left",
         "back"
        ],
        [
         "Forward",
         "Forward to next view",
         "arrow-right",
         "forward"
        ],
        [
         "Pan",
         "Pan axes with left mouse, zoom with right",
         "arrows",
         "pan"
        ],
        [
         "Zoom",
         "Zoom to rectangle",
         "square-o",
         "zoom"
        ],
        [
         "Download",
         "Download plot",
         "floppy-o",
         "save_figure"
        ]
       ]
      }
     },
     "d036f54b30c94fbea9290daa1fbd3004": {
      "model_module": "jupyter-matplotlib",
      "model_module_version": "^0.7.4",
      "model_name": "ToolbarModel",
      "state": {
       "layout": "IPY_MODEL_e76071644322495d8014ed3e17ad5b78",
       "toolitems": [
        [
         "Home",
         "Reset original view",
         "home",
         "home"
        ],
        [
         "Back",
         "Back to previous view",
         "arrow-left",
         "back"
        ],
        [
         "Forward",
         "Forward to next view",
         "arrow-right",
         "forward"
        ],
        [
         "Pan",
         "Pan axes with left mouse, zoom with right",
         "arrows",
         "pan"
        ],
        [
         "Zoom",
         "Zoom to rectangle",
         "square-o",
         "zoom"
        ],
        [
         "Download",
         "Download plot",
         "floppy-o",
         "save_figure"
        ]
       ]
      }
     },
     "d0d43be3827e45daa44784be35322fb7": {
      "model_module": "@jupyter-widgets/base",
      "model_module_version": "1.2.0",
      "model_name": "LayoutModel",
      "state": {}
     },
     "d0d9ef9468774e78b90cfd80f974b370": {
      "model_module": "@jupyter-widgets/base",
      "model_module_version": "1.2.0",
      "model_name": "LayoutModel",
      "state": {}
     },
     "d0f8191bb698493db4d9383be3f4ff13": {
      "model_module": "@jupyter-widgets/base",
      "model_module_version": "1.2.0",
      "model_name": "LayoutModel",
      "state": {}
     },
     "d1bc4843551d40a8b5bfecacc2104bd3": {
      "model_module": "@jupyter-widgets/base",
      "model_module_version": "1.2.0",
      "model_name": "LayoutModel",
      "state": {}
     },
     "d1eb237d41244eb691ee9293f2913a5b": {
      "model_module": "jupyter-matplotlib",
      "model_module_version": "^0.7.4",
      "model_name": "ToolbarModel",
      "state": {
       "layout": "IPY_MODEL_1ab0ca00c27a403a9db8d519502f2662",
       "toolitems": [
        [
         "Home",
         "Reset original view",
         "home",
         "home"
        ],
        [
         "Back",
         "Back to previous view",
         "arrow-left",
         "back"
        ],
        [
         "Forward",
         "Forward to next view",
         "arrow-right",
         "forward"
        ],
        [
         "Pan",
         "Pan axes with left mouse, zoom with right",
         "arrows",
         "pan"
        ],
        [
         "Zoom",
         "Zoom to rectangle",
         "square-o",
         "zoom"
        ],
        [
         "Download",
         "Download plot",
         "floppy-o",
         "save_figure"
        ]
       ]
      }
     },
     "d22f07e7805c45efbfb47f97151ac7e8": {
      "model_module": "@jupyter-widgets/base",
      "model_module_version": "1.2.0",
      "model_name": "LayoutModel",
      "state": {}
     },
     "d26bc58d10614cf9964349fc71bd1a9d": {
      "model_module": "@jupyter-widgets/base",
      "model_module_version": "1.2.0",
      "model_name": "LayoutModel",
      "state": {}
     },
     "d38bce2c639f48f7afa13b68539d88fd": {
      "model_module": "@jupyter-widgets/base",
      "model_module_version": "1.2.0",
      "model_name": "LayoutModel",
      "state": {}
     },
     "d3d332d6edbc4695a716aafc50e9ee80": {
      "model_module": "@jupyter-widgets/base",
      "model_module_version": "1.2.0",
      "model_name": "LayoutModel",
      "state": {}
     },
     "d3e9c17b4aff41a6871fb4b9ebfe9788": {
      "model_module": "@jupyter-widgets/base",
      "model_module_version": "1.2.0",
      "model_name": "LayoutModel",
      "state": {}
     },
     "d4306e20a2e942c3bcb268c751024fa4": {
      "model_module": "jupyter-matplotlib",
      "model_module_version": "^0.7.4",
      "model_name": "ToolbarModel",
      "state": {
       "layout": "IPY_MODEL_9ee014f2f4d1443c857d2efc21cd6915",
       "toolitems": [
        [
         "Home",
         "Reset original view",
         "home",
         "home"
        ],
        [
         "Back",
         "Back to previous view",
         "arrow-left",
         "back"
        ],
        [
         "Forward",
         "Forward to next view",
         "arrow-right",
         "forward"
        ],
        [
         "Pan",
         "Pan axes with left mouse, zoom with right",
         "arrows",
         "pan"
        ],
        [
         "Zoom",
         "Zoom to rectangle",
         "square-o",
         "zoom"
        ],
        [
         "Download",
         "Download plot",
         "floppy-o",
         "save_figure"
        ]
       ]
      }
     },
     "d4e48e93b3de4bcd8f7bcdf6cc5407f1": {
      "model_module": "jupyter-matplotlib",
      "model_module_version": "^0.7.4",
      "model_name": "MPLCanvasModel",
      "state": {
       "_cursor": "default",
       "_figure_label": "Figure 24",
       "_height": 450,
       "_width": 450,
       "layout": "IPY_MODEL_eb3890c4566f4ee7bb794c460ee6471f",
       "toolbar": "IPY_MODEL_48c3fa576f1945cc93a3c46df97fb027",
       "toolbar_position": "left"
      }
     },
     "d53d3bee70f94c979219631e6950292e": {
      "model_module": "@jupyter-widgets/base",
      "model_module_version": "1.2.0",
      "model_name": "LayoutModel",
      "state": {}
     },
     "d5442d1639564ff988453960121e2a5a": {
      "model_module": "jupyter-matplotlib",
      "model_module_version": "^0.7.4",
      "model_name": "MPLCanvasModel",
      "state": {
       "_cursor": "default",
       "_figure_label": "Figure 52",
       "_height": 450,
       "_image_mode": "diff",
       "_width": 1214,
       "layout": "IPY_MODEL_77ded7098bc5407ab479957a1492dd4f",
       "toolbar": "IPY_MODEL_4bf357ad843e4e3a8d4c3fa524954470",
       "toolbar_position": "left"
      }
     },
     "d54e83aeb8e44dbaa5555777392e12cc": {
      "model_module": "@jupyter-widgets/base",
      "model_module_version": "1.2.0",
      "model_name": "LayoutModel",
      "state": {}
     },
     "d644847c1d34468daa6b4ba8529ecae9": {
      "model_module": "@jupyter-widgets/base",
      "model_module_version": "1.2.0",
      "model_name": "LayoutModel",
      "state": {}
     },
     "d8cb4c18a329453d9316daac9f32c9fc": {
      "model_module": "@jupyter-widgets/base",
      "model_module_version": "1.2.0",
      "model_name": "LayoutModel",
      "state": {}
     },
     "d9d8e70c7f5b4f9698376054e1901268": {
      "model_module": "@jupyter-widgets/controls",
      "model_module_version": "1.5.0",
      "model_name": "HTMLModel",
      "state": {
       "layout": "IPY_MODEL_0b4a056807f94d9e84335c25c4c46fc9",
       "style": "IPY_MODEL_3d441bb7bda24541a717ec165251fd1e",
       "value": "Scenario Pairs:  11%"
      }
     },
     "d9dfa666c76840d1b80a408e93884fe2": {
      "model_module": "jupyter-matplotlib",
      "model_module_version": "^0.7.4",
      "model_name": "ToolbarModel",
      "state": {
       "layout": "IPY_MODEL_2d93f94f6e8f4033892ea5ef9c1b186c",
       "toolitems": [
        [
         "Home",
         "Reset original view",
         "home",
         "home"
        ],
        [
         "Back",
         "Back to previous view",
         "arrow-left",
         "back"
        ],
        [
         "Forward",
         "Forward to next view",
         "arrow-right",
         "forward"
        ],
        [
         "Pan",
         "Pan axes with left mouse, zoom with right",
         "arrows",
         "pan"
        ],
        [
         "Zoom",
         "Zoom to rectangle",
         "square-o",
         "zoom"
        ],
        [
         "Download",
         "Download plot",
         "floppy-o",
         "save_figure"
        ]
       ]
      }
     },
     "da2f08f991fb40c6a8915ba0e1d483c5": {
      "model_module": "jupyter-matplotlib",
      "model_module_version": "^0.7.4",
      "model_name": "ToolbarModel",
      "state": {
       "layout": "IPY_MODEL_dd83308a2ff947c59fd93b76bcbc745a",
       "toolitems": [
        [
         "Home",
         "Reset original view",
         "home",
         "home"
        ],
        [
         "Back",
         "Back to previous view",
         "arrow-left",
         "back"
        ],
        [
         "Forward",
         "Forward to next view",
         "arrow-right",
         "forward"
        ],
        [
         "Pan",
         "Pan axes with left mouse, zoom with right",
         "arrows",
         "pan"
        ],
        [
         "Zoom",
         "Zoom to rectangle",
         "square-o",
         "zoom"
        ],
        [
         "Download",
         "Download plot",
         "floppy-o",
         "save_figure"
        ]
       ]
      }
     },
     "da58fa0a81be4e029341271c4709c374": {
      "model_module": "jupyter-matplotlib",
      "model_module_version": "^0.7.4",
      "model_name": "ToolbarModel",
      "state": {
       "layout": "IPY_MODEL_48689524be7844c39c5f6e41e29b6084",
       "toolitems": [
        [
         "Home",
         "Reset original view",
         "home",
         "home"
        ],
        [
         "Back",
         "Back to previous view",
         "arrow-left",
         "back"
        ],
        [
         "Forward",
         "Forward to next view",
         "arrow-right",
         "forward"
        ],
        [
         "Pan",
         "Pan axes with left mouse, zoom with right",
         "arrows",
         "pan"
        ],
        [
         "Zoom",
         "Zoom to rectangle",
         "square-o",
         "zoom"
        ],
        [
         "Download",
         "Download plot",
         "floppy-o",
         "save_figure"
        ]
       ]
      }
     },
     "dbd6149eb75e42c490eff093f56c2d09": {
      "model_module": "jupyter-matplotlib",
      "model_module_version": "^0.7.4",
      "model_name": "ToolbarModel",
      "state": {
       "layout": "IPY_MODEL_dcf44d1ceb294d6d8f4fe2c308002491",
       "toolitems": [
        [
         "Home",
         "Reset original view",
         "home",
         "home"
        ],
        [
         "Back",
         "Back to previous view",
         "arrow-left",
         "back"
        ],
        [
         "Forward",
         "Forward to next view",
         "arrow-right",
         "forward"
        ],
        [
         "Pan",
         "Pan axes with left mouse, zoom with right",
         "arrows",
         "pan"
        ],
        [
         "Zoom",
         "Zoom to rectangle",
         "square-o",
         "zoom"
        ],
        [
         "Download",
         "Download plot",
         "floppy-o",
         "save_figure"
        ]
       ]
      }
     },
     "dbf85ddaf1164a1a979a4c6494cc6455": {
      "model_module": "@jupyter-widgets/base",
      "model_module_version": "1.2.0",
      "model_name": "LayoutModel",
      "state": {}
     },
     "dc2d325cfc7949babb730a329dc550de": {
      "model_module": "jupyter-matplotlib",
      "model_module_version": "^0.7.4",
      "model_name": "MPLCanvasModel",
      "state": {
       "_cursor": "default",
       "_figure_label": "Figure 27",
       "_height": 450,
       "_image_mode": "diff",
       "_message": "x= y=99823.4     ",
       "_width": 1214,
       "layout": "IPY_MODEL_3991b56eb0344a598a6bd83ca1c62fe1",
       "toolbar": "IPY_MODEL_ed9a9b1ddc5c49459a0df40d58fc9b9f",
       "toolbar_position": "left"
      }
     },
     "dc9131270cbd4a869c4b6633b88be6f6": {
      "model_module": "@jupyter-widgets/base",
      "model_module_version": "1.2.0",
      "model_name": "LayoutModel",
      "state": {}
     },
     "dccdcfaa954c44baa1598f206da71bbd": {
      "model_module": "jupyter-matplotlib",
      "model_module_version": "^0.7.4",
      "model_name": "MPLCanvasModel",
      "state": {
       "_figure_label": "Figure 37",
       "_height": 450,
       "_message": "x= y=20211.2     ",
       "_width": 1214,
       "layout": "IPY_MODEL_2edf0e25942e4b189145e26c73606d5f",
       "toolbar": "IPY_MODEL_ca33c93b56c5451fb071a9ba3910e8de",
       "toolbar_position": "left"
      }
     },
     "dcf44d1ceb294d6d8f4fe2c308002491": {
      "model_module": "@jupyter-widgets/base",
      "model_module_version": "1.2.0",
      "model_name": "LayoutModel",
      "state": {}
     },
     "dd0f561cf9744f1e89cf5093618e5c37": {
      "model_module": "jupyter-matplotlib",
      "model_module_version": "^0.7.4",
      "model_name": "MPLCanvasModel",
      "state": {
       "_cursor": "default",
       "_figure_label": "Figure 46",
       "_height": 450,
       "_image_mode": "diff",
       "_width": 1214,
       "layout": "IPY_MODEL_5037e62321a14ef3bb7b6e34a3d8514d",
       "toolbar": "IPY_MODEL_20ce43ecf92b41f7a6a214834adf5078",
       "toolbar_position": "left"
      }
     },
     "dd4319fa89a446928cb4234bc3e7f927": {
      "model_module": "@jupyter-widgets/base",
      "model_module_version": "1.2.0",
      "model_name": "LayoutModel",
      "state": {}
     },
     "dd83308a2ff947c59fd93b76bcbc745a": {
      "model_module": "@jupyter-widgets/base",
      "model_module_version": "1.2.0",
      "model_name": "LayoutModel",
      "state": {}
     },
     "ddd2badcb0de42c283fed11181581ac6": {
      "model_module": "@jupyter-widgets/base",
      "model_module_version": "1.2.0",
      "model_name": "LayoutModel",
      "state": {}
     },
     "deed2b8d09df424e85d5faf935c0ef9b": {
      "model_module": "jupyter-matplotlib",
      "model_module_version": "^0.7.4",
      "model_name": "ToolbarModel",
      "state": {
       "layout": "IPY_MODEL_16cd3b4fe7b54cf6accf6c1bd2cd7485",
       "toolitems": [
        [
         "Home",
         "Reset original view",
         "home",
         "home"
        ],
        [
         "Back",
         "Back to previous view",
         "arrow-left",
         "back"
        ],
        [
         "Forward",
         "Forward to next view",
         "arrow-right",
         "forward"
        ],
        [
         "Pan",
         "Pan axes with left mouse, zoom with right",
         "arrows",
         "pan"
        ],
        [
         "Zoom",
         "Zoom to rectangle",
         "square-o",
         "zoom"
        ],
        [
         "Download",
         "Download plot",
         "floppy-o",
         "save_figure"
        ]
       ]
      }
     },
     "df26560d2e184687a85f5f96f4b67c89": {
      "model_module": "jupyter-matplotlib",
      "model_module_version": "^0.7.4",
      "model_name": "ToolbarModel",
      "state": {
       "layout": "IPY_MODEL_61325b44827242afb88f7cef2d68b9fb",
       "toolitems": [
        [
         "Home",
         "Reset original view",
         "home",
         "home"
        ],
        [
         "Back",
         "Back to previous view",
         "arrow-left",
         "back"
        ],
        [
         "Forward",
         "Forward to next view",
         "arrow-right",
         "forward"
        ],
        [
         "Pan",
         "Pan axes with left mouse, zoom with right",
         "arrows",
         "pan"
        ],
        [
         "Zoom",
         "Zoom to rectangle",
         "square-o",
         "zoom"
        ],
        [
         "Download",
         "Download plot",
         "floppy-o",
         "save_figure"
        ]
       ]
      }
     },
     "df483632fd4d421c87c2823caf55cf0d": {
      "model_module": "@jupyter-widgets/base",
      "model_module_version": "1.2.0",
      "model_name": "LayoutModel",
      "state": {}
     },
     "e0280fc7c9434c67894f6278609d6114": {
      "model_module": "jupyter-matplotlib",
      "model_module_version": "^0.7.4",
      "model_name": "ToolbarModel",
      "state": {
       "layout": "IPY_MODEL_bb3362a8396d47c09edfd23ba24b0c3f",
       "toolitems": [
        [
         "Home",
         "Reset original view",
         "home",
         "home"
        ],
        [
         "Back",
         "Back to previous view",
         "arrow-left",
         "back"
        ],
        [
         "Forward",
         "Forward to next view",
         "arrow-right",
         "forward"
        ],
        [
         "Pan",
         "Pan axes with left mouse, zoom with right",
         "arrows",
         "pan"
        ],
        [
         "Zoom",
         "Zoom to rectangle",
         "square-o",
         "zoom"
        ],
        [
         "Download",
         "Download plot",
         "floppy-o",
         "save_figure"
        ]
       ]
      }
     },
     "e0425fda848e4d1cad5757f2c005c94c": {
      "model_module": "@jupyter-widgets/base",
      "model_module_version": "1.2.0",
      "model_name": "LayoutModel",
      "state": {}
     },
     "e09912e4535041f88eb126f42bde8380": {
      "model_module": "@jupyter-widgets/base",
      "model_module_version": "1.2.0",
      "model_name": "LayoutModel",
      "state": {}
     },
     "e173f54e473247f9bd593156850540fb": {
      "model_module": "jupyter-matplotlib",
      "model_module_version": "^0.7.4",
      "model_name": "MPLCanvasModel",
      "state": {
       "_cursor": "default",
       "_figure_label": "Figure 14",
       "_height": 500,
       "_width": 766,
       "layout": "IPY_MODEL_eb9dfedb1d934a028f3b63070e010079",
       "toolbar": "IPY_MODEL_6c6a382ed4584ed99e4f5b8b09bf405f",
       "toolbar_position": "left"
      }
     },
     "e18e5d474f894bf3a21c1f0a1fe52669": {
      "model_module": "@jupyter-widgets/base",
      "model_module_version": "1.2.0",
      "model_name": "LayoutModel",
      "state": {}
     },
     "e1bc4093254d4ae7a522426f7321f3ca": {
      "model_module": "@jupyter-widgets/base",
      "model_module_version": "1.2.0",
      "model_name": "LayoutModel",
      "state": {}
     },
     "e24da955f40a44b68d0129773bdb4d54": {
      "model_module": "@jupyter-widgets/base",
      "model_module_version": "1.2.0",
      "model_name": "LayoutModel",
      "state": {}
     },
     "e51235a45c184df6ac12c006a9fa3b07": {
      "model_module": "jupyter-matplotlib",
      "model_module_version": "^0.7.4",
      "model_name": "ToolbarModel",
      "state": {
       "layout": "IPY_MODEL_aeead69e812b44cd91a714242f9fe29b",
       "toolitems": [
        [
         "Home",
         "Reset original view",
         "home",
         "home"
        ],
        [
         "Back",
         "Back to previous view",
         "arrow-left",
         "back"
        ],
        [
         "Forward",
         "Forward to next view",
         "arrow-right",
         "forward"
        ],
        [
         "Pan",
         "Pan axes with left mouse, zoom with right",
         "arrows",
         "pan"
        ],
        [
         "Zoom",
         "Zoom to rectangle",
         "square-o",
         "zoom"
        ],
        [
         "Download",
         "Download plot",
         "floppy-o",
         "save_figure"
        ]
       ]
      }
     },
     "e6525f512fca4f9bb09aa44ec29f488b": {
      "model_module": "jupyter-matplotlib",
      "model_module_version": "^0.7.4",
      "model_name": "MPLCanvasModel",
      "state": {
       "_cursor": "default",
       "_figure_label": "Figure 59",
       "_height": 540,
       "_width": 540,
       "layout": "IPY_MODEL_72068f5133af4bf6a59da5a7027fec25",
       "toolbar": "IPY_MODEL_04ae7f5d6b36466893b2bea22f886caa",
       "toolbar_position": "left"
      }
     },
     "e66bf889fe454f079b5a41bb539c502d": {
      "model_module": "@jupyter-widgets/base",
      "model_module_version": "1.2.0",
      "model_name": "LayoutModel",
      "state": {}
     },
     "e76071644322495d8014ed3e17ad5b78": {
      "model_module": "@jupyter-widgets/base",
      "model_module_version": "1.2.0",
      "model_name": "LayoutModel",
      "state": {}
     },
     "e7b677e9e80642f0818080c106e56535": {
      "model_module": "@jupyter-widgets/base",
      "model_module_version": "1.2.0",
      "model_name": "LayoutModel",
      "state": {}
     },
     "e7f18751b21743e88353f11b74f8e17f": {
      "model_module": "jupyter-matplotlib",
      "model_module_version": "^0.7.4",
      "model_name": "ToolbarModel",
      "state": {
       "layout": "IPY_MODEL_44c398d728bd41aabc02dc47f62fd0ff",
       "toolitems": [
        [
         "Home",
         "Reset original view",
         "home",
         "home"
        ],
        [
         "Back",
         "Back to previous view",
         "arrow-left",
         "back"
        ],
        [
         "Forward",
         "Forward to next view",
         "arrow-right",
         "forward"
        ],
        [
         "Pan",
         "Pan axes with left mouse, zoom with right",
         "arrows",
         "pan"
        ],
        [
         "Zoom",
         "Zoom to rectangle",
         "square-o",
         "zoom"
        ],
        [
         "Download",
         "Download plot",
         "floppy-o",
         "save_figure"
        ]
       ]
      }
     },
     "e815c03041eb4e8f9c4577f442043391": {
      "model_module": "@jupyter-widgets/base",
      "model_module_version": "1.2.0",
      "model_name": "LayoutModel",
      "state": {}
     },
     "e8758e26d412474ba265c7cf3c5400b1": {
      "model_module": "jupyter-matplotlib",
      "model_module_version": "^0.7.4",
      "model_name": "ToolbarModel",
      "state": {
       "layout": "IPY_MODEL_825ea4728f3242cfa7a42eca5af243a8",
       "toolitems": [
        [
         "Home",
         "Reset original view",
         "home",
         "home"
        ],
        [
         "Back",
         "Back to previous view",
         "arrow-left",
         "back"
        ],
        [
         "Forward",
         "Forward to next view",
         "arrow-right",
         "forward"
        ],
        [
         "Pan",
         "Pan axes with left mouse, zoom with right",
         "arrows",
         "pan"
        ],
        [
         "Zoom",
         "Zoom to rectangle",
         "square-o",
         "zoom"
        ],
        [
         "Download",
         "Download plot",
         "floppy-o",
         "save_figure"
        ]
       ]
      }
     },
     "e9e6ee84cbad4f82957f4fda874b0335": {
      "model_module": "@jupyter-widgets/base",
      "model_module_version": "1.2.0",
      "model_name": "LayoutModel",
      "state": {}
     },
     "eaca3ff7e1a3491f8d9279d52f414c2f": {
      "model_module": "jupyter-matplotlib",
      "model_module_version": "^0.7.4",
      "model_name": "MPLCanvasModel",
      "state": {
       "_cursor": "default",
       "_figure_label": "Figure 51",
       "_height": 450,
       "_image_mode": "diff",
       "_message": "x= y=113939      ",
       "_width": 1214,
       "layout": "IPY_MODEL_c5244f7afa324d34bf635c75a9dedc35",
       "toolbar": "IPY_MODEL_1ce892248dd64c1abffa830671ebc686",
       "toolbar_position": "left"
      }
     },
     "eb0047e5f0a14d0ea898ebe5d178005d": {
      "model_module": "@jupyter-widgets/base",
      "model_module_version": "1.2.0",
      "model_name": "LayoutModel",
      "state": {}
     },
     "eb195057b6d04faea3fac77b8b5f6819": {
      "model_module": "@jupyter-widgets/base",
      "model_module_version": "1.2.0",
      "model_name": "LayoutModel",
      "state": {}
     },
     "eb29e5a09f6c4c28b1c9e0157ec0e413": {
      "model_module": "@jupyter-widgets/base",
      "model_module_version": "1.2.0",
      "model_name": "LayoutModel",
      "state": {}
     },
     "eb3890c4566f4ee7bb794c460ee6471f": {
      "model_module": "@jupyter-widgets/base",
      "model_module_version": "1.2.0",
      "model_name": "LayoutModel",
      "state": {}
     },
     "eb9dfedb1d934a028f3b63070e010079": {
      "model_module": "@jupyter-widgets/base",
      "model_module_version": "1.2.0",
      "model_name": "LayoutModel",
      "state": {}
     },
     "ebb56368ee13495086c596a79f9e154c": {
      "model_module": "jupyter-matplotlib",
      "model_module_version": "^0.7.4",
      "model_name": "MPLCanvasModel",
      "state": {
       "_cursor": "default",
       "_figure_label": "Figure 36",
       "_height": 450,
       "_image_mode": "diff",
       "_message": "x= y=24435.4     ",
       "_width": 1214,
       "layout": "IPY_MODEL_0d86737b67b64aac95a745453908a51d",
       "toolbar": "IPY_MODEL_ed118342e303437ab312838dfd4ef5f6",
       "toolbar_position": "left"
      }
     },
     "ebfd0454f58d486b8552da3465d1a503": {
      "model_module": "jupyter-matplotlib",
      "model_module_version": "^0.7.4",
      "model_name": "MPLCanvasModel",
      "state": {
       "_cursor": "default",
       "_figure_label": "Figure 34",
       "_height": 450,
       "_width": 1214,
       "layout": "IPY_MODEL_310371e8426f42de912ab1b3138c5c2f",
       "toolbar": "IPY_MODEL_396294261b87463cbf31a13cc3f1b098",
       "toolbar_position": "left"
      }
     },
     "ec30e7ddf55542818331b5e0cec067ba": {
      "model_module": "@jupyter-widgets/base",
      "model_module_version": "1.2.0",
      "model_name": "LayoutModel",
      "state": {}
     },
     "ec58ff6808b747ff80ca66d39bb6f8cb": {
      "model_module": "jupyter-matplotlib",
      "model_module_version": "^0.7.4",
      "model_name": "ToolbarModel",
      "state": {
       "layout": "IPY_MODEL_02bd1a4ee85c4d3c85e1afe62b64d22e",
       "toolitems": [
        [
         "Home",
         "Reset original view",
         "home",
         "home"
        ],
        [
         "Back",
         "Back to previous view",
         "arrow-left",
         "back"
        ],
        [
         "Forward",
         "Forward to next view",
         "arrow-right",
         "forward"
        ],
        [
         "Pan",
         "Pan axes with left mouse, zoom with right",
         "arrows",
         "pan"
        ],
        [
         "Zoom",
         "Zoom to rectangle",
         "square-o",
         "zoom"
        ],
        [
         "Download",
         "Download plot",
         "floppy-o",
         "save_figure"
        ]
       ]
      }
     },
     "ecbb8205fc1f4002bb378f237028432e": {
      "model_module": "@jupyter-widgets/base",
      "model_module_version": "1.2.0",
      "model_name": "LayoutModel",
      "state": {}
     },
     "ed118342e303437ab312838dfd4ef5f6": {
      "model_module": "jupyter-matplotlib",
      "model_module_version": "^0.7.4",
      "model_name": "ToolbarModel",
      "state": {
       "layout": "IPY_MODEL_a4910d40604848fb98d401770a26f010",
       "toolitems": [
        [
         "Home",
         "Reset original view",
         "home",
         "home"
        ],
        [
         "Back",
         "Back to previous view",
         "arrow-left",
         "back"
        ],
        [
         "Forward",
         "Forward to next view",
         "arrow-right",
         "forward"
        ],
        [
         "Pan",
         "Pan axes with left mouse, zoom with right",
         "arrows",
         "pan"
        ],
        [
         "Zoom",
         "Zoom to rectangle",
         "square-o",
         "zoom"
        ],
        [
         "Download",
         "Download plot",
         "floppy-o",
         "save_figure"
        ]
       ]
      }
     },
     "ed15e1d7b69147a7974a2e7fa95fe961": {
      "model_module": "jupyter-matplotlib",
      "model_module_version": "^0.7.4",
      "model_name": "MPLCanvasModel",
      "state": {
       "_cursor": "default",
       "_figure_label": "Figure 47",
       "_height": 450,
       "_image_mode": "diff",
       "_message": "x= y=84729.8     ",
       "_width": 1214,
       "layout": "IPY_MODEL_bba90499bb094fd6b842da0233997ad7",
       "toolbar": "IPY_MODEL_4883b4da82bf421f86a0bdea1d4708ed",
       "toolbar_position": "left"
      }
     },
     "ed645a8f72904f958f63fe6a2a1487b6": {
      "model_module": "jupyter-matplotlib",
      "model_module_version": "^0.7.4",
      "model_name": "ToolbarModel",
      "state": {
       "layout": "IPY_MODEL_7204112fbb634628a8cb6594fd59dbba",
       "toolitems": [
        [
         "Home",
         "Reset original view",
         "home",
         "home"
        ],
        [
         "Back",
         "Back to previous view",
         "arrow-left",
         "back"
        ],
        [
         "Forward",
         "Forward to next view",
         "arrow-right",
         "forward"
        ],
        [
         "Pan",
         "Pan axes with left mouse, zoom with right",
         "arrows",
         "pan"
        ],
        [
         "Zoom",
         "Zoom to rectangle",
         "square-o",
         "zoom"
        ],
        [
         "Download",
         "Download plot",
         "floppy-o",
         "save_figure"
        ]
       ]
      }
     },
     "ed882ee979f14a089b4c96501f8651de": {
      "model_module": "@jupyter-widgets/base",
      "model_module_version": "1.2.0",
      "model_name": "LayoutModel",
      "state": {}
     },
     "ed9a9b1ddc5c49459a0df40d58fc9b9f": {
      "model_module": "jupyter-matplotlib",
      "model_module_version": "^0.7.4",
      "model_name": "ToolbarModel",
      "state": {
       "layout": "IPY_MODEL_8d12ee119b354c97b8dab0e1101d6f8c",
       "toolitems": [
        [
         "Home",
         "Reset original view",
         "home",
         "home"
        ],
        [
         "Back",
         "Back to previous view",
         "arrow-left",
         "back"
        ],
        [
         "Forward",
         "Forward to next view",
         "arrow-right",
         "forward"
        ],
        [
         "Pan",
         "Pan axes with left mouse, zoom with right",
         "arrows",
         "pan"
        ],
        [
         "Zoom",
         "Zoom to rectangle",
         "square-o",
         "zoom"
        ],
        [
         "Download",
         "Download plot",
         "floppy-o",
         "save_figure"
        ]
       ]
      }
     },
     "edb299f4e0da4097957a8b30c134e033": {
      "model_module": "jupyter-matplotlib",
      "model_module_version": "^0.7.4",
      "model_name": "ToolbarModel",
      "state": {
       "layout": "IPY_MODEL_0312474c1b0344509cd86ee92f974dc4",
       "toolitems": [
        [
         "Home",
         "Reset original view",
         "home",
         "home"
        ],
        [
         "Back",
         "Back to previous view",
         "arrow-left",
         "back"
        ],
        [
         "Forward",
         "Forward to next view",
         "arrow-right",
         "forward"
        ],
        [
         "Pan",
         "Pan axes with left mouse, zoom with right",
         "arrows",
         "pan"
        ],
        [
         "Zoom",
         "Zoom to rectangle",
         "square-o",
         "zoom"
        ],
        [
         "Download",
         "Download plot",
         "floppy-o",
         "save_figure"
        ]
       ]
      }
     },
     "edc2e35831a440dfbc0aa40d97462ad2": {
      "model_module": "@jupyter-widgets/base",
      "model_module_version": "1.2.0",
      "model_name": "LayoutModel",
      "state": {}
     },
     "ee47ce8df4c0416c8f9562d25d0b6411": {
      "model_module": "@jupyter-widgets/base",
      "model_module_version": "1.2.0",
      "model_name": "LayoutModel",
      "state": {}
     },
     "eed588480e85435a9ed2ae240cb4cf2c": {
      "model_module": "@jupyter-widgets/base",
      "model_module_version": "1.2.0",
      "model_name": "LayoutModel",
      "state": {}
     },
     "ef6cb6e0057246488fd01e4a58a30e80": {
      "model_module": "@jupyter-widgets/base",
      "model_module_version": "1.2.0",
      "model_name": "LayoutModel",
      "state": {}
     },
     "efad3b1d988042a4b16d462916ca9ade": {
      "model_module": "jupyter-matplotlib",
      "model_module_version": "^0.7.4",
      "model_name": "ToolbarModel",
      "state": {
       "layout": "IPY_MODEL_39d35ce36a0443c29cb6c2c2b64e9130",
       "toolitems": [
        [
         "Home",
         "Reset original view",
         "home",
         "home"
        ],
        [
         "Back",
         "Back to previous view",
         "arrow-left",
         "back"
        ],
        [
         "Forward",
         "Forward to next view",
         "arrow-right",
         "forward"
        ],
        [
         "Pan",
         "Pan axes with left mouse, zoom with right",
         "arrows",
         "pan"
        ],
        [
         "Zoom",
         "Zoom to rectangle",
         "square-o",
         "zoom"
        ],
        [
         "Download",
         "Download plot",
         "floppy-o",
         "save_figure"
        ]
       ]
      }
     },
     "f0c8226dca84413eb64c5b3d373af083": {
      "model_module": "@jupyter-widgets/base",
      "model_module_version": "1.2.0",
      "model_name": "LayoutModel",
      "state": {}
     },
     "f2b1d2fc826449b9a975c792565b72ad": {
      "model_module": "@jupyter-widgets/base",
      "model_module_version": "1.2.0",
      "model_name": "LayoutModel",
      "state": {}
     },
     "f3116b94812648a9a960a13565a21b10": {
      "model_module": "jupyter-matplotlib",
      "model_module_version": "^0.7.4",
      "model_name": "ToolbarModel",
      "state": {
       "layout": "IPY_MODEL_86ef610020de49ed8c6103bc47e7468f",
       "toolitems": [
        [
         "Home",
         "Reset original view",
         "home",
         "home"
        ],
        [
         "Back",
         "Back to previous view",
         "arrow-left",
         "back"
        ],
        [
         "Forward",
         "Forward to next view",
         "arrow-right",
         "forward"
        ],
        [
         "Pan",
         "Pan axes with left mouse, zoom with right",
         "arrows",
         "pan"
        ],
        [
         "Zoom",
         "Zoom to rectangle",
         "square-o",
         "zoom"
        ],
        [
         "Download",
         "Download plot",
         "floppy-o",
         "save_figure"
        ]
       ]
      }
     },
     "f32bc7cf0ffc4c2f948a674897d4689a": {
      "model_module": "jupyter-matplotlib",
      "model_module_version": "^0.7.4",
      "model_name": "ToolbarModel",
      "state": {
       "layout": "IPY_MODEL_0992318fc73c476b971f3d7a95188166",
       "toolitems": [
        [
         "Home",
         "Reset original view",
         "home",
         "home"
        ],
        [
         "Back",
         "Back to previous view",
         "arrow-left",
         "back"
        ],
        [
         "Forward",
         "Forward to next view",
         "arrow-right",
         "forward"
        ],
        [
         "Pan",
         "Pan axes with left mouse, zoom with right",
         "arrows",
         "pan"
        ],
        [
         "Zoom",
         "Zoom to rectangle",
         "square-o",
         "zoom"
        ],
        [
         "Download",
         "Download plot",
         "floppy-o",
         "save_figure"
        ]
       ]
      }
     },
     "f3d3cbd544704464bf46123141d8578f": {
      "model_module": "@jupyter-widgets/base",
      "model_module_version": "1.2.0",
      "model_name": "LayoutModel",
      "state": {}
     },
     "f3f35f90d7354614b9c69f49fb426753": {
      "model_module": "@jupyter-widgets/base",
      "model_module_version": "1.2.0",
      "model_name": "LayoutModel",
      "state": {}
     },
     "f4d666d62a344594a6c1a79595c495a3": {
      "model_module": "jupyter-matplotlib",
      "model_module_version": "^0.7.4",
      "model_name": "MPLCanvasModel",
      "state": {
       "_cursor": "default",
       "_figure_label": "Figure 19",
       "_height": 450,
       "_image_mode": "diff",
       "_message": "x= y=27804.3     ",
       "_width": 1214,
       "layout": "IPY_MODEL_7393a020d024425aa61fdec1a3ff857f",
       "toolbar": "IPY_MODEL_401d301fc1f34183a1fd7f4a7106f20f",
       "toolbar_position": "left"
      }
     },
     "f5a9256bf25f4cb2917549435d5aafb1": {
      "model_module": "@jupyter-widgets/base",
      "model_module_version": "1.2.0",
      "model_name": "LayoutModel",
      "state": {}
     },
     "f5f14084b16741a1b0de28bed5b5013d": {
      "model_module": "jupyter-matplotlib",
      "model_module_version": "^0.7.4",
      "model_name": "MPLCanvasModel",
      "state": {
       "_cursor": "default",
       "_figure_label": "Figure 45",
       "_height": 450,
       "_width": 1214,
       "layout": "IPY_MODEL_83311cb7fc944b85b817365dfb89d64d",
       "toolbar": "IPY_MODEL_0a606e7ffecb4232a637d2fed92b87a7",
       "toolbar_position": "left"
      }
     },
     "f6a0d820bd194d73b3d05eb2fae86480": {
      "model_module": "@jupyter-widgets/base",
      "model_module_version": "1.2.0",
      "model_name": "LayoutModel",
      "state": {}
     },
     "f769ce3af3204dceb14bfb6ff9fce960": {
      "model_module": "@jupyter-widgets/base",
      "model_module_version": "1.2.0",
      "model_name": "LayoutModel",
      "state": {}
     },
     "f79b8ab55c4049768d32ba99794a6a55": {
      "model_module": "@jupyter-widgets/base",
      "model_module_version": "1.2.0",
      "model_name": "LayoutModel",
      "state": {}
     },
     "f82443f5bbef4cf8aafa5f084ec60a7f": {
      "model_module": "jupyter-matplotlib",
      "model_module_version": "^0.7.4",
      "model_name": "MPLCanvasModel",
      "state": {
       "_height": 450,
       "_width": 1214,
       "layout": "IPY_MODEL_f0c8226dca84413eb64c5b3d373af083",
       "toolbar": "IPY_MODEL_7611d3bc101e442a9978a19d710d0c13",
       "toolbar_position": "left"
      }
     },
     "fa1ec7464db24de1be4400ad962b2c13": {
      "model_module": "@jupyter-widgets/base",
      "model_module_version": "1.2.0",
      "model_name": "LayoutModel",
      "state": {}
     },
     "faa80d9ab6914de8838d017d2790917f": {
      "model_module": "jupyter-matplotlib",
      "model_module_version": "^0.7.4",
      "model_name": "MPLCanvasModel",
      "state": {
       "_cursor": "default",
       "_figure_label": "Figure 21",
       "_height": 450,
       "_image_mode": "diff",
       "_width": 900,
       "layout": "IPY_MODEL_53408e9effa647f89e5fb1559488f3d5",
       "toolbar": "IPY_MODEL_e8758e26d412474ba265c7cf3c5400b1",
       "toolbar_position": "left"
      }
     },
     "fab4e586167142b4915f20ed942a934c": {
      "model_module": "jupyter-matplotlib",
      "model_module_version": "^0.7.4",
      "model_name": "ToolbarModel",
      "state": {
       "layout": "IPY_MODEL_0fc8777fbf4d415ebd4a4bb85e4ac3b1",
       "toolitems": [
        [
         "Home",
         "Reset original view",
         "home",
         "home"
        ],
        [
         "Back",
         "Back to previous view",
         "arrow-left",
         "back"
        ],
        [
         "Forward",
         "Forward to next view",
         "arrow-right",
         "forward"
        ],
        [
         "Pan",
         "Pan axes with left mouse, zoom with right",
         "arrows",
         "pan"
        ],
        [
         "Zoom",
         "Zoom to rectangle",
         "square-o",
         "zoom"
        ],
        [
         "Download",
         "Download plot",
         "floppy-o",
         "save_figure"
        ]
       ]
      }
     },
     "fc1c97dadd7e45c2a9a924f32b645178": {
      "model_module": "@jupyter-widgets/base",
      "model_module_version": "1.2.0",
      "model_name": "LayoutModel",
      "state": {}
     },
     "fcbac9e435334fe9a947e8a2c235a576": {
      "model_module": "jupyter-matplotlib",
      "model_module_version": "^0.7.4",
      "model_name": "ToolbarModel",
      "state": {
       "layout": "IPY_MODEL_2bb3ae5c567b4f16a25b6123c485f77d",
       "toolitems": [
        [
         "Home",
         "Reset original view",
         "home",
         "home"
        ],
        [
         "Back",
         "Back to previous view",
         "arrow-left",
         "back"
        ],
        [
         "Forward",
         "Forward to next view",
         "arrow-right",
         "forward"
        ],
        [
         "Pan",
         "Pan axes with left mouse, zoom with right",
         "arrows",
         "pan"
        ],
        [
         "Zoom",
         "Zoom to rectangle",
         "square-o",
         "zoom"
        ],
        [
         "Download",
         "Download plot",
         "floppy-o",
         "save_figure"
        ]
       ]
      }
     },
     "fd3129b7a7554d328c6dbc3c93d4e1f3": {
      "model_module": "@jupyter-widgets/base",
      "model_module_version": "1.2.0",
      "model_name": "LayoutModel",
      "state": {}
     },
     "ff93512c693046cf9ba093d585718fc5": {
      "model_module": "@jupyter-widgets/base",
      "model_module_version": "1.2.0",
      "model_name": "LayoutModel",
      "state": {}
     },
     "ffb63b8e74f442bf82d6370acc18aa62": {
      "model_module": "@jupyter-widgets/base",
      "model_module_version": "1.2.0",
      "model_name": "LayoutModel",
      "state": {}
     }
    },
    "version_major": 2,
    "version_minor": 0
   }
  }
 },
 "nbformat": 4,
 "nbformat_minor": 4
}
